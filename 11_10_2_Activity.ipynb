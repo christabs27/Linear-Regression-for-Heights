{
  "cells": [
    {
      "cell_type": "markdown",
      "metadata": {
        "id": "view-in-github",
        "colab_type": "text"
      },
      "source": [
        "<a href=\"https://colab.research.google.com/github/christabs27/Linear-Regression-for-Heights/blob/main/11_10_2_Activity.ipynb\" target=\"_parent\"><img src=\"https://colab.research.google.com/assets/colab-badge.svg\" alt=\"Open In Colab\"/></a>"
      ]
    },
    {
      "cell_type": "markdown",
      "metadata": {
        "id": "jtDfDnucNFhM"
      },
      "source": [
        "#Lesson 11.10.2 Activity\n",
        "\n",
        "##Breast Cancer Detection\n",
        "\n",
        "###According to the American Cancer Society:\n",
        "\n",
        "According to the <a href=\"https://www.cancer.org/cancer/breast-cancer/about/how-common-is-breast-cancer.html\">American Cancer Society (n.d.)</a>, breast cancer is the second-most common type of cancer diagnosed in American women, behind only skin cancers. The average risk of a woman in the United States developing breast cancer sometime in her life is about 13%. This means there is a 1 in 8 chance that she will develop breast cancer.\n",
        "\n",
        "Mammograms are used to detect breast cancer, hopefully at an early stage; however, many masses that appear on a mammogram are not actually cancerous. Developing a machine learning model to predict whether a tumor is benign or cancerous would be helpful for physicians as they guide and treat patients.\n",
        "\n",
        "For this activity, you'll revisit the full dataset, which contains the mean, standard deviation (SD), and *worst* value of each tumor measurement.\n",
        "\n",
        "There are a number of factors, and many of them are clearly related to one another. In this activity, youu will use principal component analysis (PCA) to transform this very large set of features into a much smaller set of principal components that still do a good job predicting which tumors are cancerous and which are benign."
      ]
    },
    {
      "cell_type": "markdown",
      "metadata": {
        "id": "YVDbdDBDQVoS"
      },
      "source": [
        "#Step 1: Download and Save the `cancer_full.csv` Data Set from the Class Resources  \n",
        "\n",
        "* Make a note of where you saved the file on your computer."
      ]
    },
    {
      "cell_type": "markdown",
      "metadata": {
        "id": "63UbfVKeQfsl"
      },
      "source": [
        "#Step 2: Upload the `cancer_full.csv` Data Set by Running the Following Code Block \n",
        "\n",
        "* When prompted, navigate to where you saved the `cancer_full.csv` data set on your computer. Select the file. "
      ]
    },
    {
      "cell_type": "code",
      "metadata": {
        "id": "bxSC_MgQQUis",
        "colab": {
          "base_uri": "https://localhost:8080/",
          "height": 73
        },
        "outputId": "76abab49-e6f7-4319-f728-7dd8f861f5c2"
      },
      "source": [
        "#Step 2\n",
        "\n",
        "from google.colab import files\n",
        "cancer_full = files.upload()"
      ],
      "execution_count": 1,
      "outputs": [
        {
          "output_type": "display_data",
          "data": {
            "text/plain": [
              "<IPython.core.display.HTML object>"
            ],
            "text/html": [
              "\n",
              "     <input type=\"file\" id=\"files-438d160b-48c4-4193-9498-e2a021a18cbd\" name=\"files[]\" multiple disabled\n",
              "        style=\"border:none\" />\n",
              "     <output id=\"result-438d160b-48c4-4193-9498-e2a021a18cbd\">\n",
              "      Upload widget is only available when the cell has been executed in the\n",
              "      current browser session. Please rerun this cell to enable.\n",
              "      </output>\n",
              "      <script>// Copyright 2017 Google LLC\n",
              "//\n",
              "// Licensed under the Apache License, Version 2.0 (the \"License\");\n",
              "// you may not use this file except in compliance with the License.\n",
              "// You may obtain a copy of the License at\n",
              "//\n",
              "//      http://www.apache.org/licenses/LICENSE-2.0\n",
              "//\n",
              "// Unless required by applicable law or agreed to in writing, software\n",
              "// distributed under the License is distributed on an \"AS IS\" BASIS,\n",
              "// WITHOUT WARRANTIES OR CONDITIONS OF ANY KIND, either express or implied.\n",
              "// See the License for the specific language governing permissions and\n",
              "// limitations under the License.\n",
              "\n",
              "/**\n",
              " * @fileoverview Helpers for google.colab Python module.\n",
              " */\n",
              "(function(scope) {\n",
              "function span(text, styleAttributes = {}) {\n",
              "  const element = document.createElement('span');\n",
              "  element.textContent = text;\n",
              "  for (const key of Object.keys(styleAttributes)) {\n",
              "    element.style[key] = styleAttributes[key];\n",
              "  }\n",
              "  return element;\n",
              "}\n",
              "\n",
              "// Max number of bytes which will be uploaded at a time.\n",
              "const MAX_PAYLOAD_SIZE = 100 * 1024;\n",
              "\n",
              "function _uploadFiles(inputId, outputId) {\n",
              "  const steps = uploadFilesStep(inputId, outputId);\n",
              "  const outputElement = document.getElementById(outputId);\n",
              "  // Cache steps on the outputElement to make it available for the next call\n",
              "  // to uploadFilesContinue from Python.\n",
              "  outputElement.steps = steps;\n",
              "\n",
              "  return _uploadFilesContinue(outputId);\n",
              "}\n",
              "\n",
              "// This is roughly an async generator (not supported in the browser yet),\n",
              "// where there are multiple asynchronous steps and the Python side is going\n",
              "// to poll for completion of each step.\n",
              "// This uses a Promise to block the python side on completion of each step,\n",
              "// then passes the result of the previous step as the input to the next step.\n",
              "function _uploadFilesContinue(outputId) {\n",
              "  const outputElement = document.getElementById(outputId);\n",
              "  const steps = outputElement.steps;\n",
              "\n",
              "  const next = steps.next(outputElement.lastPromiseValue);\n",
              "  return Promise.resolve(next.value.promise).then((value) => {\n",
              "    // Cache the last promise value to make it available to the next\n",
              "    // step of the generator.\n",
              "    outputElement.lastPromiseValue = value;\n",
              "    return next.value.response;\n",
              "  });\n",
              "}\n",
              "\n",
              "/**\n",
              " * Generator function which is called between each async step of the upload\n",
              " * process.\n",
              " * @param {string} inputId Element ID of the input file picker element.\n",
              " * @param {string} outputId Element ID of the output display.\n",
              " * @return {!Iterable<!Object>} Iterable of next steps.\n",
              " */\n",
              "function* uploadFilesStep(inputId, outputId) {\n",
              "  const inputElement = document.getElementById(inputId);\n",
              "  inputElement.disabled = false;\n",
              "\n",
              "  const outputElement = document.getElementById(outputId);\n",
              "  outputElement.innerHTML = '';\n",
              "\n",
              "  const pickedPromise = new Promise((resolve) => {\n",
              "    inputElement.addEventListener('change', (e) => {\n",
              "      resolve(e.target.files);\n",
              "    });\n",
              "  });\n",
              "\n",
              "  const cancel = document.createElement('button');\n",
              "  inputElement.parentElement.appendChild(cancel);\n",
              "  cancel.textContent = 'Cancel upload';\n",
              "  const cancelPromise = new Promise((resolve) => {\n",
              "    cancel.onclick = () => {\n",
              "      resolve(null);\n",
              "    };\n",
              "  });\n",
              "\n",
              "  // Wait for the user to pick the files.\n",
              "  const files = yield {\n",
              "    promise: Promise.race([pickedPromise, cancelPromise]),\n",
              "    response: {\n",
              "      action: 'starting',\n",
              "    }\n",
              "  };\n",
              "\n",
              "  cancel.remove();\n",
              "\n",
              "  // Disable the input element since further picks are not allowed.\n",
              "  inputElement.disabled = true;\n",
              "\n",
              "  if (!files) {\n",
              "    return {\n",
              "      response: {\n",
              "        action: 'complete',\n",
              "      }\n",
              "    };\n",
              "  }\n",
              "\n",
              "  for (const file of files) {\n",
              "    const li = document.createElement('li');\n",
              "    li.append(span(file.name, {fontWeight: 'bold'}));\n",
              "    li.append(span(\n",
              "        `(${file.type || 'n/a'}) - ${file.size} bytes, ` +\n",
              "        `last modified: ${\n",
              "            file.lastModifiedDate ? file.lastModifiedDate.toLocaleDateString() :\n",
              "                                    'n/a'} - `));\n",
              "    const percent = span('0% done');\n",
              "    li.appendChild(percent);\n",
              "\n",
              "    outputElement.appendChild(li);\n",
              "\n",
              "    const fileDataPromise = new Promise((resolve) => {\n",
              "      const reader = new FileReader();\n",
              "      reader.onload = (e) => {\n",
              "        resolve(e.target.result);\n",
              "      };\n",
              "      reader.readAsArrayBuffer(file);\n",
              "    });\n",
              "    // Wait for the data to be ready.\n",
              "    let fileData = yield {\n",
              "      promise: fileDataPromise,\n",
              "      response: {\n",
              "        action: 'continue',\n",
              "      }\n",
              "    };\n",
              "\n",
              "    // Use a chunked sending to avoid message size limits. See b/62115660.\n",
              "    let position = 0;\n",
              "    do {\n",
              "      const length = Math.min(fileData.byteLength - position, MAX_PAYLOAD_SIZE);\n",
              "      const chunk = new Uint8Array(fileData, position, length);\n",
              "      position += length;\n",
              "\n",
              "      const base64 = btoa(String.fromCharCode.apply(null, chunk));\n",
              "      yield {\n",
              "        response: {\n",
              "          action: 'append',\n",
              "          file: file.name,\n",
              "          data: base64,\n",
              "        },\n",
              "      };\n",
              "\n",
              "      let percentDone = fileData.byteLength === 0 ?\n",
              "          100 :\n",
              "          Math.round((position / fileData.byteLength) * 100);\n",
              "      percent.textContent = `${percentDone}% done`;\n",
              "\n",
              "    } while (position < fileData.byteLength);\n",
              "  }\n",
              "\n",
              "  // All done.\n",
              "  yield {\n",
              "    response: {\n",
              "      action: 'complete',\n",
              "    }\n",
              "  };\n",
              "}\n",
              "\n",
              "scope.google = scope.google || {};\n",
              "scope.google.colab = scope.google.colab || {};\n",
              "scope.google.colab._files = {\n",
              "  _uploadFiles,\n",
              "  _uploadFilesContinue,\n",
              "};\n",
              "})(self);\n",
              "</script> "
            ]
          },
          "metadata": {}
        },
        {
          "output_type": "stream",
          "name": "stdout",
          "text": [
            "Saving cancer_full.csv to cancer_full.csv\n"
          ]
        }
      ]
    },
    {
      "cell_type": "markdown",
      "metadata": {
        "id": "6mQ3_VhcR1WN"
      },
      "source": [
        "#Step 3: Import the necessary packages.\n",
        "Import the following packages:\n",
        "```\n",
        "import pandas as pd\n",
        "import matplotlib.pyplot as plt\n",
        "from sklearn.model_selection import train_test_split\n",
        "from sklearn.linear_model import LogisticRegression\n",
        "from sklearn.preprocessing import StandardScaler\n",
        "from sklearn.pipeline import Pipeline\n",
        "from sklearn.model_selection import cross_val_score\n",
        "from sklearn.decomposition import PCA\n",
        "import numpy as np\n",
        "```"
      ]
    },
    {
      "cell_type": "code",
      "metadata": {
        "id": "oGQsWu2bRpp6"
      },
      "source": [
        "#Step 3\n",
        "import pandas as pd\n",
        "import matplotlib.pyplot as plt\n",
        "from sklearn.model_selection import train_test_split\n",
        "from sklearn.linear_model import LogisticRegression\n",
        "from sklearn.preprocessing import StandardScaler\n",
        "from sklearn.pipeline import Pipeline\n",
        "from sklearn.model_selection import cross_val_score\n",
        "from sklearn.decomposition import PCA\n",
        "import numpy as np\n",
        "\n"
      ],
      "execution_count": 2,
      "outputs": []
    },
    {
      "cell_type": "markdown",
      "metadata": {
        "id": "N3aT3Y28TLRX"
      },
      "source": [
        "# Step 4: Prepare the Data \n",
        "* Run the following code block to complete all of the steps necessary to prepare the data for modeling.\n",
        "* As a reminder, you'll be recasting the diagnosis as a numeric rather than character variable, splitting the data into the target vector and feature matrix, and then splitting the data into training and test sets."
      ]
    },
    {
      "cell_type": "code",
      "metadata": {
        "id": "zR3wX0-OTach"
      },
      "source": [
        "#Step 4\n",
        "\n",
        "cancer_full = pd.read_csv('cancer_full.csv')\n",
        "\n",
        "cancer_full.loc[cancer_full['diagnosis'] == 'M', 'cancer_present'] = 1\n",
        "cancer_full.loc[cancer_full['diagnosis'] == 'B', 'cancer_present'] = 0\n",
        "\n",
        "y = cancer_full['cancer_present']\n",
        "X = cancer_full.drop(['id','diagnosis','cancer_present'], axis=1)\n",
        "\n",
        "X_train, X_test, y_train, y_test = train_test_split(X, y, test_size=0.25, random_state=42)\n"
      ],
      "execution_count": 3,
      "outputs": []
    },
    {
      "cell_type": "markdown",
      "metadata": {
        "id": "cc0hcx6cMZGI"
      },
      "source": [
        "#Step 5: Standardize the Data\n",
        "* It is very important to standardize the quantitative features before using PCA. In earlier modules the cancer measurements were shown to be on very different scales.\n",
        "* The training and test data sets will need to be standardized separately. You can standardize the training data with the following code: \n",
        "\n",
        "```\n",
        "X_train_s = StandardScaler().fit_transform(X_train)\n",
        "```\n",
        "\n",
        "* In the code block below, standardize both `X_train` and `X_test`. Name the results `X_train_s` and `X_test_s`, respectively."
      ]
    },
    {
      "cell_type": "code",
      "source": [
        "#Step 5\n",
        "X_train_s = StandardScaler().fit_transform(X_train)\n"
      ],
      "metadata": {
        "id": "QT9w1QY6bExn"
      },
      "execution_count": 4,
      "outputs": []
    },
    {
      "cell_type": "code",
      "source": [
        "X_train_s = StandardScaler().fit_transform(X_train)"
      ],
      "metadata": {
        "id": "OX4r9vtxB5qa"
      },
      "execution_count": 11,
      "outputs": []
    },
    {
      "cell_type": "code",
      "source": [
        "X_test_s =  StandardScaler().fit_transform(X_test)"
      ],
      "metadata": {
        "id": "sPWxKX7CB5Pe"
      },
      "execution_count": 12,
      "outputs": []
    },
    {
      "cell_type": "markdown",
      "metadata": {
        "id": "FxF4aitkbMOe"
      },
      "source": [
        "#Step 6: Determine the Principal Components of the Data\n",
        "* **Note:** You will use only the training data to determine the principal components. Once they are determined, you will use those results to transform both the training and test sets.\n",
        "* Instantiate a PCA model that determines the principal components of the data. This model should keep the number of components that explain 95% of the variability in the data. You can use the code below to instantiate the model.\n",
        "\n",
        "```\n",
        "pca = PCA(.95)\n",
        "```\n",
        "\n",
        "* Fit and transform the data with the PCA model using the following code:\n",
        "\n",
        "```\n",
        "\n",
        "pca.fit(X_train_s)\n",
        "\n",
        "X_train_components = pca.transform(X_train_s)\n",
        "\n",
        "```"
      ]
    },
    {
      "cell_type": "code",
      "source": [
        " pca = PCA(.95)"
      ],
      "metadata": {
        "id": "qhuE1PTFJbcg"
      },
      "execution_count": 14,
      "outputs": []
    },
    {
      "cell_type": "code",
      "source": [
        "#Step 6\n",
        "pca.fit(X_train_s)\n",
        "X_train_components = pca.transform(X_train_s)\n"
      ],
      "metadata": {
        "id": "ytPs_IaGfjDK"
      },
      "execution_count": 16,
      "outputs": []
    },
    {
      "cell_type": "markdown",
      "metadata": {
        "id": "0Fm8H3kvfre_"
      },
      "source": [
        "#Step 7: Graph the Proportion of the Variability Explained by the Principal Components\n",
        "* `pca.explained_variance_ratio_` will return the proportion of the variability in the model that's explained by each of the principal components.\n",
        "* **Note:** The results are sorted in order of importance of each component. Additional components explain smaller and smaller proportions of the variance.  \n",
        "* Run the following code block to visualize how the principal components explain the model variability.\n",
        "* The cutoff threshold is the value set when the PCA model was instantiated. The model was instructed to throw away any extra components once it had explained 95% of the variability in the outcome."
      ]
    },
    {
      "cell_type": "code",
      "source": [
        "#Step 7\n",
        "\n",
        "n_components = np.arange(1, 11, step=1)\n",
        "exp_var = np.cumsum(pca.explained_variance_ratio_)\n",
        "\n",
        "\n",
        "plt.plot(n_components, exp_var, marker='o', linestyle='--', color='b')\n",
        "plt.ylabel('Cumulative variance (%)')\n",
        "plt.xlabel('Number of components')\n",
        "plt.title('The number of components needed to explain variance')\n",
        "\n",
        "plt.axhline(y=0.95, color='r', linestyle='-')\n",
        "plt.text(1, 0.85, '95% cut-off threshold', color = 'red', fontsize=16)\n",
        "\n",
        "axes = plt.gca()\n",
        "ax.grid(axis='x')\n",
        "plt.show()"
      ],
      "metadata": {
        "id": "ThHlI5_lcDtF",
        "colab": {
          "base_uri": "https://localhost:8080/",
          "height": 495
        },
        "outputId": "d45a76a1-10bb-4ece-eec2-d2d04e517621"
      },
      "execution_count": 17,
      "outputs": [
        {
          "output_type": "error",
          "ename": "NameError",
          "evalue": "ignored",
          "traceback": [
            "\u001b[0;31m---------------------------------------------------------------------------\u001b[0m",
            "\u001b[0;31mNameError\u001b[0m                                 Traceback (most recent call last)",
            "\u001b[0;32m<ipython-input-17-a9a5bc5005f9>\u001b[0m in \u001b[0;36m<module>\u001b[0;34m\u001b[0m\n\u001b[1;32m     14\u001b[0m \u001b[0;34m\u001b[0m\u001b[0m\n\u001b[1;32m     15\u001b[0m \u001b[0maxes\u001b[0m \u001b[0;34m=\u001b[0m \u001b[0mplt\u001b[0m\u001b[0;34m.\u001b[0m\u001b[0mgca\u001b[0m\u001b[0;34m(\u001b[0m\u001b[0;34m)\u001b[0m\u001b[0;34m\u001b[0m\u001b[0;34m\u001b[0m\u001b[0m\n\u001b[0;32m---> 16\u001b[0;31m \u001b[0max\u001b[0m\u001b[0;34m.\u001b[0m\u001b[0mgrid\u001b[0m\u001b[0;34m(\u001b[0m\u001b[0maxis\u001b[0m\u001b[0;34m=\u001b[0m\u001b[0;34m'x'\u001b[0m\u001b[0;34m)\u001b[0m\u001b[0;34m\u001b[0m\u001b[0;34m\u001b[0m\u001b[0m\n\u001b[0m\u001b[1;32m     17\u001b[0m \u001b[0mplt\u001b[0m\u001b[0;34m.\u001b[0m\u001b[0mshow\u001b[0m\u001b[0;34m(\u001b[0m\u001b[0;34m)\u001b[0m\u001b[0;34m\u001b[0m\u001b[0;34m\u001b[0m\u001b[0m\n",
            "\u001b[0;31mNameError\u001b[0m: name 'ax' is not defined"
          ]
        },
        {
          "output_type": "display_data",
          "data": {
            "text/plain": [
              "<Figure size 432x288 with 1 Axes>"
            ],
            "image/png": "[encoded data removed]"
          },
          "metadata": {
            "needs_background": "light"
          }
        }
      ]
    },
    {
      "cell_type": "markdown",
      "metadata": {
        "id": "Kox_wZcEhU9f"
      },
      "source": [
        "#Step 8: Visualize the Proportion of the Variability Explained by the Principal Components When the Model Is Required to Explain 99% of the Variability\n",
        "* Run the following code block to observe the number of components retained by the model when it is require to explain 99% of the variability in the outcome.\n",
        "* How many more components will need to be included in the model to increase the variability explained from 95% to 99%?"
      ]
    },
    {
      "cell_type": "code",
      "source": [
        "#Step 8\n",
        "\n",
        "pca_99 = PCA(.99)\n",
        "pca_99.fit(X_train_s)\n",
        "\n",
        "X_train_components_99 = pca_99.transform(X_train_s)\n",
        "\n",
        "n_components_99 = np.arange(1, 18, step=1)\n",
        "exp_var_99 = np.cumsum(pca_99.explained_variance_ratio_)\n",
        "\n",
        "exp_var_99\n",
        "\n",
        "plt.plot(n_components_99, exp_var_99, marker='o', linestyle='--', color='b')\n",
        "plt.ylabel('Cumulative variance (%)')\n",
        "plt.xlabel('Number of components')\n",
        "plt.title('The number of components needed to explain variance')\n",
        "\n",
        "plt.axhline(y=0.99, color='r', linestyle='-')\n",
        "plt.text(1, 0.91, '99% cut-off threshold', color = 'red', fontsize=16)\n",
        "\n",
        "ax.grid(axis='x')\n",
        "plt.show()\n"
      ],
      "metadata": {
        "id": "GSS_AXn9hpjM",
        "colab": {
          "base_uri": "https://localhost:8080/",
          "height": 495
        },
        "outputId": "d1f1ed44-a7b1-4e47-a820-724889071080"
      },
      "execution_count": 18,
      "outputs": [
        {
          "output_type": "error",
          "ename": "NameError",
          "evalue": "ignored",
          "traceback": [
            "\u001b[0;31m---------------------------------------------------------------------------\u001b[0m",
            "\u001b[0;31mNameError\u001b[0m                                 Traceback (most recent call last)",
            "\u001b[0;32m<ipython-input-18-31a3a7e6e1c3>\u001b[0m in \u001b[0;36m<module>\u001b[0;34m\u001b[0m\n\u001b[1;32m     19\u001b[0m \u001b[0mplt\u001b[0m\u001b[0;34m.\u001b[0m\u001b[0mtext\u001b[0m\u001b[0;34m(\u001b[0m\u001b[0;36m1\u001b[0m\u001b[0;34m,\u001b[0m \u001b[0;36m0.91\u001b[0m\u001b[0;34m,\u001b[0m \u001b[0;34m'99% cut-off threshold'\u001b[0m\u001b[0;34m,\u001b[0m \u001b[0mcolor\u001b[0m \u001b[0;34m=\u001b[0m \u001b[0;34m'red'\u001b[0m\u001b[0;34m,\u001b[0m \u001b[0mfontsize\u001b[0m\u001b[0;34m=\u001b[0m\u001b[0;36m16\u001b[0m\u001b[0;34m)\u001b[0m\u001b[0;34m\u001b[0m\u001b[0;34m\u001b[0m\u001b[0m\n\u001b[1;32m     20\u001b[0m \u001b[0;34m\u001b[0m\u001b[0m\n\u001b[0;32m---> 21\u001b[0;31m \u001b[0max\u001b[0m\u001b[0;34m.\u001b[0m\u001b[0mgrid\u001b[0m\u001b[0;34m(\u001b[0m\u001b[0maxis\u001b[0m\u001b[0;34m=\u001b[0m\u001b[0;34m'x'\u001b[0m\u001b[0;34m)\u001b[0m\u001b[0;34m\u001b[0m\u001b[0;34m\u001b[0m\u001b[0m\n\u001b[0m\u001b[1;32m     22\u001b[0m \u001b[0mplt\u001b[0m\u001b[0;34m.\u001b[0m\u001b[0mshow\u001b[0m\u001b[0;34m(\u001b[0m\u001b[0;34m)\u001b[0m\u001b[0;34m\u001b[0m\u001b[0;34m\u001b[0m\u001b[0m\n",
            "\u001b[0;31mNameError\u001b[0m: name 'ax' is not defined"
          ]
        },
        {
          "output_type": "display_data",
          "data": {
            "text/plain": [
              "<Figure size 432x288 with 1 Axes>"
            ],
            "image/png": "[encoded data removed]"
          },
          "metadata": {
            "needs_background": "light"
          }
        }
      ]
    },
    {
      "cell_type": "markdown",
      "source": [
        "**Step 8 Answer**\n"
      ],
      "metadata": {
        "id": "QKwnAkj-iiRK"
      }
    },
    {
      "cell_type": "markdown",
      "metadata": {
        "id": "4TZ_0ukCiXJl"
      },
      "source": [
        "#Step 9: Fit a Logistic Regression Model to the Transformed Training Data and Compute the Accuracy Using 10-fold Cross Validation (CV)\n",
        "* Run the following code block to model the first 10 principal components using logistic regression. The code block will also compute the 10-fold CV. \n",
        "* What is the average accuracy?"
      ]
    },
    {
      "cell_type": "code",
      "source": [
        "#Step 9\n",
        "\n",
        "log_reg = LogisticRegression()\n",
        "\n",
        "log_reg.fit(X_train_components, y_train)\n",
        "\n",
        "scores = cross_val_score(log_reg, X_train_components, y_train, cv=10)\n",
        "\n",
        "print(scores.mean())\n"
      ],
      "metadata": {
        "id": "icCneIWdi3-B",
        "colab": {
          "base_uri": "https://localhost:8080/"
        },
        "outputId": "8bb7eefe-c510-464a-f965-c8371d96fce6"
      },
      "execution_count": 19,
      "outputs": [
        {
          "output_type": "stream",
          "name": "stdout",
          "text": [
            "0.9647286821705426\n"
          ]
        }
      ]
    },
    {
      "cell_type": "markdown",
      "source": [
        "**Step 9 Answer:**\n",
        "\n"
      ],
      "metadata": {
        "id": "NVf11eWenInV"
      }
    },
    {
      "cell_type": "markdown",
      "metadata": {
        "id": "yRiLqf-cnbpd"
      },
      "source": [
        "#Step 10: Calculate the Model Accuracy Using the Test Set\n",
        "* First transform the test data using the following code:\n",
        "\n",
        "```\n",
        "X_test_components = pca.transform(X_test_s)\n",
        "```\n",
        "* Recall that you are only transforming the test data based on the principal components that were fit using the training data.\n",
        "* Calculate the model testing accuracy using the following code:\n",
        "\n",
        "```\n",
        "log_reg.score(X_test_components, y_test)\n",
        "```"
      ]
    },
    {
      "cell_type": "code",
      "source": [
        "#Step 10\n",
        "X_test_components = pca.transform(X_test_s)\n"
      ],
      "metadata": {
        "id": "Nvp6Mi8uoP4x"
      },
      "execution_count": 20,
      "outputs": []
    },
    {
      "cell_type": "code",
      "source": [
        "log_reg.score(X_test_components, y_test)"
      ],
      "metadata": {
        "colab": {
          "base_uri": "https://localhost:8080/"
        },
        "id": "TBu5ud25Jm57",
        "outputId": "3c31fa20-6d31-4ff0-b15b-b18431d5163b"
      },
      "execution_count": 21,
      "outputs": [
        {
          "output_type": "execute_result",
          "data": {
            "text/plain": [
              "0.9790209790209791"
            ]
          },
          "metadata": {},
          "execution_count": 21
        }
      ]
    }
  ],
  "metadata": {
    "anaconda-cloud": {},
    "colab": {
      "collapsed_sections": [],
      "provenance": [],
      "include_colab_link": true
    },
    "hide_input": false,
    "kernelspec": {
      "display_name": "Python 3",
      "language": "python",
      "name": "python3"
    },
    "language_info": {
      "codemirror_mode": {
        "name": "ipython",
        "version": 3
      },
      "file_extension": ".py",
      "mimetype": "text/x-python",
      "name": "python",
      "nbconvert_exporter": "python",
      "pygments_lexer": "ipython3",
      "version": "3.7.9"
    },
    "varInspector": {
      "cols": {
        "lenName": 16,
        "lenType": 16,
        "lenVar": 40
      },
      "kernels_config": {
        "python": {
          "delete_cmd_postfix": "",
          "delete_cmd_prefix": "del ",
          "library": "var_list.py",
          "varRefreshCmd": "print(var_dic_list())"
        },
        "r": {
          "delete_cmd_postfix": ") ",
          "delete_cmd_prefix": "rm(",
          "library": "var_list.r",
          "varRefreshCmd": "cat(var_dic_list()) "
        }
      },
      "types_to_exclude": [
        "module",
        "function",
        "builtin_function_or_method",
        "instance",
        "_Feature"
      ],
      "window_display": false
    }
  },
  "nbformat": 4,
  "nbformat_minor": 0
}