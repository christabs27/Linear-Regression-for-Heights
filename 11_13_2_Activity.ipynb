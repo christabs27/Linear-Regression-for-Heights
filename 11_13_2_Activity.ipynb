{
  "nbformat": 4,
  "nbformat_minor": 0,
  "metadata": {
    "accelerator": "GPU",
    "colab": {
      "provenance": [],
      "collapsed_sections": [],
      "include_colab_link": true
    },
    "kernelspec": {
      "display_name": "Python 3",
      "name": "python3"
    }
  },
  "cells": [
    {
      "cell_type": "markdown",
      "metadata": {
        "id": "view-in-github",
        "colab_type": "text"
      },
      "source": [
        "<a href=\"https://colab.research.google.com/github/christabs27/Linear-Regression-for-Heights/blob/main/11_13_2_Activity.ipynb\" target=\"_parent\"><img src=\"https://colab.research.google.com/assets/colab-badge.svg\" alt=\"Open In Colab\"/></a>"
      ]
    },
    {
      "cell_type": "markdown",
      "metadata": {
        "id": "hX4n9TsbGw-f"
      },
      "source": [
        "# Activity 11.13.2\n",
        "\n",
        "Determining the topics of a text is an interesting—and challenging—problem.  \n",
        "\n",
        "In this lesson, you'll categorize the topics of about 20,000 posts to 20 different newsgroups. This [20 newsgroups data set](http://qwone.com/~jason/20Newsgroups/) is often used when working with natural langague processing models."
      ]
    },
    {
      "cell_type": "markdown",
      "source": [
        "#Step 1: Install the Necessary Packages\n",
        "* Run the following code block to import the necessary libraries and packages. Make sure to type \"y\" when asked if you want to proceed."
      ],
      "metadata": {
        "id": "eOE0IPoIQ91v"
      }
    },
    {
      "cell_type": "code",
      "source": [
        "#Step 1\n",
        "\n",
        "import nltk \n",
        "nltk.download('stopwords')\n",
        "!python3 -m spacy download en_core_web_sm\n",
        "from nltk.corpus import stopwords\n",
        "\n",
        "# Helpful packages\n",
        "import re\n",
        "import numpy as np\n",
        "import pandas as pd\n",
        "from pprint import pprint\n",
        "\n",
        "# Gensim\n",
        "!pip uninstall gensim\n",
        "! pip install gensim==4.2.0\n",
        "import gensim\n",
        "import gensim.corpora as corpora\n",
        "from gensim.utils import simple_preprocess\n",
        "from gensim.models import CoherenceModel\n",
        "\n",
        "# spacy for lemmatization\n",
        "import spacy\n",
        "\n",
        "# Plotting tools\n",
        "!pip install pyLDAvis\n",
        "import pyLDAvis\n",
        "import pyLDAvis.gensim_models\n",
        "import matplotlib.pyplot as plt\n",
        "%matplotlib inline\n",
        "\n",
        "\n"
      ],
      "metadata": {
        "id": "bSscjGysqlSV",
        "outputId": "981d0d81-9ba9-4f38-d30e-84003a9c1819",
        "colab": {
          "base_uri": "https://localhost:8080/"
        }
      },
      "execution_count": 1,
      "outputs": [
        {
          "output_type": "stream",
          "name": "stderr",
          "text": [
            "[nltk_data] Downloading package stopwords to /root/nltk_data...\n",
            "[nltk_data]   Unzipping corpora/stopwords.zip.\n"
          ]
        },
        {
          "output_type": "stream",
          "name": "stdout",
          "text": [
            "Looking in indexes: https://pypi.org/simple, https://us-python.pkg.dev/colab-wheels/public/simple/\n",
            "Collecting en-core-web-sm==3.4.1\n",
            "  Downloading https://github.com/explosion/spacy-models/releases/download/en_core_web_sm-3.4.1/en_core_web_sm-3.4.1-py3-none-any.whl (12.8 MB)\n",
            "\u001b[K     |████████████████████████████████| 12.8 MB 26.3 MB/s \n",
            "\u001b[?25hRequirement already satisfied: spacy<3.5.0,>=3.4.0 in /usr/local/lib/python3.7/dist-packages (from en-core-web-sm==3.4.1) (3.4.2)\n",
            "Requirement already satisfied: setuptools in /usr/local/lib/python3.7/dist-packages (from spacy<3.5.0,>=3.4.0->en-core-web-sm==3.4.1) (57.4.0)\n",
            "Requirement already satisfied: spacy-legacy<3.1.0,>=3.0.10 in /usr/local/lib/python3.7/dist-packages (from spacy<3.5.0,>=3.4.0->en-core-web-sm==3.4.1) (3.0.10)\n",
            "Requirement already satisfied: langcodes<4.0.0,>=3.2.0 in /usr/local/lib/python3.7/dist-packages (from spacy<3.5.0,>=3.4.0->en-core-web-sm==3.4.1) (3.3.0)\n",
            "Requirement already satisfied: typing-extensions<4.2.0,>=3.7.4 in /usr/local/lib/python3.7/dist-packages (from spacy<3.5.0,>=3.4.0->en-core-web-sm==3.4.1) (4.1.1)\n",
            "Requirement already satisfied: murmurhash<1.1.0,>=0.28.0 in /usr/local/lib/python3.7/dist-packages (from spacy<3.5.0,>=3.4.0->en-core-web-sm==3.4.1) (1.0.9)\n",
            "Requirement already satisfied: wasabi<1.1.0,>=0.9.1 in /usr/local/lib/python3.7/dist-packages (from spacy<3.5.0,>=3.4.0->en-core-web-sm==3.4.1) (0.10.1)\n",
            "Requirement already satisfied: numpy>=1.15.0 in /usr/local/lib/python3.7/dist-packages (from spacy<3.5.0,>=3.4.0->en-core-web-sm==3.4.1) (1.21.6)\n",
            "Requirement already satisfied: tqdm<5.0.0,>=4.38.0 in /usr/local/lib/python3.7/dist-packages (from spacy<3.5.0,>=3.4.0->en-core-web-sm==3.4.1) (4.64.1)\n",
            "Requirement already satisfied: preshed<3.1.0,>=3.0.2 in /usr/local/lib/python3.7/dist-packages (from spacy<3.5.0,>=3.4.0->en-core-web-sm==3.4.1) (3.0.8)\n",
            "Requirement already satisfied: pathy>=0.3.5 in /usr/local/lib/python3.7/dist-packages (from spacy<3.5.0,>=3.4.0->en-core-web-sm==3.4.1) (0.6.2)\n",
            "Requirement already satisfied: typer<0.5.0,>=0.3.0 in /usr/local/lib/python3.7/dist-packages (from spacy<3.5.0,>=3.4.0->en-core-web-sm==3.4.1) (0.4.2)\n",
            "Requirement already satisfied: cymem<2.1.0,>=2.0.2 in /usr/local/lib/python3.7/dist-packages (from spacy<3.5.0,>=3.4.0->en-core-web-sm==3.4.1) (2.0.7)\n",
            "Requirement already satisfied: spacy-loggers<2.0.0,>=1.0.0 in /usr/local/lib/python3.7/dist-packages (from spacy<3.5.0,>=3.4.0->en-core-web-sm==3.4.1) (1.0.3)\n",
            "Requirement already satisfied: srsly<3.0.0,>=2.4.3 in /usr/local/lib/python3.7/dist-packages (from spacy<3.5.0,>=3.4.0->en-core-web-sm==3.4.1) (2.4.5)\n",
            "Requirement already satisfied: catalogue<2.1.0,>=2.0.6 in /usr/local/lib/python3.7/dist-packages (from spacy<3.5.0,>=3.4.0->en-core-web-sm==3.4.1) (2.0.8)\n",
            "Requirement already satisfied: thinc<8.2.0,>=8.1.0 in /usr/local/lib/python3.7/dist-packages (from spacy<3.5.0,>=3.4.0->en-core-web-sm==3.4.1) (8.1.5)\n",
            "Requirement already satisfied: packaging>=20.0 in /usr/local/lib/python3.7/dist-packages (from spacy<3.5.0,>=3.4.0->en-core-web-sm==3.4.1) (21.3)\n",
            "Requirement already satisfied: requests<3.0.0,>=2.13.0 in /usr/local/lib/python3.7/dist-packages (from spacy<3.5.0,>=3.4.0->en-core-web-sm==3.4.1) (2.23.0)\n",
            "Requirement already satisfied: pydantic!=1.8,!=1.8.1,<1.11.0,>=1.7.4 in /usr/local/lib/python3.7/dist-packages (from spacy<3.5.0,>=3.4.0->en-core-web-sm==3.4.1) (1.10.2)\n",
            "Requirement already satisfied: jinja2 in /usr/local/lib/python3.7/dist-packages (from spacy<3.5.0,>=3.4.0->en-core-web-sm==3.4.1) (2.11.3)\n",
            "Requirement already satisfied: zipp>=0.5 in /usr/local/lib/python3.7/dist-packages (from catalogue<2.1.0,>=2.0.6->spacy<3.5.0,>=3.4.0->en-core-web-sm==3.4.1) (3.9.0)\n",
            "Requirement already satisfied: pyparsing!=3.0.5,>=2.0.2 in /usr/local/lib/python3.7/dist-packages (from packaging>=20.0->spacy<3.5.0,>=3.4.0->en-core-web-sm==3.4.1) (3.0.9)\n",
            "Requirement already satisfied: smart-open<6.0.0,>=5.2.1 in /usr/local/lib/python3.7/dist-packages (from pathy>=0.3.5->spacy<3.5.0,>=3.4.0->en-core-web-sm==3.4.1) (5.2.1)\n",
            "Requirement already satisfied: chardet<4,>=3.0.2 in /usr/local/lib/python3.7/dist-packages (from requests<3.0.0,>=2.13.0->spacy<3.5.0,>=3.4.0->en-core-web-sm==3.4.1) (3.0.4)\n",
            "Requirement already satisfied: certifi>=2017.4.17 in /usr/local/lib/python3.7/dist-packages (from requests<3.0.0,>=2.13.0->spacy<3.5.0,>=3.4.0->en-core-web-sm==3.4.1) (2022.9.24)\n",
            "Requirement already satisfied: idna<3,>=2.5 in /usr/local/lib/python3.7/dist-packages (from requests<3.0.0,>=2.13.0->spacy<3.5.0,>=3.4.0->en-core-web-sm==3.4.1) (2.10)\n",
            "Requirement already satisfied: urllib3!=1.25.0,!=1.25.1,<1.26,>=1.21.1 in /usr/local/lib/python3.7/dist-packages (from requests<3.0.0,>=2.13.0->spacy<3.5.0,>=3.4.0->en-core-web-sm==3.4.1) (1.24.3)\n",
            "Requirement already satisfied: confection<1.0.0,>=0.0.1 in /usr/local/lib/python3.7/dist-packages (from thinc<8.2.0,>=8.1.0->spacy<3.5.0,>=3.4.0->en-core-web-sm==3.4.1) (0.0.3)\n",
            "Requirement already satisfied: blis<0.8.0,>=0.7.8 in /usr/local/lib/python3.7/dist-packages (from thinc<8.2.0,>=8.1.0->spacy<3.5.0,>=3.4.0->en-core-web-sm==3.4.1) (0.7.9)\n",
            "Requirement already satisfied: click<9.0.0,>=7.1.1 in /usr/local/lib/python3.7/dist-packages (from typer<0.5.0,>=0.3.0->spacy<3.5.0,>=3.4.0->en-core-web-sm==3.4.1) (7.1.2)\n",
            "Requirement already satisfied: MarkupSafe>=0.23 in /usr/local/lib/python3.7/dist-packages (from jinja2->spacy<3.5.0,>=3.4.0->en-core-web-sm==3.4.1) (2.0.1)\n",
            "\u001b[38;5;2m✔ Download and installation successful\u001b[0m\n",
            "You can now load the package via spacy.load('en_core_web_sm')\n",
            "Found existing installation: gensim 3.6.0\n",
            "Uninstalling gensim-3.6.0:\n",
            "  Would remove:\n",
            "    /usr/local/lib/python3.7/dist-packages/gensim-3.6.0.dist-info/*\n",
            "    /usr/local/lib/python3.7/dist-packages/gensim/*\n",
            "Proceed (y/n)? y\n",
            "  Successfully uninstalled gensim-3.6.0\n",
            "Looking in indexes: https://pypi.org/simple, https://us-python.pkg.dev/colab-wheels/public/simple/\n",
            "Collecting gensim==4.2.0\n",
            "  Downloading gensim-4.2.0-cp37-cp37m-manylinux_2_12_x86_64.manylinux2010_x86_64.whl (24.1 MB)\n",
            "\u001b[K     |████████████████████████████████| 24.1 MB 54.9 MB/s \n",
            "\u001b[?25hRequirement already satisfied: numpy>=1.17.0 in /usr/local/lib/python3.7/dist-packages (from gensim==4.2.0) (1.21.6)\n",
            "Requirement already satisfied: smart-open>=1.8.1 in /usr/local/lib/python3.7/dist-packages (from gensim==4.2.0) (5.2.1)\n",
            "Requirement already satisfied: scipy>=0.18.1 in /usr/local/lib/python3.7/dist-packages (from gensim==4.2.0) (1.7.3)\n",
            "Installing collected packages: gensim\n",
            "Successfully installed gensim-4.2.0\n",
            "Looking in indexes: https://pypi.org/simple, https://us-python.pkg.dev/colab-wheels/public/simple/\n",
            "Collecting pyLDAvis\n",
            "  Downloading pyLDAvis-3.3.1.tar.gz (1.7 MB)\n",
            "\u001b[K     |████████████████████████████████| 1.7 MB 26.6 MB/s \n",
            "\u001b[?25h  Installing build dependencies ... \u001b[?25l\u001b[?25hdone\n",
            "  Getting requirements to build wheel ... \u001b[?25l\u001b[?25hdone\n",
            "  Installing backend dependencies ... \u001b[?25l\u001b[?25hdone\n",
            "    Preparing wheel metadata ... \u001b[?25l\u001b[?25hdone\n",
            "Requirement already satisfied: joblib in /usr/local/lib/python3.7/dist-packages (from pyLDAvis) (1.2.0)\n",
            "Requirement already satisfied: scipy in /usr/local/lib/python3.7/dist-packages (from pyLDAvis) (1.7.3)\n",
            "Requirement already satisfied: numexpr in /usr/local/lib/python3.7/dist-packages (from pyLDAvis) (2.8.3)\n",
            "Collecting funcy\n",
            "  Downloading funcy-1.17-py2.py3-none-any.whl (33 kB)\n",
            "Requirement already satisfied: setuptools in /usr/local/lib/python3.7/dist-packages (from pyLDAvis) (57.4.0)\n",
            "Collecting sklearn\n",
            "  Downloading sklearn-0.0.tar.gz (1.1 kB)\n",
            "Requirement already satisfied: gensim in /usr/local/lib/python3.7/dist-packages (from pyLDAvis) (4.2.0)\n",
            "Requirement already satisfied: pandas>=1.2.0 in /usr/local/lib/python3.7/dist-packages (from pyLDAvis) (1.3.5)\n",
            "Requirement already satisfied: scikit-learn in /usr/local/lib/python3.7/dist-packages (from pyLDAvis) (1.0.2)\n",
            "Requirement already satisfied: jinja2 in /usr/local/lib/python3.7/dist-packages (from pyLDAvis) (2.11.3)\n",
            "Requirement already satisfied: numpy>=1.20.0 in /usr/local/lib/python3.7/dist-packages (from pyLDAvis) (1.21.6)\n",
            "Requirement already satisfied: future in /usr/local/lib/python3.7/dist-packages (from pyLDAvis) (0.16.0)\n",
            "Requirement already satisfied: python-dateutil>=2.7.3 in /usr/local/lib/python3.7/dist-packages (from pandas>=1.2.0->pyLDAvis) (2.8.2)\n",
            "Requirement already satisfied: pytz>=2017.3 in /usr/local/lib/python3.7/dist-packages (from pandas>=1.2.0->pyLDAvis) (2022.5)\n",
            "Requirement already satisfied: six>=1.5 in /usr/local/lib/python3.7/dist-packages (from python-dateutil>=2.7.3->pandas>=1.2.0->pyLDAvis) (1.15.0)\n",
            "Requirement already satisfied: smart-open>=1.8.1 in /usr/local/lib/python3.7/dist-packages (from gensim->pyLDAvis) (5.2.1)\n",
            "Requirement already satisfied: MarkupSafe>=0.23 in /usr/local/lib/python3.7/dist-packages (from jinja2->pyLDAvis) (2.0.1)\n",
            "Requirement already satisfied: packaging in /usr/local/lib/python3.7/dist-packages (from numexpr->pyLDAvis) (21.3)\n",
            "Requirement already satisfied: pyparsing!=3.0.5,>=2.0.2 in /usr/local/lib/python3.7/dist-packages (from packaging->numexpr->pyLDAvis) (3.0.9)\n",
            "Requirement already satisfied: threadpoolctl>=2.0.0 in /usr/local/lib/python3.7/dist-packages (from scikit-learn->pyLDAvis) (3.1.0)\n",
            "Building wheels for collected packages: pyLDAvis, sklearn\n",
            "  Building wheel for pyLDAvis (PEP 517) ... \u001b[?25l\u001b[?25hdone\n",
            "  Created wheel for pyLDAvis: filename=pyLDAvis-3.3.1-py2.py3-none-any.whl size=136898 sha256=72d2c3b058a7b554ad4f32a9d9a17ceab61061015ce6d641e9c2bd68923c9d03\n",
            "  Stored in directory: /root/.cache/pip/wheels/c9/21/f6/17bcf2667e8a68532ba2fbf6d5c72fdf4c7f7d9abfa4852d2f\n",
            "  Building wheel for sklearn (setup.py) ... \u001b[?25l\u001b[?25hdone\n",
            "  Created wheel for sklearn: filename=sklearn-0.0-py2.py3-none-any.whl size=1310 sha256=7d952a1c842424dfc070af5782d7f0d6fc74dcd05142dfbdedb9d3c9d5d3bd2f\n",
            "  Stored in directory: /root/.cache/pip/wheels/46/ef/c3/157e41f5ee1372d1be90b09f74f82b10e391eaacca8f22d33e\n",
            "Successfully built pyLDAvis sklearn\n",
            "Installing collected packages: sklearn, funcy, pyLDAvis\n",
            "Successfully installed funcy-1.17 pyLDAvis-3.3.1 sklearn-0.0\n"
          ]
        },
        {
          "output_type": "stream",
          "name": "stderr",
          "text": [
            "/usr/local/lib/python3.7/dist-packages/past/types/oldstr.py:5: DeprecationWarning: Using or importing the ABCs from 'collections' instead of from 'collections.abc' is deprecated since Python 3.3,and in 3.9 it will stop working\n",
            "  from collections import Iterable\n",
            "/usr/local/lib/python3.7/dist-packages/past/builtins/misc.py:4: DeprecationWarning: Using or importing the ABCs from 'collections' instead of from 'collections.abc' is deprecated since Python 3.3,and in 3.9 it will stop working\n",
            "  from collections import Mapping\n"
          ]
        }
      ]
    },
    {
      "cell_type": "markdown",
      "source": [
        "#Step 2: Read in the 20 Newsgroups Data Set\n",
        "* Run the following code block to read in the 20 Newsgroups data set.\n",
        "* Although you won't use it in this activity because you're approaching this as an unsupervised learning problem, `target_names` tells you which newsgroup a post came from.\n",
        "* What is the name of the newsgroup that appears at the top of the data set?\n"
      ],
      "metadata": {
        "id": "G2XDPt-26zcd"
      }
    },
    {
      "cell_type": "code",
      "source": [
        "#Step 2\n",
        "\n",
        "df = pd.read_json('https://raw.githubusercontent.com/selva86/datasets/master/newsgroups.json')\n",
        "df.head()"
      ],
      "metadata": {
        "id": "DVL1P0SFsFVf",
        "outputId": "2eab0ead-076e-4bc9-ace0-e501e0415970",
        "colab": {
          "base_uri": "https://localhost:8080/",
          "height": 206
        }
      },
      "execution_count": 2,
      "outputs": [
        {
          "output_type": "execute_result",
          "data": {
            "text/plain": [
              "                                             content  target  \\\n",
              "0  From: lerxst@wam.umd.edu (where's my thing)\\nS...       7   \n",
              "1  From: guykuo@carson.u.washington.edu (Guy Kuo)...       4   \n",
              "2  From: twillis@ec.ecn.purdue.edu (Thomas E Will...       4   \n",
              "3  From: jgreen@amber (Joe Green)\\nSubject: Re: W...       1   \n",
              "4  From: jcm@head-cfa.harvard.edu (Jonathan McDow...      14   \n",
              "\n",
              "            target_names  \n",
              "0              rec.autos  \n",
              "1  comp.sys.mac.hardware  \n",
              "2  comp.sys.mac.hardware  \n",
              "3          comp.graphics  \n",
              "4              sci.space  "
            ],
            "text/html": [
              "\n",
              "  <div id=\"df-2fa693d8-2dcc-46d0-aa49-46c607e5f821\">\n",
              "    <div class=\"colab-df-container\">\n",
              "      <div>\n",
              "<style scoped>\n",
              "    .dataframe tbody tr th:only-of-type {\n",
              "        vertical-align: middle;\n",
              "    }\n",
              "\n",
              "    .dataframe tbody tr th {\n",
              "        vertical-align: top;\n",
              "    }\n",
              "\n",
              "    .dataframe thead th {\n",
              "        text-align: right;\n",
              "    }\n",
              "</style>\n",
              "<table border=\"1\" class=\"dataframe\">\n",
              "  <thead>\n",
              "    <tr style=\"text-align: right;\">\n",
              "      <th></th>\n",
              "      <th>content</th>\n",
              "      <th>target</th>\n",
              "      <th>target_names</th>\n",
              "    </tr>\n",
              "  </thead>\n",
              "  <tbody>\n",
              "    <tr>\n",
              "      <th>0</th>\n",
              "      <td>From: lerxst@wam.umd.edu (where's my thing)\\nS...</td>\n",
              "      <td>7</td>\n",
              "      <td>rec.autos</td>\n",
              "    </tr>\n",
              "    <tr>\n",
              "      <th>1</th>\n",
              "      <td>From: guykuo@carson.u.washington.edu (Guy Kuo)...</td>\n",
              "      <td>4</td>\n",
              "      <td>comp.sys.mac.hardware</td>\n",
              "    </tr>\n",
              "    <tr>\n",
              "      <th>2</th>\n",
              "      <td>From: twillis@ec.ecn.purdue.edu (Thomas E Will...</td>\n",
              "      <td>4</td>\n",
              "      <td>comp.sys.mac.hardware</td>\n",
              "    </tr>\n",
              "    <tr>\n",
              "      <th>3</th>\n",
              "      <td>From: jgreen@amber (Joe Green)\\nSubject: Re: W...</td>\n",
              "      <td>1</td>\n",
              "      <td>comp.graphics</td>\n",
              "    </tr>\n",
              "    <tr>\n",
              "      <th>4</th>\n",
              "      <td>From: jcm@head-cfa.harvard.edu (Jonathan McDow...</td>\n",
              "      <td>14</td>\n",
              "      <td>sci.space</td>\n",
              "    </tr>\n",
              "  </tbody>\n",
              "</table>\n",
              "</div>\n",
              "      <button class=\"colab-df-convert\" onclick=\"convertToInteractive('df-2fa693d8-2dcc-46d0-aa49-46c607e5f821')\"\n",
              "              title=\"Convert this dataframe to an interactive table.\"\n",
              "              style=\"display:none;\">\n",
              "        \n",
              "  <svg xmlns=\"http://www.w3.org/2000/svg\" height=\"24px\"viewBox=\"0 0 24 24\"\n",
              "       width=\"24px\">\n",
              "    <path d=\"M0 0h24v24H0V0z\" fill=\"none\"/>\n",
              "    <path d=\"M18.56 5.44l.94 2.06.94-2.06 2.06-.94-2.06-.94-.94-2.06-.94 2.06-2.06.94zm-11 1L8.5 8.5l.94-2.06 2.06-.94-2.06-.94L8.5 2.5l-.94 2.06-2.06.94zm10 10l.94 2.06.94-2.06 2.06-.94-2.06-.94-.94-2.06-.94 2.06-2.06.94z\"/><path d=\"M17.41 7.96l-1.37-1.37c-.4-.4-.92-.59-1.43-.59-.52 0-1.04.2-1.43.59L10.3 9.45l-7.72 7.72c-.78.78-.78 2.05 0 2.83L4 21.41c.39.39.9.59 1.41.59.51 0 1.02-.2 1.41-.59l7.78-7.78 2.81-2.81c.8-.78.8-2.07 0-2.86zM5.41 20L4 18.59l7.72-7.72 1.47 1.35L5.41 20z\"/>\n",
              "  </svg>\n",
              "      </button>\n",
              "      \n",
              "  <style>\n",
              "    .colab-df-container {\n",
              "      display:flex;\n",
              "      flex-wrap:wrap;\n",
              "      gap: 12px;\n",
              "    }\n",
              "\n",
              "    .colab-df-convert {\n",
              "      background-color: #E8F0FE;\n",
              "      border: none;\n",
              "      border-radius: 50%;\n",
              "      cursor: pointer;\n",
              "      display: none;\n",
              "      fill: #1967D2;\n",
              "      height: 32px;\n",
              "      padding: 0 0 0 0;\n",
              "      width: 32px;\n",
              "    }\n",
              "\n",
              "    .colab-df-convert:hover {\n",
              "      background-color: #E2EBFA;\n",
              "      box-shadow: 0px 1px 2px rgba(60, 64, 67, 0.3), 0px 1px 3px 1px rgba(60, 64, 67, 0.15);\n",
              "      fill: #174EA6;\n",
              "    }\n",
              "\n",
              "    [theme=dark] .colab-df-convert {\n",
              "      background-color: #3B4455;\n",
              "      fill: #D2E3FC;\n",
              "    }\n",
              "\n",
              "    [theme=dark] .colab-df-convert:hover {\n",
              "      background-color: #434B5C;\n",
              "      box-shadow: 0px 1px 3px 1px rgba(0, 0, 0, 0.15);\n",
              "      filter: drop-shadow(0px 1px 2px rgba(0, 0, 0, 0.3));\n",
              "      fill: #FFFFFF;\n",
              "    }\n",
              "  </style>\n",
              "\n",
              "      <script>\n",
              "        const buttonEl =\n",
              "          document.querySelector('#df-2fa693d8-2dcc-46d0-aa49-46c607e5f821 button.colab-df-convert');\n",
              "        buttonEl.style.display =\n",
              "          google.colab.kernel.accessAllowed ? 'block' : 'none';\n",
              "\n",
              "        async function convertToInteractive(key) {\n",
              "          const element = document.querySelector('#df-2fa693d8-2dcc-46d0-aa49-46c607e5f821');\n",
              "          const dataTable =\n",
              "            await google.colab.kernel.invokeFunction('convertToInteractive',\n",
              "                                                     [key], {});\n",
              "          if (!dataTable) return;\n",
              "\n",
              "          const docLinkHtml = 'Like what you see? Visit the ' +\n",
              "            '<a target=\"_blank\" href=https://colab.research.google.com/notebooks/data_table.ipynb>data table notebook</a>'\n",
              "            + ' to learn more about interactive tables.';\n",
              "          element.innerHTML = '';\n",
              "          dataTable['output_type'] = 'display_data';\n",
              "          await google.colab.output.renderOutput(dataTable, element);\n",
              "          const docLink = document.createElement('div');\n",
              "          docLink.innerHTML = docLinkHtml;\n",
              "          element.appendChild(docLink);\n",
              "        }\n",
              "      </script>\n",
              "    </div>\n",
              "  </div>\n",
              "  "
            ]
          },
          "metadata": {},
          "execution_count": 2
        }
      ]
    },
    {
      "cell_type": "markdown",
      "source": [
        "#Step 3: Remove Extra Characters and Symbols\n",
        "* As you can see in the printed data above, there are a lot of extra characters and symbols like \"@\" and \"\\n\" in the text that should be removed.\n",
        "* Run the following code block to remove or replace each symbol or character. Other punctuation will be removed later using `gensim.utils.simple_preprocess`.\n",
        "* Preview the text of the first newsgroup post. What is the topic of the post?\n"
      ],
      "metadata": {
        "id": "n2ehYAs28CNh"
      }
    },
    {
      "cell_type": "code",
      "source": [
        "#Step 3\n",
        "\n",
        "# Convert to list\n",
        "data = df.content.values.tolist()\n",
        "\n",
        "# Remove Emails\n",
        "data = [re.sub(r'\\S*@\\S*\\s?', '', sent) for sent in data]\n",
        "\n",
        "# Remove new line characters\n",
        "data = [re.sub(r'\\s+', ' ', sent) for sent in data]\n",
        "\n",
        "# Remove distracting single quotes\n",
        "data = [re.sub(r\"\\'\", \"\", sent) for sent in data]\n",
        "\n",
        "pprint(data[:1])"
      ],
      "metadata": {
        "id": "2yaIhbp2sXFc",
        "outputId": "37e275b9-f8c0-48da-aad4-ca542692946a",
        "colab": {
          "base_uri": "https://localhost:8080/"
        }
      },
      "execution_count": 3,
      "outputs": [
        {
          "output_type": "stream",
          "name": "stdout",
          "text": [
            "['From: (wheres my thing) Subject: WHAT car is this!? Nntp-Posting-Host: '\n",
            " 'rac3.wam.umd.edu Organization: University of Maryland, College Park Lines: '\n",
            " '15 I was wondering if anyone out there could enlighten me on this car I saw '\n",
            " 'the other day. It was a 2-door sports car, looked to be from the late 60s/ '\n",
            " 'early 70s. It was called a Bricklin. The doors were really small. In '\n",
            " 'addition, the front bumper was separate from the rest of the body. This is '\n",
            " 'all I know. If anyone can tellme a model name, engine specs, years of '\n",
            " 'production, where this car is made, history, or whatever info you have on '\n",
            " 'this funky looking car, please e-mail. Thanks, - IL ---- brought to you by '\n",
            " 'your neighborhood Lerxst ---- ']\n"
          ]
        }
      ]
    },
    {
      "cell_type": "markdown",
      "source": [
        "**Step 3 Answer:**\n",
        "\n"
      ],
      "metadata": {
        "id": "b7uJvGuN-LMr"
      }
    },
    {
      "cell_type": "markdown",
      "source": [
        "#Step 4: Process the Sentences into Lists of Strings\n",
        "* Run the following code block to convert the sentences to lists of single strings.  \n",
        "* `deacc = True` also removes the reamining punctuation.\n",
        "* Note the format of the first post. It should match the format used for the text of the literary works preprocessed during the word embedding activity.\n"
      ],
      "metadata": {
        "id": "lTNOn8fp-tnE"
      }
    },
    {
      "cell_type": "code",
      "source": [
        "#Step 4\n",
        "\n",
        "def sent_to_words(sentences):\n",
        "    for sentence in sentences:\n",
        "        yield(gensim.utils.simple_preprocess(str(sentence), deacc=True))  # deacc=True removes punctuations\n",
        "\n",
        "data_words = list(sent_to_words(data))\n",
        "\n",
        "print(data_words[:1])"
      ],
      "metadata": {
        "id": "xwE5hbtitQPg",
        "outputId": "847f3c2a-a761-4b11-98a3-3d3e24fa46f4",
        "colab": {
          "base_uri": "https://localhost:8080/"
        }
      },
      "execution_count": 4,
      "outputs": [
        {
          "output_type": "stream",
          "name": "stdout",
          "text": [
            "[['from', 'wheres', 'my', 'thing', 'subject', 'what', 'car', 'is', 'this', 'nntp', 'posting', 'host', 'rac', 'wam', 'umd', 'edu', 'organization', 'university', 'of', 'maryland', 'college', 'park', 'lines', 'was', 'wondering', 'if', 'anyone', 'out', 'there', 'could', 'enlighten', 'me', 'on', 'this', 'car', 'saw', 'the', 'other', 'day', 'it', 'was', 'door', 'sports', 'car', 'looked', 'to', 'be', 'from', 'the', 'late', 'early', 'it', 'was', 'called', 'bricklin', 'the', 'doors', 'were', 'really', 'small', 'in', 'addition', 'the', 'front', 'bumper', 'was', 'separate', 'from', 'the', 'rest', 'of', 'the', 'body', 'this', 'is', 'all', 'know', 'if', 'anyone', 'can', 'tellme', 'model', 'name', 'engine', 'specs', 'years', 'of', 'production', 'where', 'this', 'car', 'is', 'made', 'history', 'or', 'whatever', 'info', 'you', 'have', 'on', 'this', 'funky', 'looking', 'car', 'please', 'mail', 'thanks', 'il', 'brought', 'to', 'you', 'by', 'your', 'neighborhood', 'lerxst']]\n"
          ]
        }
      ]
    },
    {
      "cell_type": "markdown",
      "source": [
        "#Step 5: Remove Stop Words, Lemmatize Words, and Create Bigrams\n",
        "* Run the following code block to preprocess the data by removing stop words, lemmatizing words, and creating bigrams:\n"
      ],
      "metadata": {
        "id": "WxNFr7ibD7Y0"
      }
    },
    {
      "cell_type": "code",
      "source": [
        "# Build the bigram and trigram models\n",
        "bigram = gensim.models.Phrases(data_words, min_count=5, threshold=100) # higher threshold fewer phrases.\n",
        "#trigram = gensim.models.Phrases(bigram[data_words], threshold=100)  \n",
        "\n",
        "# Faster way to get a sentence clubbed as a trigram/bigram\n",
        "bigram_mod = gensim.models.phrases.Phraser(bigram)\n",
        "#trigram_mod = gensim.models.phrases.Phraser(trigram)\n",
        "\n",
        "# Define functions for stopwords, bigrams, trigrams and lemmatization\n",
        "def remove_stopwords(texts):\n",
        "    return [[word for word in simple_preprocess(str(doc)) if word not in stop_words] for doc in texts]\n",
        "\n",
        "def make_bigrams(texts):\n",
        "    return [bigram_mod[doc] for doc in texts]\n",
        "\n",
        "#def make_trigrams(texts):\n",
        "#    return [trigram_mod[bigram_mod[doc]] for doc in texts]\n",
        "\n",
        "def lemmatization(texts, allowed_postags=['NOUN', 'ADJ', 'VERB', 'ADV']):\n",
        "    \"\"\"https://spacy.io/api/annotation\"\"\"\n",
        "    texts_out = []\n",
        "    for sent in texts:\n",
        "        doc = nlp(\" \".join(sent)) \n",
        "        texts_out.append([token.lemma_ for token in doc if token.pos_ in allowed_postags])\n",
        "    return texts_out\n",
        "\n",
        "# Remove Stop Words\n",
        "#Define stop words\n",
        "stop_words = stopwords.words('english')\n",
        "stop_words.extend(['from', 'subject', 're', 'edu', 'use'])\n",
        "data_words_nostops = remove_stopwords(data_words)\n",
        "\n",
        "# Form Bigrams\n",
        "data_words_bigrams = make_bigrams(data_words_nostops)\n",
        "\n",
        "# Initialize spacy 'en' model, keeping only tagger component (for efficiency)\n",
        "nlp = spacy.load('en_core_web_sm', disable=['parser', 'ner'])\n",
        "\n",
        "# Do lemmatization keeping only noun, adj, vb, adv\n",
        "data_lemmatized = lemmatization(data_words_bigrams, allowed_postags=['NOUN', 'ADJ', 'VERB', 'ADV'])\n",
        "\n",
        "print(data_lemmatized[:1])\n",
        "\n"
      ],
      "metadata": {
        "id": "bfGA3D-Xte8A",
        "outputId": "a4b6dba8-d8d3-4a3b-b08f-9e764ea47933",
        "colab": {
          "base_uri": "https://localhost:8080/"
        }
      },
      "execution_count": 5,
      "outputs": [
        {
          "output_type": "stream",
          "name": "stderr",
          "text": [
            "/usr/local/lib/python3.7/dist-packages/spacy/language.py:1899: UserWarning: [W123] Argument disable with value ['parser', 'ner'] is used instead of ['senter'] as specified in the config. Be aware that this might affect other components in your pipeline.\n",
            "  config_value=config[\"nlp\"][key],\n"
          ]
        },
        {
          "output_type": "stream",
          "name": "stdout",
          "text": [
            "[['s', 'thing', 'car', 'nntp_poste', 'host', 'park', 'line', 'wonder', 'enlighten', 'car', 'see', 'day', 'door', 'sport', 'car', 'look', 'late', 'early', 'call', 'door', 'really', 'small', 'addition', 'separate', 'rest', 'body', 'know', 'tellme', 'model', 'name', 'engine', 'spec', 'year', 'production', 'car', 'make', 'history', 'info', 'funky', 'look', 'car', 'mail', 'thank', 'bring', 'neighborhood', 'lerxst']]\n"
          ]
        }
      ]
    },
    {
      "cell_type": "markdown",
      "source": [
        "#Step 6: Tokenize Words and Compute Word Frequencies\n",
        "* Run the following code block to tokenize the words in the texts and calculate word frequencies.\n",
        "* How many times does the word \"addition\" appear in the first newsgroup post?\n"
      ],
      "metadata": {
        "id": "cEfzl3mZPNxP"
      }
    },
    {
      "cell_type": "code",
      "source": [
        "# Create Dictionary\n",
        "id2word = corpora.Dictionary(data_lemmatized)\n",
        "\n",
        "# Create Corpus\n",
        "texts = data_lemmatized\n",
        "\n",
        "# Term Document Frequency\n",
        "corpus = [id2word.doc2bow(text) for text in texts]\n",
        "\n",
        "# View\n",
        "# Human readable format of corpus (term-frequency)\n",
        "[[(id2word[id], freq) for id, freq in cp] for cp in corpus[:1]]"
      ],
      "metadata": {
        "id": "fkm76iWwt2mM",
        "outputId": "254441e4-590b-4aee-b8cf-043ec765c1d9",
        "colab": {
          "base_uri": "https://localhost:8080/"
        }
      },
      "execution_count": 6,
      "outputs": [
        {
          "output_type": "execute_result",
          "data": {
            "text/plain": [
              "[[('addition', 1),\n",
              "  ('body', 1),\n",
              "  ('bring', 1),\n",
              "  ('call', 1),\n",
              "  ('car', 5),\n",
              "  ('day', 1),\n",
              "  ('door', 2),\n",
              "  ('early', 1),\n",
              "  ('engine', 1),\n",
              "  ('enlighten', 1),\n",
              "  ('funky', 1),\n",
              "  ('history', 1),\n",
              "  ('host', 1),\n",
              "  ('info', 1),\n",
              "  ('know', 1),\n",
              "  ('late', 1),\n",
              "  ('lerxst', 1),\n",
              "  ('line', 1),\n",
              "  ('look', 2),\n",
              "  ('mail', 1),\n",
              "  ('make', 1),\n",
              "  ('model', 1),\n",
              "  ('name', 1),\n",
              "  ('neighborhood', 1),\n",
              "  ('nntp_poste', 1),\n",
              "  ('park', 1),\n",
              "  ('production', 1),\n",
              "  ('really', 1),\n",
              "  ('rest', 1),\n",
              "  ('s', 1),\n",
              "  ('see', 1),\n",
              "  ('separate', 1),\n",
              "  ('small', 1),\n",
              "  ('spec', 1),\n",
              "  ('sport', 1),\n",
              "  ('tellme', 1),\n",
              "  ('thank', 1),\n",
              "  ('thing', 1),\n",
              "  ('wonder', 1),\n",
              "  ('year', 1)]]"
            ]
          },
          "metadata": {},
          "execution_count": 6
        }
      ]
    },
    {
      "cell_type": "markdown",
      "source": [
        "**Step 6 Answer:**\n",
        "\n"
      ],
      "metadata": {
        "id": "02iMjYhcRIpI"
      }
    },
    {
      "cell_type": "markdown",
      "source": [
        "#Step 7: Model the Topics in the Newsgroup Posts\n",
        "* Run the following code block to find the topics.\n",
        "* Most of the hyperparameters have been tuned so that the model will run as quickly and efficiently as possible.\n",
        "* How many topics will the model find in the data? Hint: Look at the hyperparameter `num_topics`.\n"
      ],
      "metadata": {
        "id": "wCOKbwIKRUxK"
      }
    },
    {
      "cell_type": "code",
      "source": [
        "#Step 7\n",
        "\n",
        "lda_model = gensim.models.ldamodel.LdaModel(corpus=corpus,\n",
        "                                           id2word=id2word,\n",
        "                                           num_topics=20, \n",
        "                                           random_state=100,\n",
        "                                           update_every=1,\n",
        "                                           chunksize=100,\n",
        "                                           passes=10,\n",
        "                                           alpha='auto',\n",
        "                                           per_word_topics=True)"
      ],
      "metadata": {
        "id": "zV0pscxVuRP-"
      },
      "execution_count": 7,
      "outputs": []
    },
    {
      "cell_type": "markdown",
      "source": [
        "**Step 7 Answer:**\n",
        "\n"
      ],
      "metadata": {
        "id": "hHIvMAn8R_M6"
      }
    },
    {
      "cell_type": "markdown",
      "source": [
        "#Step 8: Print the Terms Associated with the Top 10 Topics\n",
        "* Run the following code block to print the words associated with each topic.\n",
        "* What are the words associated with the 20th (last) topic?\n",
        "* How would you label the last topic?\n"
      ],
      "metadata": {
        "id": "PvsvQ3StSPe0"
      }
    },
    {
      "cell_type": "code",
      "source": [
        "# Step 8\n",
        "\n",
        "pprint(lda_model.print_topics())\n",
        "doc_lda = lda_model[corpus]"
      ],
      "metadata": {
        "id": "-Yw8XlaHuYpA",
        "outputId": "b9dd3400-1fb3-44d8-831b-92161cab98c5",
        "colab": {
          "base_uri": "https://localhost:8080/"
        }
      },
      "execution_count": 8,
      "outputs": [
        {
          "output_type": "stream",
          "name": "stdout",
          "text": [
            "[(0,\n",
            "  '0.024*\"kill\" + 0.023*\"live\" + 0.021*\"death\" + 0.017*\"die\" + '\n",
            "  '0.017*\"physical\" + 0.015*\"center\" + 0.014*\"bike\" + 0.014*\"attack\" + '\n",
            "  '0.012*\"israeli\" + 0.012*\"fire\"'),\n",
            " (1,\n",
            "  '0.621*\"ax\" + 0.018*\"slow\" + 0.014*\"brain\" + 0.014*\"review\" + 0.012*\"mb\" + '\n",
            "  '0.011*\"clipper_chip\" + 0.010*\"sc\" + 0.010*\"printer\" + 0.009*\"box\" + '\n",
            "  '0.008*\"mouse\"'),\n",
            " (2,\n",
            "  '0.075*\"space\" + 0.063*\"gun\" + 0.022*\"launch\" + 0.021*\"earth\" + '\n",
            "  '0.019*\"firearm\" + 0.017*\"orbit\" + 0.017*\"mission\" + 0.017*\"series\" + '\n",
            "  '0.015*\"vehicle\" + 0.015*\"year\"'),\n",
            " (3,\n",
            "  '0.150*\"com\" + 0.048*\"mount\" + 0.046*\"apple\" + 0.037*\"ram\" + '\n",
            "  '0.026*\"corporation\" + 0.025*\"frame\" + 0.025*\"task\" + 0.022*\"spring\" + '\n",
            "  '0.020*\"locate\" + 0.019*\"spacecraft\"'),\n",
            " (4,\n",
            "  '0.024*\"evidence\" + 0.019*\"believe\" + 0.016*\"claim\" + 0.016*\"reason\" + '\n",
            "  '0.014*\"man\" + 0.014*\"exist\" + 0.012*\"sense\" + 0.012*\"book\" + 0.012*\"life\" + '\n",
            "  '0.011*\"faith\"'),\n",
            " (5,\n",
            "  '0.024*\"thank\" + 0.024*\"line\" + 0.019*\"program\" + 0.018*\"file\" + '\n",
            "  '0.017*\"mail\" + 0.017*\"system\" + 0.014*\"card\" + 0.014*\"include\" + '\n",
            "  '0.014*\"send\" + 0.013*\"run\"'),\n",
            " (6,\n",
            "  '0.322*\"drive\" + 0.080*\"disk\" + 0.054*\"scsi\" + 0.036*\"gateway\" + '\n",
            "  '0.035*\"motherboard\" + 0.015*\"bank\" + 0.015*\"please_respond\" + '\n",
            "  '0.014*\"greatly_appreciate\" + 0.012*\"fast\" + 0.012*\"n\"'),\n",
            " (7,\n",
            "  '0.099*\"nhl\" + 0.070*\"cop\" + 0.026*\"enable\" + 0.025*\"police\" + 0.020*\"plot\" '\n",
            "  '+ 0.018*\"conservative\" + 0.015*\"row\" + 0.014*\"neat\" + 0.014*\"closely\" + '\n",
            "  '0.011*\"sharp\"'),\n",
            " (8,\n",
            "  '0.073*\"directory\" + 0.061*\"battery\" + 0.027*\"phase\" + 0.019*\"consult\" + '\n",
            "  '0.016*\"sustain\" + 0.014*\"weeks_ago\" + 0.013*\"scott_roby\" + 0.010*\"ave\" + '\n",
            "  '0.009*\"space_shuttle\" + 0.009*\"powerbook\"'),\n",
            " (9,\n",
            "  '0.196*\"window\" + 0.058*\"do\" + 0.056*\"monitor\" + 0.054*\"character\" + '\n",
            "  '0.040*\"section\" + 0.039*\"recommend\" + 0.029*\"usenet\" + 0.028*\"font\" + '\n",
            "  '0.023*\"workstation\" + 0.020*\"laboratory\"'),\n",
            " (10,\n",
            "  '0.095*\"season\" + 0.053*\"pen\" + 0.044*\"trade\" + 0.042*\"objective\" + '\n",
            "  '0.040*\"rational\" + 0.039*\"star\" + 0.030*\"morality\" + 0.030*\"past\" + '\n",
            "  '0.027*\"predict\" + 0.024*\"penguin\"'),\n",
            " (11,\n",
            "  '0.045*\"soldier\" + 0.042*\"armenian\" + 0.040*\"village\" + 0.037*\"greek\" + '\n",
            "  '0.027*\"turk\" + 0.027*\"turkish\" + 0.025*\"occupy\" + 0.019*\"terrorism\" + '\n",
            "  '0.017*\"northern\" + 0.014*\"inhabitant\"'),\n",
            " (12,\n",
            "  '0.053*\"upgrade\" + 0.047*\"pack\" + 0.043*\"library\" + 0.040*\"dog\" + '\n",
            "  '0.038*\"status\" + 0.034*\"clock\" + 0.028*\"floppy\" + 0.025*\"electrical\" + '\n",
            "  '0.025*\"ftp_site\" + 0.025*\"routine\"'),\n",
            " (13,\n",
            "  '0.031*\"write\" + 0.022*\"make\" + 0.021*\"know\" + 0.021*\"say\" + 0.020*\"think\" + '\n",
            "  '0.020*\"article\" + 0.019*\"people\" + 0.015*\"see\" + 0.012*\"thing\" + '\n",
            "  '0.012*\"way\"'),\n",
            " (14,\n",
            "  '0.092*\"team\" + 0.087*\"game\" + 0.061*\"play\" + 0.056*\"win\" + 0.044*\"year\" + '\n",
            "  '0.027*\"division\" + 0.023*\"score\" + 0.022*\"wing\" + 0.021*\"fan\" + '\n",
            "  '0.019*\"run\"'),\n",
            " (15,\n",
            "  '0.070*\"state\" + 0.059*\"government\" + 0.055*\"law\" + 0.037*\"right\" + '\n",
            "  '0.022*\"country\" + 0.021*\"protect\" + 0.018*\"pin\" + 0.017*\"crime\" + '\n",
            "  '0.017*\"watch\" + 0.016*\"citizen\"'),\n",
            " (16,\n",
            "  '0.047*\"line\" + 0.044*\"get\" + 0.034*\"go\" + 0.030*\"nntp_poste\" + '\n",
            "  '0.027*\"organization\" + 0.023*\"host\" + 0.021*\"m\" + 0.019*\"good\" + '\n",
            "  '0.015*\"look\" + 0.014*\"time\"'),\n",
            " (17,\n",
            "  '0.060*\"key\" + 0.047*\"system\" + 0.034*\"chip\" + 0.030*\"bit\" + '\n",
            "  '0.029*\"technology\" + 0.023*\"public\" + 0.023*\"phone\" + 0.022*\"datum\" + '\n",
            "  '0.021*\"cpu\" + 0.018*\"encryption\"'),\n",
            " (18,\n",
            "  '0.048*\"problem\" + 0.035*\"use\" + 0.015*\"talk\" + 0.014*\"work\" + 0.014*\"high\" '\n",
            "  '+ 0.014*\"science\" + 0.010*\"set\" + 0.010*\"value\" + 0.010*\"current\" + '\n",
            "  '0.010*\"reference\"'),\n",
            " (19,\n",
            "  '0.044*\"model\" + 0.040*\"device\" + 0.036*\"wire\" + 0.033*\"power\" + '\n",
            "  '0.032*\"replace\" + 0.030*\"bus\" + 0.026*\"unit\" + 0.025*\"internal\" + '\n",
            "  '0.023*\"ground\" + 0.022*\"external\"')]\n"
          ]
        }
      ]
    },
    {
      "cell_type": "markdown",
      "source": [
        "**Step 8 Answers:**\n",
        "\n"
      ],
      "metadata": {
        "id": "RpyR7WYPTmCC"
      }
    },
    {
      "cell_type": "markdown",
      "source": [
        "#Step 9: Visualize the Topics and Explore the Keywords\n",
        "* Run the following code block to create a visualization of the topics and keywords associated with the topics.\n",
        "* Hover over each topic on the right side to view the associated topics.\n",
        "* You can also see how some topics have keywords that overlap (such as topics 1 and 4).\n",
        "* What is the most relevant keyword for topic 9?\n"
      ],
      "metadata": {
        "id": "9-_vNTHqUR08"
      }
    },
    {
      "cell_type": "code",
      "source": [
        "#Step 9\n",
        "\n",
        "pyLDAvis.enable_notebook()\n",
        "vis = pyLDAvis.gensim_models.prepare(lda_model, corpus, id2word)\n",
        "vis"
      ],
      "metadata": {
        "id": "_c-F_n3mutFY",
        "outputId": "c97a1ecc-8248-4929-f717-5fb188502581",
        "colab": {
          "base_uri": "https://localhost:8080/",
          "height": 896
        }
      },
      "execution_count": 9,
      "outputs": [
        {
          "output_type": "stream",
          "name": "stderr",
          "text": [
            "/usr/local/lib/python3.7/dist-packages/pyLDAvis/_prepare.py:247: FutureWarning: In a future version of pandas all arguments of DataFrame.drop except for the argument 'labels' will be keyword-only\n",
            "  by='saliency', ascending=False).head(R).drop('saliency', 1)\n"
          ]
        },
        {
          "output_type": "execute_result",
          "data": {
            "text/plain": [
              "PreparedData(topic_coordinates=              x         y  topics  cluster       Freq\n",
              "topic                                                \n",
              "13     0.336252  0.115210       1        1  28.822133\n",
              "16     0.304278  0.125151       2        1  17.010702\n",
              "5      0.261910 -0.202374       3        1  11.287734\n",
              "4      0.230874  0.073268       4        1   9.723184\n",
              "18     0.195257 -0.153352       5        1   7.079453\n",
              "1     -0.010802 -0.012742       6        1   5.824930\n",
              "0      0.091961  0.181128       7        1   4.802126\n",
              "17     0.099937 -0.306563       8        1   3.502902\n",
              "15     0.021472  0.091379       9        1   2.884076\n",
              "14    -0.001591  0.057426      10        1   1.907837\n",
              "2     -0.025516 -0.010307      11        1   1.763449\n",
              "19    -0.092997  0.016799      12        1   1.355953\n",
              "11    -0.086043  0.074242      13        1   1.134765\n",
              "9     -0.151772 -0.003563      14        1   0.730654\n",
              "6     -0.162325 -0.019765      15        1   0.563621\n",
              "3     -0.182897 -0.007964      16        1   0.481568\n",
              "10    -0.189351 -0.005164      17        1   0.402312\n",
              "12    -0.198896 -0.006804      18        1   0.372311\n",
              "7     -0.215820 -0.001345      19        1   0.215189\n",
              "8     -0.223931 -0.004659      20        1   0.135102, topic_info=           Term         Freq         Total Category  logprob  loglift\n",
              "4327         ax  46130.00000  46130.000000  Default  30.0000  30.0000\n",
              "17         line  17429.00000  17429.000000  Default  29.0000  29.0000\n",
              "113         get  10572.00000  10572.000000  Default  28.0000  28.0000\n",
              "116          go   7849.00000   7849.000000  Default  27.0000  27.0000\n",
              "366       drive   2315.00000   2315.000000  Default  26.0000  26.0000\n",
              "...         ...          ...           ...      ...      ...      ...\n",
              "4840       kick      0.02608      1.260523  Topic20 -11.0985   2.7288\n",
              "5253  equipment      0.02608      1.260548  Topic20 -11.0985   2.7288\n",
              "4436        rlk      0.02608      1.260570  Topic20 -11.0985   2.7287\n",
              "4714     select      0.02608      1.260582  Topic20 -11.0985   2.7287\n",
              "3890      slave      0.02608      1.260714  Topic20 -11.0985   2.7286\n",
              "\n",
              "[859 rows x 6 columns], token_table=      Topic      Freq     Term\n",
              "term                          \n",
              "354      16  0.966707   absurd\n",
              "1340      4  0.999063   accept\n",
              "86        3  0.172479   access\n",
              "86        8  0.825225   access\n",
              "2684      7  0.997118  account\n",
              "...     ...       ...      ...\n",
              "613       1  0.068465    young\n",
              "613       4  0.017116    young\n",
              "613       7  0.836064    young\n",
              "613      10  0.077682    young\n",
              "2592     12  0.995958     zone\n",
              "\n",
              "[1130 rows x 3 columns], R=30, lambda_step=0.01, plot_opts={'xlab': 'PC1', 'ylab': 'PC2'}, topic_order=[14, 17, 6, 5, 19, 2, 1, 18, 16, 15, 3, 20, 12, 10, 7, 4, 11, 13, 8, 9])"
            ],
            "text/html": [
              "\n",
              "<link rel=\"stylesheet\" type=\"text/css\" href=\"https://cdn.jsdelivr.net/gh/bmabey/pyLDAvis@3.3.1/pyLDAvis/js/ldavis.v1.0.0.css\">\n",
              "\n",
              "\n",
              "<div id=\"ldavis_el771398887970121769992620129\"></div>\n",
              "<script type=\"text/javascript\">\n",
              "\n",
              "var ldavis_el771398887970121769992620129_data = {\"mdsDat\": {\"x\": [0.33625225555675736, 0.30427777691209085, 0.2619102500451968, 0.23087426810883752, 0.1952572085306173, -0.010802278820297441, 0.09196096737464925, 0.09993652495939517, 0.02147157564815029, -0.0015907534736574265, -0.025515577849109013, -0.09299747396976726, -0.08604337511241737, -0.1517717825901844, -0.16232527747362743, -0.18289701749306056, -0.18935050281664692, -0.19889570502220258, -0.21581992347901702, -0.22393115903570637], \"y\": [0.11520997422651785, 0.12515073206551536, -0.20237413109604274, 0.07326791496129126, -0.15335245483031823, -0.012742435769336407, 0.18112750132684732, -0.30656333050984697, 0.09137930769056476, 0.05742630539126562, -0.010306645828741945, 0.016799387631796756, 0.07424152314425239, -0.003562878067374244, -0.019765033476486657, -0.007963529625748185, -0.005163666410869551, -0.006804308219316826, -0.001345466571164718, -0.0046587660328060426], \"topics\": [1, 2, 3, 4, 5, 6, 7, 8, 9, 10, 11, 12, 13, 14, 15, 16, 17, 18, 19, 20], \"cluster\": [1, 1, 1, 1, 1, 1, 1, 1, 1, 1, 1, 1, 1, 1, 1, 1, 1, 1, 1, 1], \"Freq\": [28.822132682475527, 17.010701575458253, 11.28773366812372, 9.723183594087052, 7.079453233494772, 5.824930392596228, 4.8021259676557095, 3.502901794463157, 2.8840759456847316, 1.9078365475263661, 1.7634492175497765, 1.3559528963546759, 1.1347651074061755, 0.7306543540261826, 0.5636211244614474, 0.4815682797818239, 0.4023120789057654, 0.37231050708341473, 0.21518888491255722, 0.1351021479526725]}, \"tinfo\": {\"Term\": [\"ax\", \"line\", \"get\", \"go\", \"drive\", \"problem\", \"year\", \"system\", \"write\", \"use\", \"nntp_poste\", \"right\", \"state\", \"do\", \"key\", \"window\", \"people\", \"team\", \"game\", \"organization\", \"make\", \"think\", \"article\", \"host\", \"government\", \"thank\", \"know\", \"law\", \"m\", \"say\", \"seem\", \"hear\", \"course\", \"far\", \"lot\", \"opinion\", \"rather\", \"wrong\", \"agree\", \"one\", \"religion\", \"perhaps\", \"patient\", \"internet\", \"difference\", \"mind\", \"suggest\", \"certainly\", \"effect\", \"care\", \"likely\", \"soon\", \"drug\", \"school\", \"goal\", \"risk\", \"learn\", \"sort\", \"serious\", \"worth\", \"university\", \"idea\", \"actually\", \"make\", \"consider\", \"think\", \"way\", \"point\", \"even\", \"question\", \"thing\", \"know\", \"give\", \"say\", \"people\", \"write\", \"see\", \"answer\", \"article\", \"many\", \"never\", \"try\", \"find\", \"mean\", \"case\", \"well\", \"tell\", \"take\", \"sure\", \"want\", \"also\", \"line\", \"time\", \"good\", \"organization\", \"car\", \"buy\", \"driver\", \"guy\", \"month\", \"sorry\", \"job\", \"anyway\", \"amount\", \"advice\", \"performance\", \"eat\", \"wait\", \"minute\", \"drop\", \"baseball\", \"owner\", \"dealer\", \"mile\", \"room\", \"sit\", \"ago\", \"door\", \"night\", \"insurance\", \"around\", \"stick\", \"mine\", \"kid\", \"ticket\", \"back\", \"big\", \"go\", \"get\", \"light\", \"nntp_poste\", \"pay\", \"week\", \"old\", \"lose\", \"host\", \"turn\", \"money\", \"m\", \"look\", \"ve\", \"move\", \"last\", \"couple\", \"line\", \"organization\", \"d\", \"good\", \"come\", \"s\", \"start\", \"year\", \"day\", \"next\", \"time\", \"new\", \"work\", \"re\", \"article\", \"well\", \"write\", \"want\", \"much\", \"take\", \"thank\", \"file\", \"mail\", \"card\", \"software\", \"machine\", \"email\", \"info\", \"sale\", \"copy\", \"player\", \"version\", \"entry\", \"image\", \"color\", \"screen\", \"graphic\", \"video\", \"tape\", \"instal\", \"server\", \"appreciate\", \"advance\", \"board\", \"package\", \"engineering\", \"format\", \"option\", \"version_pl\", \"program\", \"test\", \"keyword\", \"available\", \"computer\", \"address\", \"list\", \"send\", \"include\", \"memory\", \"information\", \"run\", \"system\", \"help\", \"support\", \"line\", \"need\", \"use\", \"also\", \"number\", \"evidence\", \"claim\", \"exist\", \"faith\", \"christian\", \"god\", \"accept\", \"argument\", \"discussion\", \"truth\", \"belief\", \"atheist\", \"church\", \"human\", \"event\", \"conclusion\", \"religious\", \"publish\", \"lie\", \"authority\", \"therefore\", \"family\", \"nature\", \"respect\", \"bible\", \"handle\", \"christianity\", \"future\", \"proof\", \"universe\", \"prove\", \"statement\", \"society\", \"life\", \"man\", \"sense\", \"word\", \"book\", \"believe\", \"study\", \"reason\", \"present\", \"whole\", \"world\", \"issue\", \"follow\", \"become\", \"come\", \"explain\", \"child\", \"fact\", \"say\", \"part\", \"problem\", \"science\", \"value\", \"error\", \"process\", \"faq\", \"newsgroup\", \"input\", \"main\", \"switch\", \"fine\", \"material\", \"signal\", \"blank\", \"fix\", \"track\", \"hole\", \"circuit\", \"plane\", \"range\", \"scripture\", \"wide\", \"crash\", \"actual\", \"data\", \"output\", \"topic\", \"apr\", \"prefer\", \"gmt\", \"function\", \"reference\", \"current\", \"level\", \"talk\", \"relate\", \"scientific\", \"use\", \"single\", \"possibility\", \"high\", \"design\", \"small\", \"require\", \"produce\", \"build\", \"set\", \"result\", \"work\", \"lead\", \"part\", \"sometimes\", \"bit\", \"first\", \"time\", \"ax\", \"slow\", \"brain\", \"review\", \"mb\", \"clipper_chip\", \"sc\", \"printer\", \"box\", \"mouse\", \"law_enforcement\", \"saturn\", \"headache\", \"dual\", \"specify\", \"export\", \"crypto\", \"distance\", \"ide\", \"hopefully\", \"brown\", \"pop\", \"reflect\", \"mph\", \"distribution_usa\", \"purdue_university\", \"programmer\", \"improvement\", \"bounce\", \"suitable\", \"death\", \"die\", \"physical\", \"bike\", \"israeli\", \"fire\", \"city\", \"reality\", \"shoot\", \"account\", \"direct\", \"dead\", \"trial\", \"concept\", \"fight\", \"arab\", \"race\", \"bomb\", \"stay\", \"withdraw\", \"step\", \"foot\", \"building\", \"wife\", \"house\", \"electronic\", \"blood\", \"rider\", \"club\", \"impression\", \"kill\", \"black\", \"white\", \"war\", \"center\", \"live\", \"attack\", \"notice\", \"land\", \"young\", \"force\", \"murder\", \"report\", \"child\", \"leave\", \"area\", \"stop\", \"key\", \"chip\", \"phone\", \"cpu\", \"encryption\", \"security\", \"distribution\", \"self\", \"originator\", \"clipper\", \"master\", \"ride\", \"controller\", \"quality\", \"license\", \"secure\", \"motif\", \"tap\", \"secret\", \"interface\", \"listen\", \"procedure\", \"link\", \"blind\", \"helmet\", \"facility\", \"register\", \"compile\", \"privacy\", \"somehow\", \"technology\", \"datum\", \"access\", \"block\", \"bit\", \"public\", \"system\", \"private\", \"obtain\", \"digital\", \"message\", \"use\", \"provide\", \"information\", \"law\", \"protect\", \"pin\", \"crime\", \"watch\", \"citizen\", \"weapon\", \"bear\", \"united_state\", \"criminal\", \"count\", \"vote\", \"processor\", \"bill\", \"court\", \"aware\", \"protection\", \"draft\", \"agent\", \"ban\", \"gun_control\", \"restrict\", \"violation\", \"remind\", \"connector\", \"restriction\", \"penalty\", \"million\", \"danger\", \"neighbor\", \"national\", \"government\", \"state\", \"policy\", \"meet\", \"arm\", \"country\", \"official\", \"transfer\", \"right\", \"industry\", \"rate\", \"talk\", \"power\", \"team\", \"game\", \"play\", \"win\", \"division\", \"score\", \"wing\", \"fan\", \"generate\", \"cycle\", \"stat\", \"ice\", \"european\", \"rd\", \"canadian\", \"offense\", \"blue\", \"pitch\", \"cylinder\", \"widget\", \"hr\", \"brave\", \"coverage\", \"twice\", \"staff\", \"hitter\", \"era\", \"deficit\", \"investment\", \"starter\", \"final\", \"defense\", \"year\", \"hit\", \"run\", \"pick\", \"first\", \"last\", \"second\", \"total\", \"next\", \"space\", \"gun\", \"launch\", \"firearm\", \"orbit\", \"mission\", \"series\", \"vehicle\", \"moon\", \"satellite\", \"flight\", \"rocket\", \"channel\", \"mirror\", \"planet\", \"mar\", \"shuttle\", \"fuel\", \"conference\", \"collect\", \"tie\", \"astronomy\", \"confirm\", \"specification\", \"radiation\", \"sky\", \"usage\", \"speaker\", \"ammunition\", \"training\", \"earth\", \"safety\", \"research\", \"year\", \"increase\", \"development\", \"project\", \"report\", \"model\", \"device\", \"wire\", \"replace\", \"bus\", \"unit\", \"internal\", \"external\", \"air\", \"cable\", \"warranty\", \"benefit\", \"ensure\", \"zone\", \"band\", \"serial\", \"nuclear\", \"dept\", \"acquire\", \"spec\", \"production\", \"middle\", \"trace\", \"wiring\", \"power_supply\", \"heat\", \"panel\", \"amp\", \"customer\", \"reserve_university\", \"hot\", \"ground\", \"component\", \"radio\", \"power\", \"soldier\", \"armenian\", \"village\", \"turk\", \"turkish\", \"occupy\", \"northern\", \"inhabitant\", \"lock\", \"escape\", \"troop\", \"distribution_world\", \"aged\", \"muslim\", \"serdar_argic\", \"crack\", \"genocide\", \"render\", \"exclude\", \"nazi\", \"massacre\", \"moslem\", \"foreign\", \"slaughter\", \"region\", \"soviet\", \"occupation\", \"hi\", \"wound\", \"kurd\", \"greek\", \"russian\", \"terrorism\", \"territory\", \"town\", \"close\", \"people\", \"window\", \"monitor\", \"character\", \"recommend\", \"usenet\", \"font\", \"workstation\", \"laboratory\", \"trivial\", \"unix\", \"menu\", \"unable\", \"afford\", \"click\", \"ms_window\", \"upper\", \"flag\", \"enhancement\", \"controversial\", \"in\", \"inferior\", \"user_interface\", \"section\", \"alavi\", \"helpful\", \"do\", \"application\", \"document\", \"avoid\", \"transfer\", \"display\", \"top\", \"normal\", \"drive\", \"disk\", \"scsi\", \"gateway\", \"motherboard\", \"bank\", \"please_respond\", \"greatly_appreciate\", \"n\", \"simms\", \"impressive\", \"meg\", \"simm\", \"purchasing\", \"hassle\", \"dinner\", \"australian\", \"interactive\", \"bk\", \"visualization\", \"involved\", \"ns\", \"silverline\", \"fast\", \"pc\", \"memory\", \"plug\", \"slave\", \"jumper\", \"cp_ut\", \"com\", \"mount\", \"apple\", \"ram\", \"corporation\", \"frame\", \"task\", \"spring\", \"locate\", \"spacecraft\", \"up\", \"fee\", \"tip\", \"restore\", \"giant\", \"rob\", \"unique\", \"paint\", \"cooperation\", \"vms_vnews\", \"diagnostic\", \"cmu\", \"excellent_condition\", \"po_andrew\", \"tail\", \"peripheral\", \"absurd\", \"io\", \"thunder\", \"digital_equipment\", \"season\", \"pen\", \"rational\", \"morality\", \"past\", \"predict\", \"penguin\", \"leafs\", \"camera\", \"captain\", \"objective\", \"flyer\", \"koresh\", \"playing\", \"atom\", \"mathematical\", \"evolve\", \"comprise\", \"outer\", \"explode\", \"sunlight\", \"team_captain\", \"cosmic\", \"squad\", \"clinton_gore\", \"comprehend\", \"star\", \"trade\", \"moral\", \"reluctant\", \"upgrade\", \"pack\", \"library\", \"dog\", \"status\", \"clock\", \"floppy\", \"electrical\", \"ftp_site\", \"routine\", \"regularly\", \"sad\", \"length\", \"scare\", \"brief\", \"please\", \"alarm\", \"intelligence\", \"excerpt\", \"pseudo\", \"satisfactory\", \"functionality\", \"chase\", \"dod_fxwg\", \"lady_cb\", \"wide_glide\", \"wild_corn\", \"si\", \"pegasus\", \"ripem\", \"nhl\", \"cop\", \"enable\", \"plot\", \"conservative\", \"row\", \"neat\", \"closely\", \"sharp\", \"fatal\", \"hype\", \"void\", \"manifest\", \"compiler\", \"physics_laboratory\", \"ist\", \"ists_ca\", \"solar_terresterial\", \"deepak_chhabra\", \"bee\", \"initialize\", \"radar\", \"police\", \"hockey\", \"admiral\", \"franchise\", \"league\", \"radar_detector\", \"assertion\", \"arena\", \"slave\", \"playoff\", \"jumper\", \"directory\", \"battery\", \"phase\", \"consult\", \"sustain\", \"weeks_ago\", \"scott_roby\", \"ave\", \"space_shuttle\", \"powerbook\", \"ssf\", \"batf_fbi\", \"switchover\", \"inverter\", \"dock\", \"ctrl_key\", \"electrolyte\", \"construct_home\", \"copper\", \"metal\", \"beast\", \"usr_user\", \"devguide\", \"lamp\", \"standby\", \"discharge\", \"timer\", \"obtainable\", \"grade\", \"ooo\", \"slot\", \"kick\", \"equipment\", \"rlk\", \"select\", \"slave\"], \"Freq\": [46130.0, 17429.0, 10572.0, 7849.0, 2315.0, 4367.0, 4842.0, 5006.0, 13813.0, 6290.0, 7098.0, 3953.0, 2862.0, 2220.0, 2697.0, 1823.0, 8018.0, 2243.0, 2125.0, 9354.0, 8289.0, 7749.0, 9856.0, 5773.0, 2249.0, 3448.0, 8601.0, 2031.0, 5804.0, 9015.0, 3115.4699757027465, 2090.785147470643, 2069.182022110401, 2008.3715129563695, 1982.2729148066585, 1615.5038930861601, 1593.9060744414453, 1493.3325170225614, 1404.6479710060526, 1223.0562740723142, 1110.64788510475, 1071.354395571915, 1012.7540478429943, 975.4689789530302, 954.6644286875239, 953.3980922966747, 866.3176294366987, 822.3291517289899, 813.0128702513294, 800.1808041443669, 787.3346153267256, 746.7742758499257, 710.0712766203854, 705.8957474219272, 673.5469510789762, 678.0582584228418, 642.1207101120826, 611.802331603787, 590.8120462948104, 568.4914016399082, 1756.1484594548763, 1670.9003541113113, 1518.8999300663847, 7904.384276467046, 1716.9006761493283, 7376.490018943888, 4305.240047811793, 3688.0296595321415, 3927.6360824586604, 3409.4606464635967, 4349.914375705367, 7699.861405816159, 3834.126276960291, 7606.404325104323, 6816.282314650569, 11220.882222684744, 5356.749295930303, 1290.581319028261, 7233.282651344026, 3332.55640977333, 2213.834014624407, 3270.422303056062, 3129.4714878460845, 2552.4759033886294, 2488.0544310945406, 3889.1165174710136, 2475.9078728046998, 2933.744754958956, 2173.1534181263737, 2735.8133385466163, 2957.865660060545, 3836.165425197911, 2672.978403010945, 2449.5006292325215, 2410.7039167468297, 2239.9353242338825, 1747.9211729248605, 1418.333513210239, 811.846991217342, 809.7770415201181, 746.1045684512641, 667.799890931032, 634.7559143204329, 586.5468889250335, 545.7228697817534, 533.974329146178, 508.49676227663645, 503.83053513191123, 503.33972023396547, 468.42821213281906, 414.76139680519327, 411.50712126658516, 404.8124434405545, 399.14539036354216, 398.0605560764502, 383.32388423016164, 357.9378273634637, 354.2735627643649, 352.2739820618754, 346.5589386438741, 344.5854242739639, 338.0597229643627, 328.66672507104363, 437.1090588935107, 267.13833414720415, 2619.65450240392, 1517.4638770414358, 7307.366165047625, 9613.039567658821, 847.6918861926489, 6438.038212491228, 1264.7535105575903, 1215.1309928135472, 1876.2853328728768, 1245.7901525738866, 4886.987562824534, 1158.509563739678, 1268.5126192253279, 4563.492251640384, 3321.2977374779816, 2363.1569402738214, 973.2691712652153, 1785.3952642025192, 825.0538825413485, 10155.435090293293, 5905.241970442105, 1727.470619531984, 4033.596848897523, 3059.7552286385326, 2745.1101445911163, 1653.109333588887, 2864.3593727847333, 1816.3707560841983, 1304.661570897911, 3115.588504764918, 2135.9658164819552, 2261.0880520896494, 1539.4018279080788, 2621.602809215774, 2147.7065776306754, 2552.7537443548144, 1749.7357129757263, 1649.3475980814321, 1625.1489485411716, 3447.3381646890352, 2580.0692936608493, 2504.0882995834936, 2055.7789811961406, 1580.6377136164963, 1494.8261328788808, 1389.8761696794597, 1290.2966456347149, 1279.8601364582894, 1234.6607838853943, 1190.0914888259892, 1154.9155347253138, 1142.7047009955756, 1116.4391197405012, 982.9960491162644, 951.1023205684144, 912.349828030872, 912.073616394824, 797.5602945888536, 773.1047710914637, 772.8357329129539, 741.6319300802909, 713.4053132509341, 708.9886087405347, 675.1083017462341, 665.970992884123, 637.4727232515463, 627.2207127213354, 584.5443389104297, 2767.1578932550387, 1146.2458414363666, 1121.5255033849987, 1497.828392462741, 1884.137852556235, 1350.329233479983, 1556.9418391598977, 1952.043678778739, 2031.2401249163217, 967.1036226696382, 1712.8087357984086, 1932.3409396294935, 2493.8612285505183, 1669.3362422840878, 1294.8230302996228, 3432.4460668398538, 1804.1257775923993, 1931.669450370596, 1850.3286097207235, 1447.5952839478477, 2933.709957968178, 2038.4124241448449, 1711.7573834106627, 1397.8988875620244, 1191.6342086491154, 1021.3646487280269, 1013.7554896255076, 944.2640047361349, 923.9608056994765, 913.8447508558456, 901.7560387530432, 801.2305590212956, 749.0026404265077, 737.3547284893792, 712.9688294248615, 660.8467652390452, 617.8060622549916, 600.9686278119078, 556.2538890355635, 541.7003804083107, 484.33884059937577, 477.2938340998264, 477.10427212631345, 451.3120917524273, 428.7301932087277, 418.3918036817686, 404.0203496231373, 363.09809192632326, 362.151841289005, 348.6406492070489, 953.2592040294494, 673.0713613703856, 457.5421117017247, 1440.2090045515881, 1769.9507436815873, 1503.4598147516442, 1151.0270020860412, 1441.6635931239705, 2372.4958687714634, 682.76544230984, 1958.8898335856532, 699.8205914947803, 795.7504999460352, 1023.5034506323764, 1085.1287344255952, 1128.0985790573257, 881.2152592261997, 1346.383190694376, 760.3293509328123, 846.8840699047008, 897.1337873105512, 1060.0327503568685, 811.8928064454249, 4365.938059681131, 1227.4778892579236, 926.2460927650595, 857.9214790024437, 724.4026701088401, 679.372365455396, 653.6970040121499, 652.5989818207955, 598.281151867017, 522.9593271474486, 519.8727638097465, 492.4686712500362, 474.5550661227607, 449.91944936618887, 431.8284468419109, 419.6757370365878, 390.4186637021668, 377.3229179120197, 352.48019736807265, 350.32554851448185, 350.3022333078836, 346.5747645841158, 338.6138303895956, 334.530116241295, 328.5314016073145, 317.0573346054095, 313.4867021676857, 312.94984273063227, 307.6041430940796, 286.27209559270926, 735.0212855719878, 880.1182284401395, 910.4684464835607, 819.2404370035562, 1388.7622710198486, 566.4985518074099, 449.8264828706277, 3156.2750065328105, 821.6353649339828, 486.3560505841809, 1227.9587417424273, 651.9487209190073, 776.498638661242, 814.8216902742372, 577.6611747420956, 795.9555044337377, 926.733672811431, 687.5105288578721, 1238.4520563657866, 670.0294218641752, 812.6397737714509, 589.5190491485606, 653.3435547305183, 654.0120641438731, 612.8523781165659, 46128.97750091717, 1362.756044670251, 1068.402625484553, 1038.0436058154705, 878.4405541478972, 802.0935999839869, 762.0539332149239, 748.1738576736564, 647.3163760472111, 596.6131833636864, 584.2247587539629, 472.2337960629008, 462.54706002693473, 438.90915320282477, 405.80101353250666, 377.4492669650147, 350.4071259815905, 311.72494597502686, 301.64955592280313, 281.5684353218037, 274.721859258925, 273.5572637611261, 270.4648453974795, 269.7861193143434, 264.95991102504684, 259.50891217080414, 248.54560994773726, 245.07377476049288, 238.89127327853507, 211.14764189448348, 1280.1175905692965, 1049.7457595242445, 1049.1037988048165, 848.7826772533708, 765.5348494298632, 753.3361126455131, 649.6306497968844, 632.73962166551, 529.5351665473535, 488.2205962451125, 475.93863387966724, 472.99299592067194, 435.5380903756981, 429.7020034568231, 424.6665705860989, 419.4938925144734, 407.8655846615501, 392.8346967541121, 378.8409627297944, 372.6082850963449, 372.26602773748874, 362.7678726431929, 356.2752220242456, 355.26650402335684, 351.2869351047038, 339.6941364527618, 326.1390337552649, 306.2180582688302, 303.8031473876345, 286.64821031113536, 1444.7981413565112, 741.9759063903605, 618.0184481463901, 740.1496781663974, 916.0525625360389, 1403.5574986437832, 848.1587991310693, 502.53180249121584, 455.1594480659008, 634.7497561769651, 656.2569233930185, 490.64965376380763, 724.2344828080148, 681.136181237202, 685.9379378961671, 591.4740512084785, 547.1401435293019, 2696.572903774217, 1521.746105780993, 1015.3567855756073, 952.1489548122781, 803.5762244073993, 707.6761315075403, 588.6639824848165, 583.0057111469362, 577.5887352224013, 539.8016404774463, 522.0584593138074, 516.206161331259, 479.37430348993763, 475.9875544679638, 473.6432565566199, 467.6759906094098, 429.6422327828352, 424.21485440040476, 412.84767255960844, 366.7755610286489, 350.6890336996256, 298.19180243964075, 297.201113959499, 271.8726477426585, 264.1390444447819, 240.07293729848362, 237.96924823826416, 232.7114715293629, 219.53677940954952, 217.8490014209104, 1290.8894341042403, 993.9249760618653, 555.478144526058, 517.3796834113731, 1353.359938651932, 1047.596249524859, 2087.0169993404384, 474.6921988009768, 327.10676567496574, 347.3954282856486, 519.1634552814725, 735.6160515593984, 508.774104482859, 475.65833748048505, 2029.9941903322124, 765.9210059869341, 644.2775728686165, 624.7400759845713, 608.3018538408539, 588.6202636006549, 557.8066907700558, 488.237212502136, 432.42950622192626, 422.8638108759389, 391.3508405498852, 388.5828503445095, 388.0617024287194, 375.85799552529926, 354.0028087386094, 336.4754244506113, 318.58396976417106, 268.7927435063953, 261.77648307201673, 232.20454206747738, 226.02276236757257, 215.27437780590645, 207.9401938467756, 205.14763993803268, 185.52727053174877, 185.08174935958914, 180.16457214558753, 156.76079288824945, 150.13068277814304, 134.9906455055808, 501.510622437546, 2166.791886773055, 2559.1139014694572, 458.4937195525323, 455.44309259293175, 337.144194399608, 806.6071320311074, 328.96588579735925, 372.5314123165737, 1345.5486930611685, 286.7544291438853, 476.0975356706729, 547.5493062037291, 332.3432408448437, 2242.2000561173263, 2124.219804041631, 1486.058781960939, 1350.6286228681872, 661.5617574017832, 554.2394854128577, 528.6180448488259, 504.49092883126855, 320.3759941968667, 273.7390991386649, 268.45189887452267, 257.2484987134408, 234.80020322544564, 211.41485578944446, 201.66877219788293, 200.06791090942406, 200.02888596373222, 181.79037816403212, 178.86125231142003, 178.5587976510232, 169.31827067298877, 161.15095236405017, 154.781002488805, 134.94510077386954, 132.39110844392707, 118.54871998378704, 114.52823274343854, 103.35666216204552, 103.00642347261775, 102.06970013187801, 294.763052096618, 230.10877926635158, 1064.6824663269454, 254.90092840314657, 458.9594232916878, 233.96705916129395, 336.41694656897124, 256.5303898550567, 190.16067378196553, 171.89139021208567, 172.00202887925616, 1679.2531983760646, 1424.7612423610378, 489.560524032748, 433.74820695844596, 392.0301234767375, 385.51358438661487, 377.84941885208235, 337.30732464845903, 308.9259105940085, 298.84330027638447, 274.8448028697938, 261.4374358327472, 243.85666844209453, 243.47335123868024, 242.32777764338425, 206.6526744771339, 206.01962189478604, 202.29313517224418, 184.16668697122248, 179.9380482185015, 175.43434863196265, 173.0328293803406, 169.25857202102148, 162.29031186236898, 154.86339703256735, 149.86853234809655, 144.6737452968633, 142.37552834529245, 141.50993823219963, 139.56746117936552, 480.10137236998054, 317.7920821270283, 247.84168846834368, 333.7034432918707, 178.89474002497985, 164.7967358931975, 164.40466265988937, 166.06916718475432, 763.6345318816127, 687.9076372004415, 614.2017748673775, 545.0374851458228, 525.8762700277962, 449.7410648328652, 426.6413847513461, 386.18401400334716, 358.679476878003, 311.85764854475735, 300.7485100411568, 257.78912199191865, 248.9657975538099, 222.70756585738837, 218.43172527175724, 200.805226156988, 200.25947526398122, 199.98647901555066, 197.3443797995908, 195.4382220307393, 190.39512813848307, 185.32745508078315, 185.1759372502925, 171.92792814538282, 168.29584908298443, 163.65541217429742, 152.00440454628247, 142.4895615564085, 140.91295144481637, 139.52326218183103, 300.1888588730662, 399.65262353415244, 156.78911116983124, 256.2306965970932, 564.354325359863, 653.9095891277345, 608.8653942343708, 577.3407122997006, 389.75969411628137, 386.1997027203018, 355.0930202600407, 246.7526517464037, 204.15737302563625, 188.39287533737547, 182.4935561508359, 177.19857712668446, 159.58853290379892, 157.28414399223496, 153.27109292729824, 152.92775643543519, 149.75472121204064, 146.80745423104779, 132.0841540081781, 127.92786971476441, 124.0760470185283, 123.09960509893087, 122.59171080043816, 121.50503348252673, 119.03421311302894, 106.69704826455951, 94.89938715564983, 84.38448973531358, 78.27171583490737, 69.20129573405346, 66.26070784817733, 531.5769813875056, 183.7627729360949, 269.8030110248202, 107.79213005432823, 135.16635084208403, 134.12609694209794, 132.27006335197203, 1822.5399807687736, 518.9271641453564, 505.4208275216283, 361.69544058405666, 273.9197883077179, 258.45521461611304, 218.8772736418358, 182.86711104205006, 134.48853377600648, 124.33868894741488, 121.92031511930617, 109.38545064944701, 81.9166330763015, 81.7040098992953, 71.91395285662969, 71.72596560451254, 69.6108215195116, 51.931891744523924, 44.89363322910404, 23.145713979235367, 7.827585064941838, 7.354074733893178, 370.3600997628279, 1.2041929805615372, 39.68936461483585, 539.5932898598995, 176.04693926351578, 44.97754378814135, 60.0147664183935, 24.187539773108053, 35.28320753343422, 19.577757681030583, 11.348463725015863, 2314.701094961137, 575.3932958374228, 388.105589999403, 257.902130948444, 248.5227366439144, 109.7948908608048, 105.02266355479186, 99.78106482922658, 83.51031230325299, 81.15884230081598, 76.98252327700162, 59.28801680395081, 51.31533414047379, 33.04697964778629, 30.35990911384472, 29.06340170705609, 29.034197802565995, 22.615968609889148, 19.827360612514102, 18.445059204329702, 18.23841078273061, 14.518770995539393, 4.119288725918274, 87.5908114552053, 65.59549778775579, 65.77710161840547, 7.630673274206952, 0.04720168360675628, 0.047170434488503464, 0.04715331759519122, 921.5919279819688, 297.453847774895, 280.0881760685729, 227.44591596736188, 162.24838850914358, 151.95443828085808, 151.57358595356888, 134.49823563441046, 124.067842591524, 117.22216816454274, 110.2247774735649, 92.32431766346063, 81.5115049055942, 79.30749467426773, 78.9174668365551, 75.44697874910732, 71.07637537727719, 70.4623083464635, 65.5993049832188, 64.99387574588354, 58.6645468755491, 55.66454395381003, 48.3391688079454, 48.32093791535219, 48.25403219844909, 44.15557938531622, 34.992416430234805, 27.036997195817925, 17.335367924234674, 16.216584895808385, 485.22302438034166, 272.2497177568479, 206.9964845405745, 155.51090252124544, 153.59094651473598, 136.37790345432035, 121.66531356064334, 89.5333453353722, 85.53320521015958, 80.361595340308, 214.86767621528466, 64.83003946039184, 61.18967185278466, 44.4513729135045, 36.704153965246014, 32.23731744440897, 32.01321409517223, 31.081448531082827, 28.12227501021496, 22.933291324392254, 21.096627365348272, 20.923230899445787, 17.549692703979996, 13.161859136994345, 12.002573285580082, 7.422161804788184, 200.13242461473513, 223.32960152768516, 117.4218970014254, 0.36923051412174457, 251.6578592203309, 221.6560743444044, 204.33428671095257, 190.76700100940988, 179.48507969270048, 159.37005909432912, 134.49029221777133, 120.02723559576688, 119.59572685844572, 118.92547088656941, 104.31742520599845, 98.91051502828853, 97.79259030139943, 70.44979171906539, 64.89744580468634, 63.701118014404514, 62.275003086952104, 60.85096676057115, 46.1863919759678, 38.13171110534031, 29.04605958221995, 28.61564100482243, 17.373715068516482, 12.31755113139112, 12.31478371730504, 12.31478371730504, 12.282601886780272, 7.798335735033167, 0.045438203009973636, 0.045439973759722835, 271.9038060390433, 192.7329832307178, 71.75249721076109, 55.10052849354184, 48.08094322004725, 40.23474475653002, 39.726582942560384, 37.51464415204816, 29.74137034303492, 25.593966898193024, 21.384230242849284, 19.398929438407897, 17.876416073015875, 14.963059638357004, 9.171573193509788, 8.60936012356153, 8.135756298535314, 8.135756298535314, 6.6738724638026286, 4.705531133982518, 2.6323126853353505, 20.219209744994973, 67.55181319181982, 0.03543781930281915, 0.035432227705436574, 0.03543203549427655, 0.03543199305804641, 0.035430822317344436, 0.03543070000115169, 0.0354305502262218, 0.03543357068730792, 0.03543138896582919, 0.03543144388330348, 125.02835433457403, 105.23172587531427, 47.08984004043131, 32.4689600924504, 27.55862231916844, 23.671363325025357, 23.14005879384939, 17.49318544001936, 15.335568916586011, 15.087681366409964, 14.501072633796655, 8.127847176689112, 0.026080008611397937, 0.026080008611397937, 0.026080079136351207, 0.026080074434687656, 0.026079847187616002, 0.02607980643986522, 0.026079999208070834, 0.026080342429510094, 0.026079908309242172, 0.026079811141528773, 0.026079856590943105, 0.02607968419661288, 0.026079579192793564, 0.0260797406165755, 0.026079884800924415, 0.02607942560511755, 0.026079869128712574, 0.026079350378500725, 0.026079886368145597, 0.026079590163341854, 0.026079833082625348, 0.026079925548675192, 0.02607995219143532, 0.026080257799566166], \"Total\": [46130.0, 17429.0, 10572.0, 7849.0, 2315.0, 4367.0, 4842.0, 5006.0, 13813.0, 6290.0, 7098.0, 3953.0, 2862.0, 2220.0, 2697.0, 1823.0, 8018.0, 2243.0, 2125.0, 9354.0, 8289.0, 7749.0, 9856.0, 5773.0, 2249.0, 3448.0, 8601.0, 2031.0, 5804.0, 9015.0, 3116.6591397991906, 2091.974311567087, 2070.371186206845, 2009.5606770597765, 1983.4620789031023, 1616.693057182604, 1595.0952385378891, 1494.5216811190053, 1405.8371351160413, 1224.2454381823893, 1111.8370492082433, 1072.5435628617693, 1013.9432119813788, 976.6581430545532, 955.8535928763566, 954.5872563931184, 867.5067935331424, 823.5183158254337, 814.2020343528873, 801.3699682408106, 788.5237794282834, 747.9634399463695, 711.2604407168292, 707.084911518371, 674.736115193649, 679.2806454408819, 643.3098742085264, 612.9914957002308, 592.0012103912542, 569.6805657363519, 1765.570961643333, 1688.508459833902, 1535.682181528606, 8289.809895773524, 1747.2476808887645, 7749.027133576227, 4493.2396629310515, 3835.7098375565347, 4134.783494900895, 3590.8568553248633, 4665.283122925009, 8601.22550024972, 4163.095573468208, 9015.441448884809, 8018.774625508639, 13813.203450184345, 6203.84234794144, 1337.820558408986, 9856.001811011683, 4028.2504606937027, 2527.922354288389, 4259.443973018899, 4037.8874023278263, 3176.594654278534, 3085.4691407340706, 6082.306624152782, 3366.113157616259, 4755.091201585161, 2729.228893274184, 4714.6182066032015, 5978.1553422438765, 17429.190987852537, 6511.5774503987695, 6484.2138285889805, 9354.024601731562, 2241.123014717467, 1749.1088634084447, 1419.5212036970925, 813.034681700926, 810.9647320037021, 747.2922589348481, 668.987581414616, 635.9436048040169, 587.7345794260239, 546.910560274349, 535.1620196385638, 509.68445276022067, 505.01822561549545, 504.52741072266383, 469.6159026164033, 415.94908729431035, 412.69481175570223, 406.0001339241387, 400.3330808471264, 399.2482465875253, 384.51157471882516, 359.12551784704794, 355.4612532530284, 353.4616725509925, 347.74662912745833, 345.7731147575481, 339.24741344794694, 329.85441555462785, 438.82625664806426, 268.32602463881744, 2637.869470108416, 1526.2240563811806, 7849.397227530866, 10572.673611601243, 869.0701813150818, 7098.980553154481, 1326.2543355446792, 1272.1160178219118, 2020.560313956825, 1339.4817206449743, 5773.193301900409, 1263.7678580163983, 1403.9286622011405, 5804.726697322028, 4199.01116606575, 2930.1987670196827, 1075.0654639672875, 2209.5489488146436, 898.9626585179561, 17429.190987852537, 9354.024601731562, 2233.418712580569, 6484.2138285889805, 4745.701176111685, 4300.342302904469, 2229.843327364736, 4842.010547328707, 2601.538747085582, 1617.7812621548373, 6511.5774503987695, 4004.3815461659533, 4905.0582478523675, 2246.872785490668, 9856.001811011683, 6082.306624152782, 13813.203450184345, 4714.6182066032015, 3756.4172296415386, 4755.091201585161, 3448.5230466193893, 2581.2541755912034, 2505.2731815138477, 2056.96386314004, 1581.8225955468502, 1496.0110148092347, 1391.0610516098136, 1291.4815275650687, 1281.0450183886433, 1235.845999572964, 1191.2763707807383, 1156.1004166556677, 1143.8895829478827, 1117.624001675969, 984.1809310466181, 952.2872025027003, 913.5347099612256, 913.2584983251776, 798.7451765224763, 774.2896530290187, 774.0206148433075, 742.8168120106445, 714.5901952018822, 710.1734906748206, 676.2931836765878, 667.1558748144766, 638.6576051819, 628.4055946728374, 585.7292208407833, 2772.902028287845, 1171.1884456766727, 1158.113602443418, 1580.3348283007285, 2019.7345117665438, 1426.236957159593, 1683.424238861491, 2179.8859022909487, 2422.266535792849, 1034.0184806389307, 2278.624528925072, 3205.910394449133, 5006.853374747497, 2962.7150107202847, 1911.4556776373213, 17429.190987852537, 4752.788312901117, 6290.74375944821, 5978.1553422438765, 3132.6353518897695, 2934.905850111276, 2039.608316810356, 1712.9533294354626, 1399.0947797051224, 1192.8301007922134, 1022.5605408711245, 1014.9513817751871, 945.4598968844567, 925.1566978477983, 915.0406429989433, 902.9519308961409, 802.4264511643933, 750.1985325696054, 738.5506206324769, 714.1647215721971, 662.0426573821429, 619.0019543980893, 602.1645199601196, 557.4497811786612, 542.8962725514084, 485.5347327581461, 478.48972624292435, 478.30016426941137, 452.50798389552523, 429.92608535182563, 419.58769584451414, 405.2162417662352, 364.29398408208846, 363.3477334321029, 349.83654135014683, 963.8914391387452, 682.5492347253858, 461.3587664179314, 1538.002390886299, 2104.361877789943, 1761.7814604635919, 1375.8138005345918, 1813.1217875582502, 3449.019731977505, 780.2435611034307, 3339.8168281554235, 820.0125294036466, 1014.148274500958, 1643.8786652762406, 1887.4653652192785, 2303.708990788389, 1394.9891162363062, 4745.701176111685, 1023.1256491350003, 1535.0365411542457, 2289.327366906606, 9015.441448884809, 2447.5940900981723, 4367.122230665519, 1228.6620602389123, 927.4302637389984, 859.1056499763826, 725.586841082779, 680.5566854364521, 654.8811749931383, 653.7835757496945, 599.4653228499675, 524.1434981213874, 521.0569347836854, 493.65284222397537, 475.73923709669987, 451.1036203868786, 433.01261781585004, 420.8599080199625, 391.6028346816388, 378.50708888989124, 353.6643683485936, 351.509770573637, 351.4864042888722, 347.75893556132405, 339.79800136353475, 335.71428721523415, 329.71557258633294, 318.24150557934865, 314.6708731486743, 314.13401370457143, 308.7883150664419, 287.4562665721813, 757.3871297998537, 963.8286399301069, 1053.6160142791, 990.0055503786698, 1937.4221912179646, 655.3891271284513, 491.7873674813709, 6290.74375944821, 1080.0113051255164, 544.5451563647994, 2244.99608304854, 958.7019658548414, 1288.5425465008443, 1467.3304172667767, 794.7780803359412, 1484.1714267135662, 2126.5004378586586, 1152.6184308571824, 4905.0582478523675, 1259.5752268770425, 2447.5940900981723, 928.282097792759, 2189.536337146332, 3709.8221774392623, 6511.5774503987695, 46130.11312979435, 1363.8916736720046, 1069.5382544646293, 1039.1792347803982, 879.5761831139895, 803.2292289402827, 763.1895621408473, 749.309486603341, 648.4520050416072, 597.748812288639, 585.3603877061325, 473.3694250168904, 463.6826890655414, 440.0447822931266, 406.93664255750514, 378.58489596217, 351.5427549135126, 312.86057496006106, 302.7851848865877, 282.70406434740994, 275.8574882743652, 274.69289271691673, 271.60047448765914, 270.9217482807773, 266.09554008918826, 260.64454110447, 249.68123886173134, 246.20940380856402, 240.0269022455875, 212.28327090823248, 1281.3077125614964, 1050.9358815098626, 1050.2939208412738, 849.9727992389888, 766.7249714154813, 754.5262346311312, 650.8207717825024, 633.9297436704511, 530.7252885329715, 489.4107182377802, 477.1287558774142, 474.1831179062902, 436.72821236131637, 430.8921254546049, 425.85669257171713, 420.6840145000916, 409.0557066522825, 394.0248187463121, 380.0310847209455, 373.7984071139821, 373.4561497281863, 363.95799462881115, 357.4653440098638, 356.4566260089751, 352.47705709032203, 340.8842584568433, 327.32915574088315, 307.40818025444844, 304.99326938594874, 287.8383323296436, 1466.0745345721814, 756.5646389286849, 633.2908903810593, 777.8818806889827, 994.9460872951004, 1644.564300849456, 942.7296102718435, 538.0365722992556, 483.4123768578989, 759.5107806230915, 991.8966358157401, 607.298536676033, 1379.5846216113898, 1535.0365411542457, 1714.2613174175387, 1247.0869623218239, 1269.6698232909189, 2697.7657463441747, 1522.9389483509508, 1016.5496281455647, 953.3417973950233, 804.7690669773567, 708.8689740774977, 589.8568250547739, 584.1985537361304, 578.7815777923587, 540.9944830474037, 523.2513019233047, 517.3990039143462, 480.5671460670967, 477.1803970379214, 474.83609915480775, 468.8688331793674, 430.83507535279284, 425.4076969703624, 414.0405151295661, 367.96840360514466, 351.88187629498657, 299.38464504222196, 298.39395652945666, 273.0654904144323, 265.33188701473955, 241.26577988060478, 239.1620908082217, 233.90431410869107, 220.72962197950707, 219.04184400314156, 1318.4433470552992, 1071.2949228522484, 672.5439648263435, 633.0317047048075, 2189.536337146332, 1655.4294028215866, 5006.853374747497, 643.5226559866384, 389.10308609530824, 470.10813402758, 1803.1093219642048, 6290.74375944821, 1897.9170641081319, 2278.624528925072, 2031.1811374755787, 767.1079531438453, 645.4645200326653, 625.9270231279374, 609.4888009959194, 589.8072107440211, 558.9936379134219, 489.424159659515, 433.61645337234205, 424.0507580193052, 392.53778769878437, 389.7697974878758, 389.2486495956657, 377.04494266866556, 355.1897558819757, 337.6623715939776, 319.77091690753736, 269.97969066799044, 262.9634302204624, 233.39148921084364, 227.20970951093884, 216.49926969851828, 209.12714099014187, 206.33458710680233, 186.7142177131118, 186.26869651314888, 181.35151929915358, 157.94774003669505, 151.31762992847257, 136.17759264894707, 507.37841144387363, 2249.6886591269063, 2862.5116925302636, 492.05212075225967, 497.830006870757, 361.1053711346157, 956.1964817865747, 360.5708371116677, 423.86460229050743, 3953.1531881130954, 345.6604829776436, 1009.3481703287594, 1937.4221912179646, 1782.5038839078152, 2243.394943031183, 2125.414690955488, 1487.2536688883408, 1351.823509782044, 662.7566443156397, 555.4343723267142, 529.8129317626824, 505.68581574512524, 321.57088117198447, 274.93398607912997, 269.64678578837936, 258.4433856272975, 235.99509013930233, 212.60974270330115, 202.86365911567196, 201.26279782328075, 201.2237728775889, 182.9852650778888, 180.05613937678467, 179.75368456911778, 170.51315760529275, 162.34583927790686, 155.97588940777584, 136.13998771387315, 133.5859953628979, 119.74360689764372, 115.72311965729521, 104.55154910270635, 104.20131042155526, 103.26458704573469, 476.9007815204237, 358.5570590369839, 4842.010547328707, 683.6551806082025, 3205.910394449133, 693.4590237413984, 3709.8221774392623, 2209.5489488146436, 1363.2455336781793, 494.3659740285968, 1617.7812621548373, 1680.4499282739098, 1425.957972258883, 490.7572539305931, 434.94493685629106, 393.2268533745826, 386.71031428445997, 379.04614877360837, 338.50405454630413, 310.1226404918536, 300.04003017422957, 276.0415327676389, 262.63416573612517, 245.05339835735313, 244.6700811778375, 243.52450754122938, 207.84940437497903, 207.21635179263117, 203.4898650700893, 185.3634168690676, 181.13477817225512, 176.6310786170435, 174.22955927818572, 170.45530195880093, 163.48704178513452, 156.0601269788569, 151.06526224594168, 145.8704752101219, 143.57225824313758, 142.70666837335438, 140.76419107721065, 850.5680989510963, 541.037026169152, 1054.3847836515336, 4842.010547328707, 870.7542946619939, 409.7402336000694, 496.3804944207796, 1379.5846216113898, 764.8320928695061, 689.105198188335, 615.3993358552709, 546.2350461337162, 527.0738310189587, 450.9386258207589, 427.8389457425088, 387.3815749945099, 359.87703787759256, 313.055209532651, 301.9460710591614, 258.9866829920859, 250.16335858891463, 223.90512694231575, 219.62928625965085, 202.0027871574679, 201.4570362640384, 201.18404002961475, 198.54194081365858, 196.635783021902, 191.59268913517863, 186.5250160896231, 186.37349825181735, 173.12548913327643, 169.49341007087804, 164.8529731775172, 153.20196553417608, 143.6871225443021, 142.11051244907628, 140.72082316972464, 323.36388005020746, 525.2259613497686, 163.15600341046988, 403.98351528127165, 1782.5038839078152, 655.1030391252574, 610.0588442318937, 578.5341623041867, 390.9531441138044, 387.3931527178248, 356.28647025756374, 247.94610176620384, 205.35082302315925, 189.58632535227417, 183.6870061483589, 178.39202712420746, 160.78198291156878, 158.47759415187065, 154.46454292482125, 154.1212064329582, 150.94817120956364, 148.0009042285708, 133.27760405491443, 129.1213197793355, 125.26949701605129, 124.29305509645386, 123.7851608289144, 122.69848352344157, 120.22766311055193, 107.8904982826101, 96.09283716853378, 85.57793974120058, 79.4651658437296, 70.39474573862591, 67.45415784570032, 576.2763322189574, 200.3731792762658, 367.0881345009692, 150.28522459924497, 367.57292473814374, 1247.6234118906618, 8018.774625508639, 1823.7422185423477, 520.1294019189302, 506.6230652952023, 362.8976783886514, 275.12202609657095, 259.657452389687, 220.07951142992468, 184.0693488533269, 135.69077159689172, 125.54092676358763, 123.12255289288008, 110.58768845009553, 83.11887089896896, 82.90624767286921, 73.1161906302036, 72.92820341721827, 70.81305931372313, 53.134129518097836, 46.09587121783928, 24.347951756741637, 9.029822842448107, 8.556312507467094, 662.5215361840555, 2.4064307541354535, 101.21985409745643, 2220.6954874379708, 921.1870728222545, 324.31551245140605, 463.99022118696, 423.86460229050743, 801.3204944423485, 597.0186442170791, 534.5691783988334, 2315.914473509813, 576.6066743860983, 389.31896854807866, 259.11550952968986, 249.73611519766942, 111.00826945857402, 106.23604210854685, 100.99444338214013, 84.72369085192865, 82.37222084949164, 78.19590191094757, 60.501395352626474, 52.52871268914945, 34.26035820154127, 31.573287667599704, 30.276780299946452, 30.24757636331902, 23.82934716367893, 21.040740470373162, 19.658437767552506, 19.45178941566691, 15.732149549329176, 5.332667745417662, 967.8141260950944, 959.8706857159136, 1034.0184806389307, 185.4194705563191, 1.2607137111268893, 1.2606229490045782, 1.260573949530139, 922.8049041809091, 298.6668239762654, 281.30115226093164, 228.6588921597206, 163.46136471169575, 153.1674144732168, 152.78656219414236, 135.71121183989897, 125.28081878899683, 118.43514436201556, 111.43775367628047, 93.53729386093346, 82.72448111248384, 80.52047086662644, 80.13044304107741, 76.65995497404253, 72.28935160980278, 71.67528453882221, 66.81228119748656, 66.20685193824225, 59.87752316600915, 56.87752014616874, 49.55214500357319, 49.5339141077109, 49.467008395126705, 45.368555611433806, 36.20539266154192, 28.249973399892053, 18.548344147318364, 17.42956108816709, 486.43946405546706, 273.4661574319733, 208.21292424666538, 156.72734219083796, 154.80738619269252, 137.59434313455984, 122.88175323023586, 90.74978501049758, 86.74964488486623, 81.57803500990052, 218.34301197382686, 66.04647912998436, 62.40611152237718, 45.66781258862987, 37.92059363483853, 33.453757121050955, 33.22965377181421, 32.297888265111254, 29.33871468492159, 24.149731136072273, 22.31306704400586, 22.139670569038298, 18.766132401917858, 14.37829881316865, 13.219012955172596, 8.63860148143017, 255.244925519862, 477.7537192875132, 392.4355681116639, 1.5856701837142586, 252.87293637892714, 222.87115150300065, 205.5493638695488, 191.98207816800613, 180.7001568973828, 160.58513626172729, 135.705369383569, 121.24231275829547, 120.81080401704196, 120.14054804516566, 105.53250236786376, 100.12559220042981, 99.00766746507499, 71.664868903065, 66.11252299516605, 64.91619517300076, 63.49008024554834, 62.06604395001705, 47.40146914161351, 39.34678827098602, 30.261136765185753, 29.830718163418663, 18.588792251923394, 13.532628289987356, 13.529860875901276, 13.529860875901276, 13.49767904537651, 9.013412893629402, 1.2605318081006036, 1.260678177261549, 273.12888173431895, 193.95805892046064, 72.97757292772467, 56.32560418328468, 49.3060189097901, 41.459820449541944, 40.951658636235585, 38.73971987817353, 30.96644604721544, 26.81904273253916, 22.609305943349117, 20.624005155378295, 19.101491838377903, 16.188135345654263, 10.396648883252634, 9.834435813304376, 9.36083198827816, 9.36083198827816, 7.898948169177206, 5.930606859463309, 3.8573883750781977, 31.194410380977512, 478.02018229427273, 1.2606536426522152, 1.2605216396196726, 1.2605290635386441, 1.2605399112675089, 1.2605249155018239, 1.260522409199007, 1.2605244176609558, 1.2607137111268893, 1.2605851683384877, 1.2606229490045782, 126.26277973936119, 106.46615127683235, 48.32426544588176, 33.70338552481815, 28.793047796796614, 24.905788733125235, 24.37448419536748, 18.727610841537448, 16.569994382170073, 16.32210676792805, 15.735498040428864, 9.3622725782072, 1.2605093226379849, 1.2605105793196294, 1.2605157412287917, 1.2605195323415346, 1.260508983712664, 1.2605087611217478, 1.2605184036317556, 1.260536467370983, 1.2605173688858549, 1.2605132464430824, 1.2605199571510184, 1.2605167456331852, 1.260512441808487, 1.2605204469008895, 1.26052752836637, 1.2605071830401848, 1.260528884253224, 1.2605067430840329, 1.2605415988412318, 1.2605226472907423, 1.2605475888009985, 1.2605695539677875, 1.2605819805879102, 1.2607137111268893], \"Category\": [\"Default\", \"Default\", \"Default\", \"Default\", \"Default\", \"Default\", \"Default\", \"Default\", \"Default\", \"Default\", \"Default\", \"Default\", \"Default\", \"Default\", \"Default\", \"Default\", \"Default\", \"Default\", \"Default\", \"Default\", \"Default\", \"Default\", \"Default\", \"Default\", \"Default\", \"Default\", \"Default\", \"Default\", \"Default\", \"Default\", \"Topic1\", \"Topic1\", \"Topic1\", \"Topic1\", \"Topic1\", \"Topic1\", \"Topic1\", \"Topic1\", \"Topic1\", \"Topic1\", \"Topic1\", \"Topic1\", \"Topic1\", \"Topic1\", \"Topic1\", \"Topic1\", \"Topic1\", \"Topic1\", \"Topic1\", \"Topic1\", \"Topic1\", \"Topic1\", \"Topic1\", \"Topic1\", \"Topic1\", \"Topic1\", \"Topic1\", \"Topic1\", \"Topic1\", \"Topic1\", \"Topic1\", \"Topic1\", \"Topic1\", \"Topic1\", \"Topic1\", \"Topic1\", \"Topic1\", \"Topic1\", \"Topic1\", \"Topic1\", \"Topic1\", \"Topic1\", \"Topic1\", \"Topic1\", \"Topic1\", \"Topic1\", \"Topic1\", \"Topic1\", \"Topic1\", \"Topic1\", \"Topic1\", \"Topic1\", \"Topic1\", \"Topic1\", \"Topic1\", \"Topic1\", \"Topic1\", \"Topic1\", \"Topic1\", \"Topic1\", \"Topic1\", \"Topic1\", \"Topic1\", \"Topic1\", \"Topic1\", \"Topic2\", \"Topic2\", \"Topic2\", \"Topic2\", \"Topic2\", \"Topic2\", \"Topic2\", \"Topic2\", \"Topic2\", \"Topic2\", \"Topic2\", \"Topic2\", \"Topic2\", \"Topic2\", \"Topic2\", \"Topic2\", \"Topic2\", \"Topic2\", \"Topic2\", \"Topic2\", \"Topic2\", \"Topic2\", \"Topic2\", \"Topic2\", \"Topic2\", \"Topic2\", \"Topic2\", \"Topic2\", \"Topic2\", \"Topic2\", \"Topic2\", \"Topic2\", \"Topic2\", \"Topic2\", \"Topic2\", \"Topic2\", \"Topic2\", \"Topic2\", \"Topic2\", \"Topic2\", \"Topic2\", \"Topic2\", \"Topic2\", \"Topic2\", \"Topic2\", \"Topic2\", \"Topic2\", \"Topic2\", \"Topic2\", \"Topic2\", \"Topic2\", \"Topic2\", \"Topic2\", \"Topic2\", \"Topic2\", \"Topic2\", \"Topic2\", \"Topic2\", \"Topic2\", \"Topic2\", \"Topic2\", \"Topic2\", \"Topic2\", \"Topic2\", \"Topic2\", \"Topic2\", \"Topic2\", \"Topic2\", \"Topic2\", \"Topic3\", \"Topic3\", \"Topic3\", \"Topic3\", \"Topic3\", \"Topic3\", \"Topic3\", \"Topic3\", \"Topic3\", \"Topic3\", \"Topic3\", \"Topic3\", \"Topic3\", \"Topic3\", \"Topic3\", \"Topic3\", \"Topic3\", \"Topic3\", \"Topic3\", \"Topic3\", \"Topic3\", \"Topic3\", \"Topic3\", \"Topic3\", \"Topic3\", \"Topic3\", \"Topic3\", \"Topic3\", \"Topic3\", \"Topic3\", \"Topic3\", \"Topic3\", \"Topic3\", \"Topic3\", \"Topic3\", \"Topic3\", \"Topic3\", \"Topic3\", \"Topic3\", \"Topic3\", \"Topic3\", \"Topic3\", \"Topic3\", \"Topic3\", \"Topic3\", \"Topic3\", \"Topic3\", \"Topic3\", \"Topic3\", \"Topic4\", \"Topic4\", \"Topic4\", \"Topic4\", \"Topic4\", \"Topic4\", \"Topic4\", \"Topic4\", \"Topic4\", \"Topic4\", \"Topic4\", \"Topic4\", \"Topic4\", \"Topic4\", \"Topic4\", \"Topic4\", \"Topic4\", \"Topic4\", \"Topic4\", \"Topic4\", \"Topic4\", \"Topic4\", \"Topic4\", \"Topic4\", \"Topic4\", \"Topic4\", \"Topic4\", \"Topic4\", \"Topic4\", \"Topic4\", \"Topic4\", \"Topic4\", \"Topic4\", \"Topic4\", \"Topic4\", \"Topic4\", \"Topic4\", \"Topic4\", \"Topic4\", \"Topic4\", \"Topic4\", \"Topic4\", \"Topic4\", \"Topic4\", \"Topic4\", \"Topic4\", \"Topic4\", \"Topic4\", \"Topic4\", \"Topic4\", \"Topic4\", \"Topic4\", \"Topic4\", \"Topic5\", \"Topic5\", \"Topic5\", \"Topic5\", \"Topic5\", \"Topic5\", \"Topic5\", \"Topic5\", \"Topic5\", \"Topic5\", \"Topic5\", \"Topic5\", \"Topic5\", \"Topic5\", \"Topic5\", \"Topic5\", \"Topic5\", \"Topic5\", \"Topic5\", \"Topic5\", \"Topic5\", \"Topic5\", \"Topic5\", \"Topic5\", \"Topic5\", \"Topic5\", \"Topic5\", \"Topic5\", \"Topic5\", \"Topic5\", \"Topic5\", \"Topic5\", \"Topic5\", \"Topic5\", \"Topic5\", \"Topic5\", \"Topic5\", \"Topic5\", \"Topic5\", \"Topic5\", \"Topic5\", \"Topic5\", \"Topic5\", \"Topic5\", \"Topic5\", \"Topic5\", \"Topic5\", \"Topic5\", \"Topic5\", \"Topic5\", \"Topic5\", \"Topic5\", \"Topic5\", \"Topic5\", \"Topic5\", \"Topic6\", \"Topic6\", \"Topic6\", \"Topic6\", \"Topic6\", \"Topic6\", \"Topic6\", \"Topic6\", \"Topic6\", \"Topic6\", \"Topic6\", \"Topic6\", \"Topic6\", \"Topic6\", \"Topic6\", \"Topic6\", \"Topic6\", \"Topic6\", \"Topic6\", \"Topic6\", \"Topic6\", \"Topic6\", \"Topic6\", \"Topic6\", \"Topic6\", \"Topic6\", \"Topic6\", \"Topic6\", \"Topic6\", \"Topic6\", \"Topic7\", \"Topic7\", \"Topic7\", \"Topic7\", \"Topic7\", \"Topic7\", \"Topic7\", \"Topic7\", \"Topic7\", \"Topic7\", \"Topic7\", \"Topic7\", \"Topic7\", \"Topic7\", \"Topic7\", \"Topic7\", \"Topic7\", \"Topic7\", \"Topic7\", \"Topic7\", \"Topic7\", \"Topic7\", \"Topic7\", \"Topic7\", \"Topic7\", \"Topic7\", \"Topic7\", \"Topic7\", \"Topic7\", \"Topic7\", \"Topic7\", \"Topic7\", \"Topic7\", \"Topic7\", \"Topic7\", \"Topic7\", \"Topic7\", \"Topic7\", \"Topic7\", \"Topic7\", \"Topic7\", \"Topic7\", \"Topic7\", \"Topic7\", \"Topic7\", \"Topic7\", \"Topic7\", \"Topic8\", \"Topic8\", \"Topic8\", \"Topic8\", \"Topic8\", \"Topic8\", \"Topic8\", \"Topic8\", \"Topic8\", \"Topic8\", \"Topic8\", \"Topic8\", \"Topic8\", \"Topic8\", \"Topic8\", \"Topic8\", \"Topic8\", \"Topic8\", \"Topic8\", \"Topic8\", \"Topic8\", \"Topic8\", \"Topic8\", \"Topic8\", \"Topic8\", \"Topic8\", \"Topic8\", \"Topic8\", \"Topic8\", \"Topic8\", \"Topic8\", \"Topic8\", \"Topic8\", \"Topic8\", \"Topic8\", \"Topic8\", \"Topic8\", \"Topic8\", \"Topic8\", \"Topic8\", \"Topic8\", \"Topic8\", \"Topic8\", \"Topic8\", \"Topic9\", \"Topic9\", \"Topic9\", \"Topic9\", \"Topic9\", \"Topic9\", \"Topic9\", \"Topic9\", \"Topic9\", \"Topic9\", \"Topic9\", \"Topic9\", \"Topic9\", \"Topic9\", \"Topic9\", \"Topic9\", \"Topic9\", \"Topic9\", \"Topic9\", \"Topic9\", \"Topic9\", \"Topic9\", \"Topic9\", \"Topic9\", \"Topic9\", \"Topic9\", \"Topic9\", \"Topic9\", \"Topic9\", \"Topic9\", \"Topic9\", \"Topic9\", \"Topic9\", \"Topic9\", \"Topic9\", \"Topic9\", \"Topic9\", \"Topic9\", \"Topic9\", \"Topic9\", \"Topic9\", \"Topic9\", \"Topic9\", \"Topic9\", \"Topic10\", \"Topic10\", \"Topic10\", \"Topic10\", \"Topic10\", \"Topic10\", \"Topic10\", \"Topic10\", \"Topic10\", \"Topic10\", \"Topic10\", \"Topic10\", \"Topic10\", \"Topic10\", \"Topic10\", \"Topic10\", \"Topic10\", \"Topic10\", \"Topic10\", \"Topic10\", \"Topic10\", \"Topic10\", \"Topic10\", \"Topic10\", \"Topic10\", \"Topic10\", \"Topic10\", \"Topic10\", \"Topic10\", \"Topic10\", \"Topic10\", \"Topic10\", \"Topic10\", \"Topic10\", \"Topic10\", \"Topic10\", \"Topic10\", \"Topic10\", \"Topic10\", \"Topic10\", \"Topic10\", \"Topic11\", \"Topic11\", \"Topic11\", \"Topic11\", \"Topic11\", \"Topic11\", \"Topic11\", \"Topic11\", \"Topic11\", \"Topic11\", \"Topic11\", \"Topic11\", \"Topic11\", \"Topic11\", \"Topic11\", \"Topic11\", \"Topic11\", \"Topic11\", \"Topic11\", \"Topic11\", \"Topic11\", \"Topic11\", \"Topic11\", \"Topic11\", \"Topic11\", \"Topic11\", \"Topic11\", \"Topic11\", \"Topic11\", \"Topic11\", \"Topic11\", \"Topic11\", \"Topic11\", \"Topic11\", \"Topic11\", \"Topic11\", \"Topic11\", \"Topic11\", \"Topic12\", \"Topic12\", \"Topic12\", \"Topic12\", \"Topic12\", \"Topic12\", \"Topic12\", \"Topic12\", \"Topic12\", \"Topic12\", \"Topic12\", \"Topic12\", \"Topic12\", \"Topic12\", \"Topic12\", \"Topic12\", \"Topic12\", \"Topic12\", \"Topic12\", \"Topic12\", \"Topic12\", \"Topic12\", \"Topic12\", \"Topic12\", \"Topic12\", \"Topic12\", \"Topic12\", \"Topic12\", \"Topic12\", \"Topic12\", \"Topic12\", \"Topic12\", \"Topic12\", \"Topic12\", \"Topic12\", \"Topic13\", \"Topic13\", \"Topic13\", \"Topic13\", \"Topic13\", \"Topic13\", \"Topic13\", \"Topic13\", \"Topic13\", \"Topic13\", \"Topic13\", \"Topic13\", \"Topic13\", \"Topic13\", \"Topic13\", \"Topic13\", \"Topic13\", \"Topic13\", \"Topic13\", \"Topic13\", \"Topic13\", \"Topic13\", \"Topic13\", \"Topic13\", \"Topic13\", \"Topic13\", \"Topic13\", \"Topic13\", \"Topic13\", \"Topic13\", \"Topic13\", \"Topic13\", \"Topic13\", \"Topic13\", \"Topic13\", \"Topic13\", \"Topic13\", \"Topic14\", \"Topic14\", \"Topic14\", \"Topic14\", \"Topic14\", \"Topic14\", \"Topic14\", \"Topic14\", \"Topic14\", \"Topic14\", \"Topic14\", \"Topic14\", \"Topic14\", \"Topic14\", \"Topic14\", \"Topic14\", \"Topic14\", \"Topic14\", \"Topic14\", \"Topic14\", \"Topic14\", \"Topic14\", \"Topic14\", \"Topic14\", \"Topic14\", \"Topic14\", \"Topic14\", \"Topic14\", \"Topic14\", \"Topic14\", \"Topic14\", \"Topic14\", \"Topic14\", \"Topic15\", \"Topic15\", \"Topic15\", \"Topic15\", \"Topic15\", \"Topic15\", \"Topic15\", \"Topic15\", \"Topic15\", \"Topic15\", \"Topic15\", \"Topic15\", \"Topic15\", \"Topic15\", \"Topic15\", \"Topic15\", \"Topic15\", \"Topic15\", \"Topic15\", \"Topic15\", \"Topic15\", \"Topic15\", \"Topic15\", \"Topic15\", \"Topic15\", \"Topic15\", \"Topic15\", \"Topic15\", \"Topic15\", \"Topic15\", \"Topic16\", \"Topic16\", \"Topic16\", \"Topic16\", \"Topic16\", \"Topic16\", \"Topic16\", \"Topic16\", \"Topic16\", \"Topic16\", \"Topic16\", \"Topic16\", \"Topic16\", \"Topic16\", \"Topic16\", \"Topic16\", \"Topic16\", \"Topic16\", \"Topic16\", \"Topic16\", \"Topic16\", \"Topic16\", \"Topic16\", \"Topic16\", \"Topic16\", \"Topic16\", \"Topic16\", \"Topic16\", \"Topic16\", \"Topic16\", \"Topic17\", \"Topic17\", \"Topic17\", \"Topic17\", \"Topic17\", \"Topic17\", \"Topic17\", \"Topic17\", \"Topic17\", \"Topic17\", \"Topic17\", \"Topic17\", \"Topic17\", \"Topic17\", \"Topic17\", \"Topic17\", \"Topic17\", \"Topic17\", \"Topic17\", \"Topic17\", \"Topic17\", \"Topic17\", \"Topic17\", \"Topic17\", \"Topic17\", \"Topic17\", \"Topic17\", \"Topic17\", \"Topic17\", \"Topic17\", \"Topic18\", \"Topic18\", \"Topic18\", \"Topic18\", \"Topic18\", \"Topic18\", \"Topic18\", \"Topic18\", \"Topic18\", \"Topic18\", \"Topic18\", \"Topic18\", \"Topic18\", \"Topic18\", \"Topic18\", \"Topic18\", \"Topic18\", \"Topic18\", \"Topic18\", \"Topic18\", \"Topic18\", \"Topic18\", \"Topic18\", \"Topic18\", \"Topic18\", \"Topic18\", \"Topic18\", \"Topic18\", \"Topic18\", \"Topic18\", \"Topic19\", \"Topic19\", \"Topic19\", \"Topic19\", \"Topic19\", \"Topic19\", \"Topic19\", \"Topic19\", \"Topic19\", \"Topic19\", \"Topic19\", \"Topic19\", \"Topic19\", \"Topic19\", \"Topic19\", \"Topic19\", \"Topic19\", \"Topic19\", \"Topic19\", \"Topic19\", \"Topic19\", \"Topic19\", \"Topic19\", \"Topic19\", \"Topic19\", \"Topic19\", \"Topic19\", \"Topic19\", \"Topic19\", \"Topic19\", \"Topic19\", \"Topic19\", \"Topic19\", \"Topic20\", \"Topic20\", \"Topic20\", \"Topic20\", \"Topic20\", \"Topic20\", \"Topic20\", \"Topic20\", \"Topic20\", \"Topic20\", \"Topic20\", \"Topic20\", \"Topic20\", \"Topic20\", \"Topic20\", \"Topic20\", \"Topic20\", \"Topic20\", \"Topic20\", \"Topic20\", \"Topic20\", \"Topic20\", \"Topic20\", \"Topic20\", \"Topic20\", \"Topic20\", \"Topic20\", \"Topic20\", \"Topic20\", \"Topic20\", \"Topic20\", \"Topic20\", \"Topic20\", \"Topic20\", \"Topic20\", \"Topic20\"], \"logprob\": [30.0, 29.0, 28.0, 27.0, 26.0, 25.0, 24.0, 23.0, 22.0, 21.0, 20.0, 19.0, 18.0, 17.0, 16.0, 15.0, 14.0, 13.0, 12.0, 11.0, 10.0, 9.0, 8.0, 7.0, 6.0, 5.0, 4.0, 3.0, 2.0, 1.0, -4.7707, -5.1695, -5.1799, -5.2097, -5.2228, -5.4274, -5.4409, -5.506, -5.5673, -5.7057, -5.8021, -5.8381, -5.8944, -5.9319, -5.9534, -5.9548, -6.0505, -6.1027, -6.114, -6.13, -6.1461, -6.199, -6.2494, -6.2553, -6.3022, -6.2956, -6.35, -6.3984, -6.4333, -6.4718, -5.3439, -5.3937, -5.4891, -3.8396, -5.3665, -3.9087, -4.4472, -4.6019, -4.539, -4.6805, -4.4369, -3.8658, -4.5631, -3.878, -3.9877, -3.4893, -4.2287, -5.6519, -3.9283, -4.7033, -5.1123, -4.7221, -4.7662, -4.97, -4.9955, -4.5489, -5.0004, -4.8308, -5.1309, -4.9006, -4.8226, -4.5626, -4.9238, -5.0112, -5.0271, -4.5733, -4.8213, -5.0303, -5.5882, -5.5907, -5.6726, -5.7835, -5.8343, -5.9132, -5.9854, -6.0071, -6.056, -6.0653, -6.0662, -6.1381, -6.2598, -6.2677, -6.2841, -6.2982, -6.3009, -6.3386, -6.4071, -6.4174, -6.4231, -6.4394, -6.4452, -6.4643, -6.4924, -6.2073, -6.6997, -4.4167, -4.9627, -3.3909, -3.1166, -5.545, -3.5175, -5.1449, -5.1849, -4.7504, -5.16, -3.7932, -5.2326, -5.1419, -3.8616, -4.1794, -4.5197, -5.4068, -4.8001, -5.572, -3.0617, -3.6039, -4.8331, -3.9851, -4.2614, -4.3699, -4.8771, -4.3274, -4.7829, -5.1138, -4.2433, -4.6208, -4.5639, -4.9483, -4.416, -4.6153, -4.4426, -4.8203, -4.8794, -4.8941, -3.732, -4.0218, -4.0517, -4.249, -4.5118, -4.5676, -4.6404, -4.7147, -4.7229, -4.7588, -4.7956, -4.8256, -4.8362, -4.8595, -4.9868, -5.0197, -5.0613, -5.0616, -5.1958, -5.227, -5.2273, -5.2685, -5.3073, -5.3135, -5.3625, -5.3761, -5.4199, -5.4361, -5.5065, -3.9518, -4.8331, -4.8549, -4.5656, -4.3361, -4.6693, -4.5269, -4.3007, -4.261, -5.0031, -4.4315, -4.3109, -4.0558, -4.4572, -4.7112, -3.7363, -4.3795, -4.3112, -4.3542, -4.5997, -3.7441, -4.1082, -4.2829, -4.4854, -4.6451, -4.7993, -4.8067, -4.8778, -4.8995, -4.9105, -4.9238, -5.042, -5.1094, -5.1251, -5.1587, -5.2346, -5.302, -5.3296, -5.4069, -5.4334, -5.5454, -5.56, -5.5604, -5.616, -5.6673, -5.6917, -5.7267, -5.8335, -5.8361, -5.8741, -4.8683, -5.2163, -5.6023, -4.4556, -4.2495, -4.4126, -4.6798, -4.4546, -3.9565, -5.202, -4.148, -5.1773, -5.0489, -4.7972, -4.7387, -4.6999, -4.9469, -4.523, -5.0944, -4.9866, -4.929, -4.7621, -5.0288, -3.0293, -4.2981, -4.5797, -4.6563, -4.8255, -4.8897, -4.9282, -4.9299, -5.0168, -5.1513, -5.1573, -5.2114, -5.2485, -5.3018, -5.3428, -5.3714, -5.4436, -5.4777, -5.5459, -5.552, -5.552, -5.5627, -5.586, -5.5981, -5.6162, -5.6518, -5.6631, -5.6648, -5.682, -5.7539, -4.8109, -4.6308, -4.5969, -4.7025, -4.1747, -5.0714, -5.302, -3.3537, -4.6995, -5.2239, -4.2977, -4.9309, -4.7561, -4.7079, -5.0519, -4.7313, -4.5792, -4.8778, -4.2892, -4.9035, -4.7106, -5.0315, -4.9287, -4.9277, -4.9927, -0.4766, -3.9985, -4.2419, -4.2707, -4.4376, -4.5286, -4.5798, -4.5982, -4.743, -4.8245, -4.8455, -5.0583, -5.079, -5.1315, -5.2099, -5.2824, -5.3567, -5.4737, -5.5065, -5.5754, -5.6, -5.6043, -5.6157, -5.6182, -5.6362, -5.657, -5.7002, -5.7142, -5.7398, -5.8632, -3.868, -4.0664, -4.067, -4.2789, -4.3821, -4.3982, -4.5463, -4.5726, -4.7507, -4.8319, -4.8574, -4.8636, -4.9461, -4.9596, -4.9714, -4.9837, -5.0118, -5.0493, -5.0856, -5.1022, -5.1031, -5.1289, -5.147, -5.1498, -5.1611, -5.1947, -5.2354, -5.2984, -5.3063, -5.3645, -3.747, -4.4134, -4.5962, -4.4159, -4.2026, -3.7759, -4.2796, -4.803, -4.9021, -4.5695, -4.5362, -4.827, -4.4376, -4.4989, -4.4919, -4.6401, -4.718, -2.8075, -3.3796, -3.7842, -3.8485, -4.0182, -4.1453, -4.3294, -4.339, -4.3484, -4.416, -4.4495, -4.4607, -4.5348, -4.5418, -4.5468, -4.5595, -4.6443, -4.657, -4.6842, -4.8025, -4.8473, -5.0095, -5.0128, -5.1019, -5.1308, -5.2263, -5.2351, -5.2574, -5.3157, -5.3234, -3.5442, -3.8056, -4.3874, -4.4585, -3.4969, -3.753, -3.0638, -4.5446, -4.917, -4.8568, -4.455, -4.1065, -4.4752, -4.5425, -2.8971, -3.8718, -4.0447, -4.0755, -4.1022, -4.1351, -4.1888, -4.3221, -4.4434, -4.4658, -4.5432, -4.5503, -4.5517, -4.5836, -4.6435, -4.6943, -4.749, -4.9189, -4.9454, -5.0652, -5.0922, -5.1409, -5.1756, -5.1891, -5.2897, -5.2921, -5.319, -5.4581, -5.5013, -5.6076, -4.2952, -2.8319, -2.6654, -4.3849, -4.3916, -4.6923, -3.82, -4.7169, -4.5925, -3.3083, -4.8542, -4.3472, -4.2074, -4.7067, -2.3844, -2.4385, -2.7957, -2.8913, -3.605, -3.782, -3.8294, -3.8761, -4.3301, -4.4874, -4.5069, -4.5496, -4.6409, -4.7458, -4.793, -4.801, -4.8012, -4.8968, -4.913, -4.9147, -4.9678, -5.0173, -5.0576, -5.1948, -5.2139, -5.3243, -5.3588, -5.4614, -5.4648, -5.474, -4.4134, -4.6611, -3.1292, -4.5587, -3.9707, -4.6444, -4.2813, -4.5524, -4.8518, -4.9528, -4.9521, -2.5948, -2.7592, -3.8274, -3.9485, -4.0496, -4.0663, -4.0864, -4.1999, -4.2878, -4.321, -4.4047, -4.4547, -4.5243, -4.5259, -4.5306, -4.6899, -4.6929, -4.7112, -4.8051, -4.8283, -4.8537, -4.8674, -4.8895, -4.9315, -4.9784, -5.0112, -5.0464, -5.0625, -5.0686, -5.0824, -3.8469, -4.2595, -4.5081, -4.2107, -4.8341, -4.9162, -4.9186, -4.9085, -3.1201, -3.2245, -3.3378, -3.4573, -3.4931, -3.6495, -3.7022, -3.8018, -3.8757, -4.0156, -4.0519, -4.206, -4.2408, -4.3523, -4.3717, -4.4558, -4.4585, -4.4599, -4.4732, -4.4829, -4.5091, -4.536, -4.5368, -4.6111, -4.6324, -4.6604, -4.7342, -4.7989, -4.81, -4.8199, -4.0537, -3.7676, -4.7033, -4.2121, -3.4225, -3.0971, -3.1685, -3.2216, -3.6145, -3.6237, -3.7077, -4.0717, -4.2612, -4.3415, -4.3734, -4.4028, -4.5075, -4.522, -4.5479, -4.5501, -4.5711, -4.591, -4.6966, -4.7286, -4.7592, -4.7671, -4.7712, -4.7801, -4.8007, -4.9101, -5.0273, -5.1447, -5.2199, -5.3431, -5.3865, -3.3042, -4.3664, -3.9824, -4.8999, -4.6736, -4.6813, -4.6952, -1.6318, -2.8881, -2.9144, -3.249, -3.527, -3.5851, -3.7513, -3.9311, -4.2384, -4.3168, -4.3365, -4.445, -4.7341, -4.7367, -4.8644, -4.867, -4.8969, -5.1899, -5.3355, -5.998, -7.0822, -7.1446, -3.2254, -8.954, -5.4588, -2.849, -3.9691, -5.3337, -5.0452, -5.954, -5.5764, -6.1654, -6.7108, -1.1332, -2.5252, -2.919, -3.3277, -3.3647, -4.1817, -4.2261, -4.2773, -4.4553, -4.4839, -4.5367, -4.7979, -4.9423, -5.3823, -5.4672, -5.5108, -5.5118, -5.7616, -5.8932, -5.9655, -5.9767, -6.2048, -7.4646, -4.4076, -4.6968, -4.694, -6.8481, -11.9336, -11.9343, -11.9346, -1.8968, -3.0277, -3.0878, -3.296, -3.6338, -3.6994, -3.7019, -3.8214, -3.9021, -3.9589, -4.0204, -4.1976, -4.3222, -4.3496, -4.3545, -4.3995, -4.4592, -4.4679, -4.5394, -4.5486, -4.6511, -4.7036, -4.8447, -4.8451, -4.8465, -4.9352, -5.1678, -5.4257, -5.8702, -5.9369, -2.3585, -2.9364, -3.2104, -3.4964, -3.5088, -3.6277, -3.7418, -4.0485, -4.0942, -4.1566, -3.1731, -4.3714, -4.4291, -4.7487, -4.9402, -5.07, -5.077, -5.1065, -5.2066, -5.4105, -5.494, -5.5023, -5.6781, -5.9658, -6.058, -6.5387, -3.2441, -3.1345, -3.7773, -9.5395, -2.9376, -3.0645, -3.1459, -3.2146, -3.2755, -3.3944, -3.5641, -3.6779, -3.6815, -3.6871, -3.8182, -3.8714, -3.8828, -4.2107, -4.2928, -4.3114, -4.3341, -4.3572, -4.6329, -4.8246, -5.0967, -5.1117, -5.6107, -5.9546, -5.9548, -5.9548, -5.9574, -6.4117, -11.557, -11.557, -2.312, -2.6561, -3.6442, -3.9083, -4.0445, -4.2227, -4.2354, -4.2927, -4.5249, -4.6751, -4.8548, -4.9522, -5.0339, -5.2118, -5.7013, -5.7646, -5.8211, -5.8211, -6.0192, -6.3687, -6.9495, -4.9108, -3.7045, -11.2574, -11.2575, -11.2575, -11.2576, -11.2576, -11.2576, -11.2576, -11.2575, -11.2576, -11.2576, -2.6234, -2.7958, -3.5999, -3.9716, -4.1356, -4.2877, -4.3104, -4.5901, -4.7218, -4.738, -4.7777, -5.3566, -11.0985, -11.0985, -11.0985, -11.0985, -11.0985, -11.0985, -11.0985, -11.0985, -11.0985, -11.0985, -11.0985, -11.0985, -11.0985, -11.0985, -11.0985, -11.0985, -11.0985, -11.0985, -11.0985, -11.0985, -11.0985, -11.0985, -11.0985, -11.0985], \"loglift\": [30.0, 29.0, 28.0, 27.0, 26.0, 25.0, 24.0, 23.0, 22.0, 21.0, 20.0, 19.0, 18.0, 17.0, 16.0, 15.0, 14.0, 13.0, 12.0, 11.0, 10.0, 9.0, 8.0, 7.0, 6.0, 5.0, 4.0, 3.0, 2.0, 1.0, 1.2436, 1.2435, 1.2435, 1.2434, 1.2434, 1.2433, 1.2433, 1.2432, 1.2432, 1.2431, 1.243, 1.2429, 1.2429, 1.2428, 1.2428, 1.2428, 1.2427, 1.2426, 1.2426, 1.2425, 1.2425, 1.2424, 1.2424, 1.2423, 1.2423, 1.2422, 1.2422, 1.2421, 1.242, 1.2419, 1.2387, 1.2335, 1.233, 1.1964, 1.2265, 1.1948, 1.2013, 1.2048, 1.1926, 1.1922, 1.174, 1.1333, 1.1617, 1.0741, 1.0816, 1.0362, 1.0972, 1.2081, 0.9346, 1.0544, 1.1114, 0.9798, 0.9892, 1.0253, 1.0288, 0.7968, 0.9369, 0.7611, 1.0162, 0.6998, 0.5404, -0.2696, 0.3536, 0.2705, -0.1119, 1.7708, 1.7706, 1.7705, 1.7699, 1.7699, 1.7697, 1.7696, 1.7695, 1.7693, 1.7692, 1.7691, 1.769, 1.769, 1.769, 1.7688, 1.7685, 1.7684, 1.7684, 1.7684, 1.7683, 1.7682, 1.768, 1.768, 1.768, 1.7679, 1.7679, 1.7678, 1.7677, 1.7674, 1.7669, 1.7644, 1.7656, 1.6998, 1.6762, 1.7464, 1.6736, 1.7238, 1.7255, 1.6972, 1.6988, 1.6047, 1.6844, 1.6699, 1.5307, 1.5368, 1.5563, 1.6719, 1.5582, 1.6855, 1.2312, 1.3114, 1.5145, 1.2966, 1.3324, 1.3225, 1.4721, 1.2463, 1.4121, 1.5562, 1.0342, 1.1429, 0.9969, 1.3932, 0.447, 0.7303, 0.0829, 0.7801, 0.9482, 0.6977, 2.1811, 2.181, 2.181, 2.1809, 2.1807, 2.1807, 2.1806, 2.1805, 2.1805, 2.1805, 2.1805, 2.1804, 2.1804, 2.1804, 2.1802, 2.1802, 2.1802, 2.1802, 2.18, 2.1799, 2.1799, 2.1799, 2.1798, 2.1798, 2.1797, 2.1797, 2.1796, 2.1796, 2.1794, 2.1794, 2.1599, 2.1494, 2.1278, 2.112, 2.1268, 2.1033, 2.0711, 2.0054, 2.1146, 1.896, 1.6752, 1.4845, 1.6078, 1.792, 0.5566, 1.2128, 1.0008, 1.0087, 1.4095, 2.3302, 2.3301, 2.33, 2.3298, 2.3297, 2.3295, 2.3295, 2.3294, 2.3294, 2.3293, 2.3293, 2.3292, 2.3291, 2.329, 2.329, 2.3288, 2.3287, 2.3287, 2.3285, 2.3285, 2.3282, 2.3282, 2.3282, 2.328, 2.3279, 2.3278, 2.3277, 2.3274, 2.3274, 2.3272, 2.3196, 2.3167, 2.3224, 2.265, 2.1576, 2.1721, 2.1523, 2.1014, 1.9565, 2.1972, 1.7971, 2.1722, 2.0881, 1.8568, 1.7771, 1.6167, 1.8713, 1.0708, 2.0338, 1.7359, 1.3938, 0.19, 1.2272, 2.6477, 2.647, 2.6467, 2.6466, 2.6463, 2.6462, 2.6462, 2.6462, 2.646, 2.6457, 2.6457, 2.6456, 2.6455, 2.6453, 2.6452, 2.6452, 2.6449, 2.6448, 2.6446, 2.6446, 2.6446, 2.6446, 2.6445, 2.6444, 2.6444, 2.6442, 2.6442, 2.6442, 2.6441, 2.6438, 2.618, 2.5571, 2.5019, 2.4586, 2.315, 2.5022, 2.5588, 1.9583, 2.3745, 2.535, 2.0446, 2.2624, 2.1415, 2.0597, 2.3289, 2.0249, 1.8174, 2.1313, 1.2716, 2.0168, 1.5454, 2.1939, 1.4386, 0.9124, 0.2848, 2.843, 2.8422, 2.842, 2.8419, 2.8417, 2.8416, 2.8415, 2.8415, 2.8413, 2.8411, 2.8411, 2.8406, 2.8406, 2.8404, 2.8402, 2.84, 2.8398, 2.8394, 2.8393, 2.839, 2.8389, 2.8389, 2.8388, 2.8388, 2.8387, 2.8387, 2.8385, 2.8384, 2.8383, 2.8377, 3.0352, 3.035, 3.035, 3.0347, 3.0346, 3.0345, 3.0343, 3.0342, 3.0339, 3.0337, 3.0336, 3.0336, 3.0334, 3.0333, 3.0333, 3.0333, 3.0332, 3.0331, 3.033, 3.0329, 3.0329, 3.0328, 3.0328, 3.0328, 3.0327, 3.0326, 3.0325, 3.0322, 3.0322, 3.032, 3.0215, 3.0166, 3.0117, 2.9864, 2.9535, 2.8776, 2.9304, 2.9678, 2.9759, 2.8567, 2.623, 2.8228, 2.3917, 2.2236, 2.1202, 2.2902, 2.1943, 3.3511, 3.3508, 3.3504, 3.3503, 3.3501, 3.3499, 3.3496, 3.3495, 3.3495, 3.3494, 3.3493, 3.3493, 3.3491, 3.3491, 3.3491, 3.349, 3.3488, 3.3488, 3.3487, 3.3483, 3.3482, 3.3476, 3.3476, 3.3472, 3.3471, 3.3466, 3.3466, 3.3465, 3.3462, 3.3461, 3.3305, 3.2766, 3.1603, 3.1498, 2.8705, 2.894, 2.4765, 3.0473, 3.178, 3.0491, 2.1065, 1.2055, 2.0351, 1.785, 3.5454, 3.5444, 3.5441, 3.5441, 3.544, 3.544, 3.5438, 3.5435, 3.5432, 3.5432, 3.5429, 3.5429, 3.5429, 3.5428, 3.5426, 3.5424, 3.5422, 3.5416, 3.5414, 3.5409, 3.5407, 3.5403, 3.5403, 3.5402, 3.5396, 3.5396, 3.5394, 3.5384, 3.5381, 3.5372, 3.5343, 3.5084, 3.4339, 3.4753, 3.457, 3.4773, 3.3758, 3.4542, 3.4169, 2.4683, 3.3591, 2.7945, 2.2823, 1.8664, 3.9587, 3.9586, 3.9584, 3.9583, 3.9574, 3.957, 3.9569, 3.9568, 3.9555, 3.9548, 3.9548, 3.9546, 3.9541, 3.9536, 3.9533, 3.9532, 3.9532, 3.9526, 3.9525, 3.9525, 3.9522, 3.9518, 3.9515, 3.9504, 3.9502, 3.9492, 3.9488, 3.9477, 3.9477, 3.9476, 3.4781, 3.5157, 2.4445, 2.9726, 2.0154, 2.8727, 1.5588, 1.8059, 1.9894, 2.9028, 1.7179, 4.0372, 4.0371, 4.0355, 4.0351, 4.0349, 4.0348, 4.0347, 4.0344, 4.034, 4.0339, 4.0336, 4.0333, 4.033, 4.033, 4.033, 4.0321, 4.0321, 4.032, 4.0314, 4.0313, 4.0311, 4.031, 4.0309, 4.0306, 4.0302, 4.0299, 4.0297, 4.0295, 4.0295, 4.0294, 3.466, 3.5058, 2.59, 1.3631, 2.4553, 3.1271, 2.9329, 1.9208, 4.2991, 4.2989, 4.2987, 4.2985, 4.2984, 4.298, 4.2979, 4.2976, 4.2973, 4.2968, 4.2967, 4.296, 4.2959, 4.2953, 4.2952, 4.2947, 4.2947, 4.2947, 4.2946, 4.2946, 4.2944, 4.2942, 4.2942, 4.2937, 4.2936, 4.2934, 4.2928, 4.2923, 4.2922, 4.2921, 4.2263, 4.0274, 4.2609, 3.8454, 3.1506, 4.4769, 4.4768, 4.4767, 4.4757, 4.4757, 4.4754, 4.4739, 4.4729, 4.4724, 4.4722, 4.472, 4.4713, 4.4712, 4.471, 4.471, 4.4708, 4.4706, 4.4697, 4.4695, 4.4692, 4.4691, 4.4691, 4.469, 4.4688, 4.4676, 4.4662, 4.4647, 4.4636, 4.4616, 4.4609, 4.398, 4.3922, 4.1708, 4.1464, 3.4783, 2.2485, 0.374, 4.9183, 4.9167, 4.9166, 4.9157, 4.9146, 4.9143, 4.9135, 4.9124, 4.9101, 4.9094, 4.9092, 4.9081, 4.9044, 4.9044, 4.9024, 4.9024, 4.9019, 4.8961, 4.8926, 4.8683, 4.7761, 4.7676, 4.3374, 4.2267, 3.9828, 3.5042, 3.2641, 2.9434, 2.8737, 2.0554, 1.7961, 1.5014, 1.0666, 5.178, 5.1764, 5.1754, 5.1738, 5.1737, 5.1676, 5.1671, 5.1665, 5.1641, 5.1637, 5.1629, 5.1583, 5.1552, 5.1425, 5.1394, 5.1376, 5.1376, 5.1263, 5.1191, 5.1148, 5.1141, 5.0983, 4.9204, 2.7762, 2.4953, 2.4236, 1.9881, 1.8935, 1.8929, 1.8926, 5.3346, 5.3318, 5.3316, 5.3306, 5.3284, 5.3279, 5.3279, 5.3269, 5.3261, 5.3256, 5.3249, 5.3228, 5.3211, 5.3207, 5.3206, 5.3199, 5.319, 5.3188, 5.3176, 5.3174, 5.3154, 5.3143, 5.3111, 5.3111, 5.3111, 5.3088, 5.3018, 5.292, 5.2682, 5.2637, 5.5132, 5.5112, 5.5098, 5.5079, 5.5078, 5.5068, 5.5057, 5.5022, 5.5016, 5.5007, 5.4997, 5.4971, 5.496, 5.4887, 5.4831, 5.4787, 5.4784, 5.4773, 5.4734, 5.464, 5.4596, 5.4592, 5.4487, 5.4273, 5.4192, 5.3639, 5.2725, 4.7553, 4.3091, 4.0584, 5.5884, 5.5877, 5.5873, 5.5868, 5.5865, 5.5856, 5.5842, 5.5831, 5.5831, 5.583, 5.5816, 5.581, 5.5808, 5.5761, 5.5746, 5.5743, 5.5739, 5.5734, 5.5672, 5.5618, 5.5522, 5.5516, 5.5256, 5.4991, 5.4991, 5.4991, 5.4989, 5.4484, 2.2703, 2.2702, 6.1369, 6.1351, 6.1245, 6.1194, 6.1162, 6.1114, 6.111, 6.1093, 6.101, 6.0947, 6.0857, 6.0802, 6.0751, 6.0627, 6.016, 6.0084, 6.0011, 6.0011, 5.9729, 5.91, 5.7593, 5.7078, 4.1847, 2.5698, 2.5698, 2.5697, 2.5697, 2.5697, 2.5697, 2.5697, 2.5696, 2.5697, 2.5696, 6.5971, 6.5952, 6.581, 6.5696, 6.5631, 6.5561, 6.5549, 6.5387, 6.5295, 6.5283, 6.5252, 6.4655, 2.7288, 2.7288, 2.7288, 2.7288, 2.7288, 2.7288, 2.7288, 2.7288, 2.7288, 2.7288, 2.7288, 2.7288, 2.7288, 2.7288, 2.7288, 2.7288, 2.7288, 2.7288, 2.7288, 2.7288, 2.7288, 2.7287, 2.7287, 2.7286]}, \"token.table\": {\"Topic\": [16, 4, 3, 8, 7, 12, 5, 1, 2, 3, 4, 3, 2, 14, 13, 9, 2, 1, 12, 18, 14, 1, 2, 3, 4, 5, 11, 2, 12, 1, 5, 2, 16, 3, 14, 3, 5, 7, 1, 2, 3, 5, 7, 4, 9, 13, 13, 2, 1, 2, 11, 4, 17, 7, 8, 13, 15, 4, 3, 8, 20, 2, 9, 14, 9, 6, 1, 2, 9, 12, 15, 2, 20, 20, 9, 1, 4, 19, 4, 1, 4, 12, 4, 1, 2, 7, 9, 3, 5, 8, 15, 3, 7, 5, 8, 2, 8, 7, 10, 3, 7, 3, 4, 6, 6, 6, 10, 18, 6, 2, 3, 5, 8, 7, 12, 2, 12, 17, 10, 17, 2, 3, 1, 1, 5, 9, 7, 11, 1, 11, 14, 18, 4, 7, 13, 8, 4, 4, 4, 5, 9, 7, 4, 14, 17, 8, 6, 18, 2, 4, 5, 10, 13, 19, 7, 16, 11, 3, 16, 1, 2, 4, 8, 19, 11, 12, 17, 17, 3, 8, 7, 4, 11, 11, 9, 19, 1, 4, 20, 8, 14, 16, 19, 3, 16, 17, 9, 1, 7, 9, 1, 2, 1, 9, 10, 8, 13, 5, 9, 9, 6, 1, 3, 5, 12, 12, 10, 10, 1, 2, 9, 5, 8, 11, 2, 4, 7, 7, 2, 7, 19, 9, 10, 11, 10, 12, 2, 5, 8, 11, 3, 8, 11, 12, 16, 7, 1, 3, 8, 16, 15, 7, 20, 4, 15, 3, 14, 6, 8, 6, 13, 10, 1, 2, 14, 4, 13, 14, 18, 18, 2, 9, 15, 2, 2, 1, 6, 4, 11, 2, 1, 18, 7, 3, 19, 8, 3, 14, 12, 3, 10, 5, 13, 10, 1, 2, 4, 4, 4, 17, 16, 18, 13, 4, 1, 4, 17, 6, 12, 8, 1, 4, 4, 4, 10, 5, 1, 2, 5, 15, 19, 16, 7, 3, 4, 5, 10, 1, 3, 4, 5, 5, 7, 11, 1, 2, 4, 5, 10, 11, 13, 5, 14, 11, 18, 17, 1, 3, 4, 5, 14, 7, 1, 4, 7, 9, 13, 13, 3, 16, 18, 11, 5, 8, 18, 4, 10, 15, 10, 13, 1, 2, 3, 16, 1, 2, 4, 5, 10, 5, 1, 2, 1, 4, 1, 2, 9, 13, 3, 15, 4, 13, 7, 12, 11, 9, 2, 4, 15, 6, 1, 12, 8, 1, 2, 3, 7, 14, 13, 2, 5, 8, 11, 2, 10, 10, 5, 6, 1, 2, 3, 10, 12, 7, 10, 4, 19, 10, 6, 1, 5, 3, 7, 15, 6, 14, 3, 4, 11, 1, 2, 9, 11, 3, 9, 14, 3, 3, 4, 8, 13, 19, 5, 3, 2, 18, 15, 8, 12, 1, 10, 15, 16, 7, 1, 4, 8, 19, 19, 2, 8, 3, 10, 1, 2, 7, 13, 1, 2, 3, 17, 13, 14, 18, 7, 13, 2, 4, 10, 13, 11, 9, 6, 1, 4, 5, 7, 10, 17, 1, 2, 7, 18, 1, 5, 18, 8, 4, 1, 4, 7, 2, 7, 1, 1, 2, 3, 6, 8, 2, 3, 4, 8, 1, 4, 7, 16, 13, 1, 2, 3, 2, 4, 1, 1, 2, 6, 3, 3, 5, 1, 2, 3, 5, 4, 7, 19, 1, 3, 4, 11, 13, 8, 5, 17, 6, 1, 4, 9, 11, 15, 3, 15, 14, 1, 3, 8, 12, 2, 9, 1, 2, 2, 11, 11, 12, 1, 2, 14, 2, 11, 4, 17, 17, 13, 15, 8, 16, 6, 2, 3, 7, 6, 14, 1, 2, 7, 9, 13, 13, 15, 9, 11, 4, 13, 19, 1, 2, 3, 5, 8, 9, 1, 2, 2, 3, 4, 8, 5, 2, 3, 10, 19, 2, 1, 2, 3, 1, 2, 14, 13, 7, 12, 15, 12, 1, 3, 4, 8, 10, 11, 17, 4, 8, 13, 13, 10, 3, 9, 2, 3, 4, 1, 1, 3, 11, 1, 2, 3, 6, 8, 17, 5, 2, 18, 3, 16, 12, 1, 2, 4, 5, 6, 8, 17, 1, 2, 9, 3, 15, 17, 9, 17, 1, 4, 7, 9, 13, 2, 1, 16, 20, 8, 7, 19, 2, 10, 9, 10, 5, 11, 10, 3, 17, 18, 15, 19, 5, 15, 16, 1, 5, 10, 7, 19, 9, 13, 6, 5, 8, 2, 4, 9, 12, 12, 20, 17, 5, 4, 5, 6, 8, 1, 8, 5, 8, 5, 9, 1, 4, 5, 8, 12, 3, 11, 6, 3, 5, 11, 4, 9, 9, 1, 4, 1, 3, 4, 5, 8, 9, 18, 1, 8, 4, 15, 6, 8, 1, 3, 4, 5, 7, 11, 19, 11, 2, 12, 16, 5, 2, 9, 1, 17, 10, 1, 2, 7, 1, 4, 14, 4, 5, 6, 13, 8, 18, 5, 9, 1, 4, 9, 13, 12, 3, 4, 7, 11, 1, 3, 4, 5, 8, 11, 1, 3, 5, 11, 12, 4, 16, 9, 9, 1, 5, 13, 6, 8, 7, 1, 2, 7, 9, 1, 16, 11, 2, 18, 19, 2, 3, 10, 10, 13, 1, 2, 18, 1, 11, 3, 11, 18, 6, 1, 2, 4, 7, 6, 18, 1, 5, 5, 11, 10, 20, 3, 5, 15, 17, 2, 4, 5, 10, 8, 4, 11, 14, 8, 8, 1, 2, 4, 1, 8, 3, 4, 7, 1, 4, 13, 12, 11, 1, 3, 1, 3, 5, 7, 19, 7, 11, 18, 5, 15, 15, 15, 1, 2, 5, 10, 2, 11, 13, 6, 2, 5, 7, 13, 1, 4, 3, 19, 13, 8, 1, 5, 1, 2, 1, 13, 11, 20, 16, 11, 12, 11, 6, 16, 17, 20, 10, 11, 17, 1, 2, 5, 7, 10, 10, 1, 4, 9, 1, 4, 18, 7, 7, 2, 1, 2, 7, 4, 11, 1, 6, 17, 1, 3, 4, 9, 1, 2, 3, 20, 5, 1, 3, 5, 8, 16, 1, 2, 4, 7, 5, 9, 8, 3, 16, 10, 17, 8, 11, 1, 2, 7, 13, 1, 13, 3, 8, 3, 4, 1, 2, 1, 2, 16, 2, 11, 1, 2, 4, 5, 7, 16, 2, 10, 14, 5, 4, 7, 10, 11, 2, 13, 12, 5, 2, 17, 11, 9, 11, 14, 7, 14, 13, 4, 1, 2, 3, 13, 13, 2, 4, 5, 10, 14, 16, 12, 9, 4, 1, 6, 14, 16, 18, 14, 11, 1, 3, 5, 8, 14, 14, 5, 1, 2, 11, 3, 3, 3, 13, 9, 15, 16, 19, 9, 2, 1, 2, 3, 7, 13, 12, 9, 1, 2, 5, 13, 9, 2, 4, 20, 1, 2, 10, 3, 7, 4, 5, 5, 18, 10, 7, 18, 10, 14, 10, 12, 12, 7, 1, 4, 1, 2, 3, 5, 13, 14, 1, 4, 7, 13, 1, 13, 1, 2, 3, 1, 1, 2, 4, 10, 11, 13, 1, 4, 7, 10, 12], \"Freq\": [0.9667068198152063, 0.9990626331543851, 0.1724794304413276, 0.8252248611632484, 0.9971175166680866, 0.9922336771397547, 0.9978723359641343, 0.9891369570284388, 0.01041882245717908, 0.9465467804792957, 0.05258593224884976, 0.9977746753138238, 0.9983350837586822, 0.9865389064256064, 0.9906763214082197, 0.9963362577843822, 0.9968659485580545, 0.9994045290915066, 0.9975629512714538, 0.9765305030362941, 0.4155531998090945, 0.4948014614303627, 0.05403004463894765, 0.3094600079939726, 0.08313601295838075, 0.058379212318862936, 0.9950481054500862, 0.9987501510856461, 0.9882583594519271, 0.9650023628993505, 0.03438428248905509, 0.9985162130778755, 0.9953745221074505, 0.807653539601458, 0.19105782657238793, 0.9989003856705483, 0.9963900321038208, 0.9959969610395281, 0.06014015242398586, 0.013631767882770129, 0.057734546327026424, 0.39371753120236075, 0.47390440110100857, 0.9984558870352223, 0.9332456034678323, 0.06369332011798262, 0.9982643572142179, 0.9977640981193977, 0.7338675599591391, 0.26603079527344986, 0.9929428778717019, 0.998222327837868, 0.9757231217500572, 0.8995156095239997, 0.09546745855797166, 0.0031822486185990556, 0.9587545015728287, 0.9983490906150521, 0.9479003899513752, 0.05125496100538143, 0.9077506011762246, 0.7866545098003845, 0.08189827773264277, 0.12931307010417278, 0.9950768230817957, 0.9999758697796552, 0.00644459484922933, 0.993225794410638, 0.9940379607861939, 0.9925816529871855, 0.9909171680317899, 0.9977182609042755, 0.8544933864264754, 0.9862289445119503, 0.9970901320839867, 0.36774480462190184, 0.6315461459491142, 0.8430840415634085, 0.9989457568409028, 0.3116827630857437, 0.6877316409668689, 0.9961902172702987, 0.997845942864649, 0.005241694341372619, 0.9939562894827829, 0.9988554936818451, 0.9972285991657397, 0.08312262140266846, 0.2982366581095742, 0.6179390481198376, 0.9505368895244634, 0.017182933659717875, 0.9807489827315895, 0.9975535102424314, 0.9960980407563943, 0.18166546658769056, 0.8167047497898785, 0.9959393909232598, 0.9939183484133688, 0.9983476000016481, 0.997399101027258, 0.20406792447091093, 0.7953133705055502, 0.9957217202072757, 0.9977608133981881, 0.9985617583492614, 0.9917100476125968, 0.9831722804581609, 0.9968915533896533, 0.17248681344503883, 0.27826974200312904, 0.5363261855556676, 0.012801755685373974, 0.9959007382549974, 0.9979626554084791, 0.9993660409413947, 0.9966293180866522, 0.9913585250307231, 0.9957426622420357, 0.9806561287029162, 0.9994989053657063, 0.9995314146459683, 0.9982904672060297, 0.8063603577017382, 0.1098698397350841, 0.08361775413466578, 0.9206528993850046, 0.07839620758955279, 0.998156305942131, 0.9957013517689847, 0.9967963059592311, 0.9145295600493356, 0.5517783956876441, 0.4436376475363467, 0.003908701740408341, 0.9993834629077104, 0.9993040913440546, 0.9969985364828075, 0.9984023794801355, 0.9960183337799265, 0.998631398990523, 0.9987388666464125, 0.9992114580053924, 0.9890690062774873, 0.9077833602776222, 0.9981617501128628, 0.9984696411734114, 0.9901289976231438, 0.37591471555448963, 0.02484724132662938, 0.43763205691418194, 0.05290057830830771, 0.1074042044441399, 0.9809053890812902, 0.9967433071951112, 0.9845717579825278, 0.9937351723191667, 0.99880008745408, 0.999127763433785, 0.07143306909133168, 0.6447940749837019, 0.28362510618564146, 0.9961338288601601, 0.9266045581974195, 0.030645516533160833, 0.9622692191412502, 0.810316347506878, 0.9598150735287156, 0.9327958645179436, 0.06634535342112763, 0.9979295851515882, 0.9984250903313907, 0.9926446280927662, 0.9914622664001811, 0.9961748081005315, 0.9735119780775735, 0.982688384011259, 0.016597532403218703, 0.9494595127969019, 0.9967389654496317, 0.9762262608583656, 0.9878423370235544, 0.9950604840768512, 0.9993154490338955, 0.9910598769668097, 0.9591747310788684, 0.996082446717297, 0.0020916203291850267, 0.15268828403050697, 0.8439688028261584, 0.0812047077910321, 0.9177244373644039, 0.9993377099642905, 0.9966503654391118, 0.9937433316682394, 0.998592532711049, 0.9937185644452275, 0.9976515419151009, 0.9985189597290355, 0.9975220937601593, 0.9956114728807534, 0.03891360746642867, 0.08921656345961694, 0.8636922632792704, 0.006643786640609772, 0.9921855714265035, 0.9966028715021753, 0.9941343884166338, 0.2261107588807231, 0.7732540209643739, 0.9912922907324453, 0.9978297276627855, 0.9278490719936803, 0.07094218256692122, 0.698048415398158, 0.2690715257592019, 0.032288583091104224, 0.9975049345672319, 0.9975366167629748, 0.9989793922656705, 0.8861939400127947, 0.2872625078882519, 0.6414599690708538, 0.06693495329434997, 0.9851599606507774, 0.994114642347174, 0.029206156863393274, 0.6800862241047291, 0.17419386414952417, 0.11578155042273762, 0.4246592980903951, 0.1708399475076302, 0.4026941619822712, 0.9983961836433094, 0.9853446983173263, 0.999109478012571, 0.9991069836607633, 0.25951476090146225, 0.738128049449241, 0.9179806605034009, 0.9578297200925057, 0.9976342740538904, 0.9899987966210795, 0.998749727640205, 0.9972135695657548, 0.9546741975348771, 0.04367790446238, 0.9972493339559613, 0.9985474016432812, 0.9958829069858853, 0.9951363772394891, 0.9988583376385143, 0.4566137076136709, 0.2999060446456655, 0.24316706322621529, 0.817105534042891, 0.040084422424745594, 0.13875376993181168, 0.886745704001836, 0.9948845320491494, 0.9958891349207385, 0.9963712430902989, 0.9996051350253764, 0.998928368457526, 0.9965590973231517, 0.9982278773784201, 0.9976257364360006, 0.4338276975765297, 0.5643287122946727, 0.9966951066466744, 0.9985236657461282, 0.9897534719518911, 0.9974059862404726, 0.99923723577151, 0.9866044746556202, 0.9990443631484927, 0.9982674591379442, 0.9786553477325427, 0.9953496043726118, 0.9992223174673991, 0.9937512948195946, 0.9987130221103622, 0.9908158656198232, 0.9957834286352527, 0.9499892811423126, 0.04111460738141373, 0.008706622739593496, 0.9983691135433951, 0.9996913529232151, 0.9629952878757582, 0.9686765325000307, 0.9704340568553567, 0.9913157658142606, 0.9994434586050416, 0.2560780293422488, 0.7428217645042332, 0.9523915554341337, 0.9958136312909632, 0.9964335552238656, 0.9947535871799508, 0.6076020494524348, 0.39181814403942056, 0.9992175085483822, 0.9968866076715552, 0.9966662783636887, 0.9977126292787003, 0.9992233740052776, 0.6881486661980805, 0.22008358243271942, 0.09092655048863525, 0.9694604039112318, 0.9835649098078566, 0.9979883078353339, 0.9995141216223249, 0.1866216274929474, 0.192912244150013, 0.6185773046114548, 0.7749101666867044, 0.19762809620197833, 0.006934319164981695, 0.020059994727268476, 0.997971556056299, 0.9979772278801183, 0.9978274563600604, 0.2024355788714338, 0.35473398374807835, 0.15014196728547086, 0.1762887730784523, 0.09057037882929661, 0.005121539279037606, 0.02075571181504714, 0.9976614588716658, 0.9885182292418545, 0.9962268983323042, 0.9874332947081201, 0.9841554138272107, 0.034726608404051035, 0.35421140572132054, 0.4896451784971196, 0.12067496420407733, 0.9936167732740459, 0.9973678428748676, 0.02318789999835487, 0.18550319998683895, 0.6613592347356867, 0.08670258260254429, 0.04133495217098042, 0.9943073173898834, 0.9974045479636497, 0.9923781799331676, 0.9932886464613911, 0.9926784310875819, 0.9704416289648733, 0.027726903684710667, 0.9721522573185191, 0.9964479674696004, 0.9993343929721066, 0.9956949333842865, 0.9951149769336723, 0.9932371749092491, 0.02979378836156968, 0.9092307540310137, 0.060817161639648586, 0.9858924648588563, 0.9209493109969502, 0.04323705685431691, 0.025221616498351532, 0.005044323299670307, 0.0052845291710831785, 0.9949339543383529, 0.0689224897553285, 0.9308995058081059, 0.9989090324690302, 0.9984738890180574, 0.3778407166645121, 0.62212630654067, 0.9632443988231699, 0.03644948809575447, 0.9983200310349557, 0.9901534842033103, 0.0763522593936447, 0.9231682272140678, 0.23608886293688658, 0.7615769772157631, 0.9993281903972489, 0.9946758018680509, 0.9987273830696111, 0.9962160571908131, 0.9501702931869778, 0.9985276804986677, 0.9995342621743967, 0.9948258550569257, 0.9949802979591912, 0.3456289235700226, 0.09045756984059186, 0.563334642029656, 0.5927690820639876, 0.3951793880426584, 0.9815621621351565, 0.4111365747893126, 0.5469942728507864, 0.028062409763517544, 0.013363052268341688, 0.6260465979636648, 0.37299505252508064, 0.9937900075260022, 0.9959069890723803, 0.9975095358142969, 0.006235717066350365, 0.8464985917570621, 0.14705899414809612, 0.06803480956680798, 0.927747403183745, 0.9958094943752792, 0.9911258601591589, 0.9979004544994505, 0.9288210815766983, 0.9944150800230614, 0.9974067922547737, 0.9896308130812538, 0.009475818677019784, 0.9985469158916292, 0.9970874889287382, 0.9847063352206167, 0.9950879057019919, 0.9446379814528585, 0.8384708990479527, 0.15233666260398548, 0.008669566164454459, 0.06086676841550732, 0.42262209013031493, 0.3112244196340091, 0.20556889710143036, 0.1677947085543802, 0.8302945061225364, 0.885953150973568, 0.998852846491841, 0.7517693144504584, 0.03905865089672551, 0.20889795311057688, 0.9934218767508572, 0.7777282731970653, 0.9988014753218664, 0.9983344049297654, 0.9978529507839322, 0.9828240390047165, 0.965196395940589, 0.9973682425021909, 0.9980391085223603, 0.9983022277893806, 0.988471254183894, 0.9253647371640984, 0.9557531123233968, 0.9990544570184758, 0.37457640973341166, 0.5748449852344437, 0.05033204939840751, 0.9151516335918811, 0.8546248891143197, 0.998523767193813, 0.9997161553610753, 0.9688168739515497, 0.03022156023913034, 0.0022788062128242096, 0.9958383150041796, 0.9856251956669234, 0.013641871220303439, 0.8952212681525958, 0.1021947395722249, 0.0024415125495070794, 0.9774683682723448, 0.9784422800292508, 0.9941905110221312, 0.8869270800392198, 0.9412253839205056, 0.055852934870008024, 0.8078571877566227, 0.0728655502682444, 0.116313331794651, 0.0022629052878336774, 0.9984569684410611, 0.9994184972212539, 0.9976759826344527, 0.1341722164693681, 0.15798976968878256, 0.5319253552335895, 0.06668914901436049, 0.10876682636865936, 0.9917378866472153, 0.9979638518526738, 0.5990918593129847, 0.40017236172220794, 0.9898223290087059, 0.17171620900001647, 0.8272680892412558, 0.9924623271005008, 0.9982391836755967, 0.997399261372754, 0.031859508340401826, 0.9362794287791558, 0.030559120244875223, 0.9757554892940887, 0.02301310116259643, 0.9980675542475228, 0.22009053677095752, 0.5826432223433455, 0.19691103289831235, 0.00022950003834302138, 0.9953284692972022, 0.05999675997792859, 0.9249005473825229, 0.01485068316285361, 0.997493828598756, 0.04742897554064087, 0.09850633381517719, 0.8537215597315356, 0.989776417480524, 0.9916327016237769, 0.06287194521736743, 0.7909004926775653, 0.14598675158426605, 0.9302105290395737, 0.0694298388448478, 0.999262865209951, 0.20276579094464536, 0.7860835208839565, 0.010853224154216362, 0.9993241929376011, 0.9994917993282161, 0.9975556169904857, 0.9534597414628018, 0.04427122028300206, 0.0015681903642480292, 0.0006031501400953959, 0.8411100859985647, 0.15824274499295032, 0.9423347742837116, 0.8274063473764305, 0.030534347652955582, 0.14199712892268773, 0.9959133663262916, 0.989596722878439, 0.9976086023700174, 0.9966518126047262, 0.9565442794424973, 0.9982080197892474, 0.803376029284293, 0.19612196953139283, 0.9139666024955457, 0.08235743011498324, 0.9751841202359758, 0.9351863802303424, 0.06382864642730363, 0.9908826379367172, 0.25511486985098725, 0.4564337780160055, 0.28783612489709215, 0.9918240667037908, 0.9966700707213465, 0.9939996606695679, 0.9983372327857006, 0.9974097192144867, 0.9969725912007912, 0.9931741503914261, 0.9981631876414409, 0.9989120581141093, 0.09544644511346394, 0.9038920809625801, 0.9978286135819981, 0.998810389693127, 0.9963800111785677, 0.6982037874865508, 0.29813811363476805, 0.9953591876141668, 0.9936570682329234, 0.9970524279314317, 0.9980617284883107, 0.9944191190903819, 0.9987472793366632, 0.9050611638191428, 0.07441407307865511, 0.019533694183146967, 0.9965977324204256, 0.9847340155363276, 0.5606405974772318, 0.4389821202468923, 0.8084985725264918, 0.029639458870624955, 0.16137038718451363, 0.9905185818240886, 0.9914582232590239, 0.9893996052599715, 0.009854577741633183, 0.9972816980495975, 0.9898658728078982, 0.9767614141178271, 0.20640515323123965, 0.32991160067949415, 0.3795666630266629, 0.019988266622800985, 0.06396245319296315, 0.9913525226431136, 0.8758180393650744, 0.12381709409271377, 0.5334157036172391, 0.2612138698425244, 0.1108785451339205, 0.09414687278263069, 0.9986544505678492, 0.8066603505233941, 0.086538275151935, 0.10631845232952014, 0.9958668533069416, 0.995864692937021, 0.01464999082914615, 0.9068907784427203, 0.07832110481735825, 0.5443635955062295, 0.4321236789070069, 0.020577318043190806, 0.9961842442391131, 0.9348806863638849, 0.06319273029099819, 0.9534615694420223, 0.9927675086903951, 0.4979832711965427, 0.46223062608499604, 0.025218383605465945, 0.009895821414803092, 0.004149860593304523, 0.009159899288371744, 0.9846891734999625, 0.1567707946296228, 0.8403942597358467, 0.9815613726391114, 0.996389225061974, 0.9937256272051352, 0.08320140430744012, 0.91244206723826, 0.9284553334249472, 0.06087420363074014, 0.009898244492803276, 0.9989826891376958, 0.9995713118334214, 0.9977632365390234, 0.9968800366402903, 0.25775001698773486, 0.6312790752022291, 0.11021993675419106, 0.0006414351314501905, 0.9986496152912471, 0.9543703703690328, 0.9960988571333945, 0.9983164029788832, 0.9960912325479284, 0.9980878357082389, 0.976626747286719, 0.9921543726284116, 0.24268729950078236, 0.05229625309107768, 0.33175435554652405, 0.33216292002379805, 0.007762725068206843, 0.03309372265919759, 0.9947845757715491, 0.999069758572045, 0.9538140355865282, 0.04524019141121873, 0.9303336514896915, 0.0687592620361922, 0.9946386147165651, 0.9925475159823495, 0.9928243762230201, 0.8500051838740454, 0.07382674132239361, 0.05312532399212784, 0.006484781332372412, 0.01646136799756074, 0.9978286582456867, 0.9985608390043844, 0.9698347105613188, 0.9725962633127906, 0.9984756001058289, 0.9987680392930034, 0.8656635518871455, 0.6604571925951248, 0.3374388276577712, 0.9977310603647259, 0.9946156042812003, 0.9952939326164939, 0.9937398188107566, 0.9991570577941301, 0.9989285687082824, 0.9634794728695827, 0.9858864930306049, 0.9883651340541855, 0.9764653357472893, 0.9545923061312928, 0.04314541496638612, 0.969033052700511, 0.9614908729251975, 0.006778406370947705, 0.0312849524812971, 0.855612409578591, 0.14225340794949679, 0.9307957037148827, 0.06503376095824508, 0.9974775731906875, 0.892487967837916, 0.10467451474642225, 0.40448719720000764, 0.09144440103134709, 0.1862548536344002, 0.3164088477403666, 0.9911889785552516, 0.9189990123991891, 0.9884127276002862, 0.9974470696332137, 0.8536454930866415, 0.14511973382472906, 0.9982524088821069, 0.9966944990302443, 0.2610630697103044, 0.7381247506690154, 0.9997430274202909, 0.9953750298649194, 0.9978130238960633, 0.9967921543286977, 0.002516425716162968, 0.046553875749014914, 0.7272470319710979, 0.2227036758804227, 0.9916871090313112, 0.9978715337838714, 0.001803165041170711, 0.9972715656777537, 0.29614378818719, 0.3686687975391549, 0.3303917092700623, 0.9962907889382644, 0.9985556750659349, 0.9975891587796889, 0.010374612320382453, 0.9887005541324478, 0.0026344670663202016, 0.20285396410665552, 0.36829849587156416, 0.11644344433135291, 0.26818874735139653, 0.04109768623459514, 0.9657713289910596, 0.3666722355936185, 0.6330683738090811, 0.9980661099724096, 0.963212346055256, 0.9975271260171465, 0.9975263086135795, 0.9493555820652698, 0.024785170667001765, 0.00863303697389949, 0.016709103820450627, 0.997419161656679, 0.3205702521018972, 0.6411405042037944, 0.9932069324857045, 0.363876233656841, 0.6336892232391245, 0.9927451229031502, 0.9957048972744821, 0.5270728333779214, 0.47159148249603494, 0.9993133710693707, 0.9941745967448762, 0.9924286503391918, 0.31421449605827373, 0.6849519963649905, 0.9985333648093748, 0.4131963131529498, 0.5865591141062527, 0.997526359516442, 0.08611489279465574, 0.913025369389121, 0.9941072470853438, 0.9917462770421404, 0.9951409907636509, 0.9854783850142984, 0.8636090782889481, 0.13427137612973045, 0.999247147584406, 0.998381338877898, 0.9935319273151645, 0.9904139629161699, 0.9977389840830281, 0.23630301098835368, 0.11815150549417684, 0.5247956440354848, 0.12032607307995924, 0.21263104501109445, 0.16288083255657554, 0.009541136635113212, 0.5554304541155192, 0.04089058557905662, 0.01771925375092454, 0.395491291666644, 0.3471218531174861, 0.021813668365306505, 0.23520825019982666, 0.9948776367740881, 0.9966674977034805, 0.9811169650368173, 0.9930749433907742, 0.9931888903669902, 0.3990913104329817, 0.5969017860388943, 0.0034703592211563624, 0.9988652248419423, 0.9972960830930054, 0.9954191841827928, 0.47126936684415216, 0.1806153128967926, 0.007588878693142547, 0.3404876906989956, 0.9981147034742162, 0.9783465177535703, 0.9937777869396968, 0.9968735076529595, 0.990506552003268, 0.9647895134683808, 0.25390603599195993, 0.6026369306344798, 0.14317305960725996, 0.0748603184027871, 0.9182865724075218, 0.36136658213240885, 0.6383212792493322, 0.988758196823679, 0.4103231188665321, 0.5877601432412487, 0.9991842453827596, 0.996533695275175, 0.9583248714358727, 0.9971070691419466, 0.8436636234757918, 0.011424842652906463, 0.1175760506027267, 0.027175596601573624, 0.9984413280790811, 0.9767686883608631, 0.9984656559619675, 0.9986472600622265, 0.9150296037586736, 0.08336936389801249, 0.9974175665061822, 0.9436097115183791, 0.9986483043147935, 0.9957710902307032, 0.9966121133193238, 0.9970408156372302, 0.48340521477590975, 0.10122901310937109, 0.27434529639786076, 0.13937327891869933, 0.9974869243671952, 0.3531960656672032, 0.08603493907278026, 0.5584724115250649, 0.9981469589832279, 0.9987741400607516, 0.8634971199385105, 0.13314329308740147, 0.003223808549331755, 0.9994676543937694, 0.9979483794876497, 0.8954597109640223, 0.06284732602565116, 0.04128656454239857, 0.1458750734795299, 0.8531137565748383, 0.9927251644409758, 0.9950357756366688, 0.9972400490626454, 0.998308769688845, 0.9986814112909459, 0.037150239235102786, 0.46179158137811316, 0.43592749077139603, 0.06489535461321753, 0.9687905403887204, 0.9986334012178385, 0.9941300395354493, 0.8875661299899317, 0.9984461296461246, 0.7500936099829552, 0.9708975794210691, 0.9833412182488205, 0.03333298441335868, 0.17777591687124628, 0.7611031441050231, 0.02777748701113223, 0.9960688446897067, 0.9929483308730012, 0.9897888466032725, 0.9993462283777979, 0.34379928020460576, 0.6022307933155171, 0.04811637781644595, 0.00465642365965606, 0.006502531691968302, 0.9927198383071607, 0.9994799697834853, 0.8546248891143197, 0.9983162356768636, 0.9952436302393135, 0.3641134530157224, 0.6355826546724148, 0.9987119157235298, 0.9982707449202137, 0.9983825294360762, 0.9886272775293637, 0.9991371785320619, 0.9052507595380089, 0.9878824451158786, 0.9890490108438986, 0.9916811528564982, 0.9909042223230824, 0.9976983086319813, 0.9873907850596919, 0.9041403415606923, 0.9532586742066146, 0.9881275326909126, 0.21156150270183516, 0.783561121117908, 0.1152547341986249, 0.7413076872775368, 0.06861468611824752, 0.07399623012752182, 0.9877539136899408, 0.9938928039376973, 0.022707330827544836, 0.0831437651839334, 0.8939701475028805, 0.01172076619969941, 0.9860094565497128, 0.9905912815651383, 0.9972868410969523, 0.9961008816450174, 0.9963229979109676, 0.2071404668958088, 0.36072370280714994, 0.43082066688976206, 0.8753676852316377, 0.12303850334148934, 0.998263075811769, 0.9939549126846307, 0.9411525523848323, 0.06120989430663614, 0.6774941292914001, 0.10097016753145961, 0.15956425438909422, 0.7961955867296675, 0.19565966098188792, 0.007694481049849525, 0.9724569693908942, 0.9978183491248371, 0.018574540342853586, 0.49811724317286926, 0.06630911176158484, 0.4168286633928541, 0.970343700928734, 0.6170228657279843, 0.3417389764171692, 0.0048369208969814715, 0.036382057181643244, 0.7169320173455854, 0.28285006875837354, 0.9966909461667298, 0.9990670660125666, 0.994851888917149, 0.9993781999752133, 0.948523598601684, 0.979185038844033, 0.019720225414364724, 0.7355664780305247, 0.264102826724207, 0.2728145771437732, 0.7186335202811587, 0.26151757841616247, 0.7355181892954569, 0.978493259757084, 0.020492005439938933, 0.9995583481395369, 0.9968390875984755, 0.9324192949028709, 0.06730566864356355, 0.9518614237444187, 0.04787697779408614, 0.9165238613743202, 0.9950581586687227, 0.9907656193359954, 0.41049960940513813, 0.4785322794262665, 0.016739415422805857, 0.09414001517596321, 0.0001535726185578519, 0.9912422404741501, 0.8324698144925742, 0.13232417574429248, 0.03349979132766898, 0.9946900927564248, 0.07079775275548275, 0.45512841057096054, 0.34792038496980093, 0.12339036908812707, 0.6284467229586148, 0.3672740588719178, 0.9926303993609565, 0.9979567832345728, 0.5295615497819789, 0.46676769012403674, 0.9945711258569199, 0.8799979946057256, 0.06134034278753047, 0.05662185488079736, 0.9983325731182352, 0.9875395240443128, 0.9921968086430328, 0.9988627357627168, 0.7677058368917513, 0.09836964699010514, 0.1335855110677084, 0.997561999108704, 0.9964037755751466, 0.9170988110262266, 0.0648853343435294, 0.01740826043362984, 0.9916263565685853, 0.9856431717459038, 0.9821640175061698, 0.9979185064950902, 0.9962721585867638, 0.9976087650909241, 0.9945791124507255, 0.004531112129616061, 0.9877257018622347, 0.987098145566923, 0.9965479248533775, 0.9872723668796821, 0.9940325469642297, 0.07407709132963874, 0.3071178979589314, 0.5016894854857079, 0.11699729446054531, 0.995921714766025, 0.8181094360322978, 0.9984578207171801, 0.1931609576696672, 0.8064299345820205, 0.9955567606174762, 0.9990481651595188, 0.9987550205541451, 0.9986219692151942, 0.9973481906443062, 0.9946102596496789, 0.9156373569882617, 0.9817714948995309, 0.9212565579215446, 0.9980249945151285, 0.9979837844183653, 0.580322706972966, 0.37118594196004767, 0.048360225581080496, 0.9513012429915064, 0.04756506214957532, 0.9968667548617447, 0.997557295567225, 0.9581060265972419, 0.026706788197832527, 0.005118801071251234, 0.009792489005871926, 0.9982224521961808, 0.9551015654061926, 0.04402114210925662, 0.9636313973899363, 0.6393955846548114, 0.35315549391579704, 0.007234097640733273, 0.02210674464553883, 0.9758548707816426, 0.7848950888287963, 0.2139726561254382, 0.9978176389339959, 0.8869270800392198, 0.9958071258960592, 0.995913595364227, 0.8890417352241367, 0.9993908156086316, 0.9995930244226396, 0.9984656249141035, 0.9977261336278075, 0.9934989981029887, 0.9978640703149422, 0.16281272939184188, 0.8365957657589732, 0.07950975916968117, 0.4609527320067926, 0.19673568615062134, 0.2523925175693982, 0.009989687690549684, 0.9950949026426369, 0.36742371122536754, 0.6229170203555899, 0.003649904416146035, 0.0054748566242190525, 0.9970499858386784, 0.9801867920113729, 0.812338719288917, 0.18482316641516844, 0.0028233856209132664, 0.9989818273376496, 0.06794698127650843, 0.5914898309298485, 0.041924733128058396, 0.2199499545880896, 0.0689796101712882, 0.009706711610929777, 0.06846512429664259, 0.017116281074160647, 0.8360644986224623, 0.07768158333657525, 0.9959575425776251], \"Term\": [\"absurd\", \"accept\", \"access\", \"access\", \"account\", \"acquire\", \"actual\", \"actually\", \"actually\", \"address\", \"address\", \"advance\", \"advice\", \"afford\", \"aged\", \"agent\", \"ago\", \"agree\", \"air\", \"alarm\", \"alavi\", \"also\", \"also\", \"also\", \"also\", \"also\", \"ammunition\", \"amount\", \"amp\", \"answer\", \"answer\", \"anyway\", \"apple\", \"application\", \"application\", \"appreciate\", \"apr\", \"arab\", \"area\", \"area\", \"area\", \"area\", \"area\", \"argument\", \"arm\", \"arm\", \"armenian\", \"around\", \"article\", \"article\", \"astronomy\", \"atheist\", \"atom\", \"attack\", \"attack\", \"attack\", \"australian\", \"authority\", \"available\", \"available\", \"ave\", \"avoid\", \"avoid\", \"avoid\", \"aware\", \"ax\", \"back\", \"back\", \"ban\", \"band\", \"bank\", \"baseball\", \"batf_fbi\", \"battery\", \"bear\", \"become\", \"become\", \"bee\", \"belief\", \"believe\", \"believe\", \"benefit\", \"bible\", \"big\", \"big\", \"bike\", \"bill\", \"bit\", \"bit\", \"bit\", \"bk\", \"black\", \"black\", \"blank\", \"blind\", \"block\", \"block\", \"blood\", \"blue\", \"board\", \"bomb\", \"book\", \"book\", \"bounce\", \"box\", \"brain\", \"brave\", \"brief\", \"brown\", \"build\", \"build\", \"build\", \"build\", \"building\", \"bus\", \"buy\", \"cable\", \"camera\", \"canadian\", \"captain\", \"car\", \"card\", \"care\", \"case\", \"case\", \"case\", \"center\", \"center\", \"certainly\", \"channel\", \"character\", \"chase\", \"child\", \"child\", \"child\", \"chip\", \"christian\", \"christianity\", \"church\", \"circuit\", \"citizen\", \"city\", \"claim\", \"click\", \"clinton_gore\", \"clipper\", \"clipper_chip\", \"clock\", \"close\", \"close\", \"close\", \"close\", \"close\", \"closely\", \"club\", \"cmu\", \"collect\", \"color\", \"com\", \"come\", \"come\", \"come\", \"compile\", \"compiler\", \"component\", \"component\", \"comprehend\", \"comprise\", \"computer\", \"computer\", \"concept\", \"conclusion\", \"conference\", \"confirm\", \"connector\", \"conservative\", \"consider\", \"consider\", \"consult\", \"controller\", \"controversial\", \"cooperation\", \"cop\", \"copy\", \"corporation\", \"cosmic\", \"count\", \"country\", \"country\", \"country\", \"couple\", \"couple\", \"course\", \"court\", \"coverage\", \"cpu\", \"crack\", \"crash\", \"crime\", \"criminal\", \"crypto\", \"current\", \"current\", \"current\", \"current\", \"customer\", \"cycle\", \"cylinder\", \"d\", \"d\", \"danger\", \"data\", \"datum\", \"datum\", \"day\", \"day\", \"day\", \"dead\", \"dealer\", \"death\", \"deepak_chhabra\", \"defense\", \"defense\", \"defense\", \"deficit\", \"dept\", \"design\", \"design\", \"design\", \"design\", \"development\", \"development\", \"development\", \"device\", \"diagnostic\", \"die\", \"difference\", \"digital\", \"digital\", \"digital_equipment\", \"dinner\", \"direct\", \"directory\", \"discussion\", \"disk\", \"display\", \"display\", \"distance\", \"distribution\", \"distribution_usa\", \"distribution_world\", \"division\", \"do\", \"do\", \"do\", \"document\", \"document\", \"document\", \"dod_fxwg\", \"dog\", \"door\", \"draft\", \"drive\", \"driver\", \"drop\", \"drug\", \"dual\", \"earth\", \"earth\", \"eat\", \"effect\", \"electrical\", \"electronic\", \"email\", \"enable\", \"encryption\", \"engineering\", \"enhancement\", \"ensure\", \"entry\", \"era\", \"error\", \"escape\", \"european\", \"even\", \"even\", \"even\", \"event\", \"evidence\", \"evolve\", \"excellent_condition\", \"excerpt\", \"exclude\", \"exist\", \"explain\", \"explain\", \"explode\", \"export\", \"external\", \"facility\", \"fact\", \"fact\", \"faith\", \"family\", \"fan\", \"faq\", \"far\", \"fast\", \"fast\", \"fast\", \"fatal\", \"fee\", \"fight\", \"file\", \"final\", \"final\", \"final\", \"find\", \"find\", \"find\", \"find\", \"fine\", \"fire\", \"firearm\", \"first\", \"first\", \"first\", \"first\", \"first\", \"first\", \"first\", \"fix\", \"flag\", \"flight\", \"floppy\", \"flyer\", \"follow\", \"follow\", \"follow\", \"follow\", \"font\", \"foot\", \"force\", \"force\", \"force\", \"force\", \"force\", \"foreign\", \"format\", \"frame\", \"ftp_site\", \"fuel\", \"function\", \"function\", \"functionality\", \"future\", \"game\", \"gateway\", \"generate\", \"genocide\", \"get\", \"get\", \"get\", \"giant\", \"give\", \"give\", \"give\", \"give\", \"give\", \"gmt\", \"go\", \"go\", \"goal\", \"god\", \"good\", \"good\", \"government\", \"government\", \"graphic\", \"greatly_appreciate\", \"greek\", \"greek\", \"ground\", \"ground\", \"gun\", \"gun_control\", \"guy\", \"handle\", \"hassle\", \"headache\", \"hear\", \"heat\", \"helmet\", \"help\", \"help\", \"help\", \"helpful\", \"helpful\", \"hi\", \"high\", \"high\", \"high\", \"high\", \"hit\", \"hit\", \"hitter\", \"hole\", \"hopefully\", \"host\", \"host\", \"host\", \"hot\", \"hot\", \"house\", \"hr\", \"human\", \"hype\", \"ice\", \"ide\", \"idea\", \"idea\", \"image\", \"impression\", \"impressive\", \"improvement\", \"in\", \"include\", \"include\", \"include\", \"increase\", \"increase\", \"increase\", \"increase\", \"industry\", \"industry\", \"inferior\", \"info\", \"information\", \"information\", \"information\", \"inhabitant\", \"initialize\", \"input\", \"instal\", \"insurance\", \"intelligence\", \"interactive\", \"interface\", \"internal\", \"internet\", \"investment\", \"involved\", \"io\", \"israeli\", \"issue\", \"issue\", \"issue\", \"ist\", \"ists_ca\", \"job\", \"key\", \"keyword\", \"keyword\", \"kid\", \"kid\", \"kill\", \"kill\", \"know\", \"know\", \"know\", \"koresh\", \"kurd\", \"laboratory\", \"lady_cb\", \"land\", \"land\", \"last\", \"last\", \"last\", \"last\", \"launch\", \"law\", \"law_enforcement\", \"lead\", \"lead\", \"lead\", \"lead\", \"lead\", \"leafs\", \"learn\", \"leave\", \"leave\", \"length\", \"level\", \"level\", \"library\", \"license\", \"lie\", \"life\", \"life\", \"life\", \"light\", \"light\", \"likely\", \"line\", \"line\", \"line\", \"line\", \"link\", \"list\", \"list\", \"list\", \"listen\", \"live\", \"live\", \"live\", \"locate\", \"lock\", \"look\", \"look\", \"look\", \"lose\", \"lose\", \"lot\", \"m\", \"m\", \"m\", \"machine\", \"mail\", \"main\", \"make\", \"make\", \"make\", \"make\", \"man\", \"man\", \"manifest\", \"many\", \"many\", \"many\", \"mar\", \"massacre\", \"master\", \"material\", \"mathematical\", \"mb\", \"mean\", \"mean\", \"meet\", \"meet\", \"meg\", \"memory\", \"memory\", \"menu\", \"message\", \"message\", \"message\", \"middle\", \"mile\", \"million\", \"mind\", \"mine\", \"minute\", \"mirror\", \"mission\", \"model\", \"money\", \"money\", \"monitor\", \"month\", \"moon\", \"moral\", \"moral\", \"morality\", \"moslem\", \"motherboard\", \"motif\", \"mount\", \"mouse\", \"move\", \"move\", \"move\", \"mph\", \"ms_window\", \"much\", \"much\", \"murder\", \"murder\", \"murder\", \"muslim\", \"n\", \"national\", \"national\", \"nature\", \"nazi\", \"neat\", \"need\", \"need\", \"need\", \"need\", \"need\", \"neighbor\", \"never\", \"never\", \"new\", \"new\", \"new\", \"new\", \"newsgroup\", \"next\", \"next\", \"next\", \"nhl\", \"night\", \"nntp_poste\", \"nntp_poste\", \"nntp_poste\", \"normal\", \"normal\", \"normal\", \"northern\", \"notice\", \"notice\", \"ns\", \"nuclear\", \"number\", \"number\", \"number\", \"number\", \"number\", \"objective\", \"objective\", \"obtain\", \"obtain\", \"occupation\", \"occupy\", \"offense\", \"official\", \"official\", \"old\", \"old\", \"old\", \"one\", \"opinion\", \"option\", \"orbit\", \"organization\", \"organization\", \"organization\", \"organization\", \"originator\", \"outer\", \"output\", \"owner\", \"pack\", \"package\", \"paint\", \"panel\", \"part\", \"part\", \"part\", \"part\", \"part\", \"part\", \"past\", \"patient\", \"pay\", \"pay\", \"pc\", \"pc\", \"pen\", \"penalty\", \"penguin\", \"people\", \"people\", \"people\", \"people\", \"people\", \"performance\", \"perhaps\", \"peripheral\", \"phase\", \"phone\", \"physical\", \"physics_laboratory\", \"pick\", \"pick\", \"pin\", \"pitch\", \"plane\", \"planet\", \"play\", \"player\", \"playing\", \"please\", \"please_respond\", \"plot\", \"plug\", \"plug\", \"po_andrew\", \"point\", \"point\", \"point\", \"police\", \"police\", \"policy\", \"policy\", \"pop\", \"possibility\", \"possibility\", \"power\", \"power\", \"power\", \"power\", \"power_supply\", \"powerbook\", \"predict\", \"prefer\", \"present\", \"present\", \"printer\", \"privacy\", \"private\", \"private\", \"problem\", \"procedure\", \"process\", \"processor\", \"produce\", \"produce\", \"produce\", \"produce\", \"production\", \"program\", \"program\", \"programmer\", \"project\", \"project\", \"project\", \"proof\", \"protect\", \"protection\", \"prove\", \"prove\", \"provide\", \"provide\", \"provide\", \"provide\", \"provide\", \"provide\", \"pseudo\", \"public\", \"public\", \"publish\", \"purchasing\", \"purdue_university\", \"quality\", \"question\", \"question\", \"question\", \"question\", \"race\", \"radar\", \"radar\", \"radiation\", \"radio\", \"radio\", \"ram\", \"range\", \"rate\", \"rate\", \"rather\", \"rational\", \"rd\", \"re\", \"re\", \"reality\", \"reason\", \"reason\", \"recommend\", \"reference\", \"reference\", \"reflect\", \"region\", \"register\", \"regularly\", \"relate\", \"relate\", \"religion\", \"religious\", \"remind\", \"render\", \"replace\", \"report\", \"report\", \"report\", \"report\", \"require\", \"require\", \"require\", \"require\", \"require\", \"require\", \"research\", \"research\", \"research\", \"research\", \"reserve_university\", \"respect\", \"restore\", \"restrict\", \"restriction\", \"result\", \"result\", \"result\", \"review\", \"ride\", \"rider\", \"right\", \"right\", \"right\", \"right\", \"risk\", \"rob\", \"rocket\", \"room\", \"routine\", \"row\", \"run\", \"run\", \"run\", \"russian\", \"russian\", \"s\", \"s\", \"sad\", \"safety\", \"safety\", \"sale\", \"satellite\", \"satisfactory\", \"saturn\", \"say\", \"say\", \"say\", \"say\", \"sc\", \"scare\", \"school\", \"science\", \"scientific\", \"scientific\", \"score\", \"scott_roby\", \"screen\", \"scripture\", \"scsi\", \"season\", \"second\", \"second\", \"second\", \"second\", \"secret\", \"section\", \"section\", \"section\", \"secure\", \"security\", \"see\", \"see\", \"see\", \"seem\", \"self\", \"send\", \"send\", \"send\", \"sense\", \"sense\", \"serdar_argic\", \"serial\", \"series\", \"serious\", \"server\", \"set\", \"set\", \"set\", \"set\", \"sharp\", \"shoot\", \"shuttle\", \"si\", \"signal\", \"silverline\", \"simm\", \"simms\", \"single\", \"single\", \"single\", \"single\", \"sit\", \"sky\", \"slaughter\", \"slow\", \"small\", \"small\", \"small\", \"small\", \"society\", \"society\", \"software\", \"solar_terresterial\", \"soldier\", \"somehow\", \"sometimes\", \"sometimes\", \"soon\", \"sorry\", \"sort\", \"soviet\", \"space\", \"space_shuttle\", \"spacecraft\", \"speaker\", \"spec\", \"specification\", \"specify\", \"spring\", \"squad\", \"ssf\", \"staff\", \"star\", \"star\", \"start\", \"start\", \"start\", \"start\", \"starter\", \"stat\", \"state\", \"state\", \"state\", \"statement\", \"statement\", \"status\", \"stay\", \"step\", \"stick\", \"stop\", \"stop\", \"stop\", \"study\", \"study\", \"suggest\", \"suitable\", \"sunlight\", \"support\", \"support\", \"support\", \"support\", \"sure\", \"sure\", \"sure\", \"sustain\", \"switch\", \"system\", \"system\", \"system\", \"system\", \"tail\", \"take\", \"take\", \"take\", \"take\", \"talk\", \"talk\", \"tap\", \"tape\", \"task\", \"team\", \"team_captain\", \"technology\", \"technology\", \"tell\", \"tell\", \"territory\", \"territory\", \"terrorism\", \"terrorism\", \"test\", \"test\", \"thank\", \"therefore\", \"thing\", \"thing\", \"think\", \"think\", \"thunder\", \"ticket\", \"tie\", \"time\", \"time\", \"time\", \"time\", \"time\", \"tip\", \"top\", \"top\", \"top\", \"topic\", \"total\", \"total\", \"total\", \"total\", \"town\", \"town\", \"trace\", \"track\", \"trade\", \"trade\", \"training\", \"transfer\", \"transfer\", \"transfer\", \"trial\", \"trivial\", \"troop\", \"truth\", \"try\", \"try\", \"try\", \"turk\", \"turkish\", \"turn\", \"turn\", \"turn\", \"twice\", \"unable\", \"unique\", \"unit\", \"united_state\", \"universe\", \"university\", \"university\", \"unix\", \"up\", \"upgrade\", \"upper\", \"usage\", \"use\", \"use\", \"use\", \"use\", \"usenet\", \"user_interface\", \"value\", \"ve\", \"ve\", \"vehicle\", \"version\", \"version_pl\", \"video\", \"village\", \"violation\", \"visualization\", \"vms_vnews\", \"void\", \"vote\", \"wait\", \"want\", \"want\", \"want\", \"war\", \"war\", \"warranty\", \"watch\", \"way\", \"way\", \"way\", \"way\", \"weapon\", \"week\", \"week\", \"weeks_ago\", \"well\", \"well\", \"well\", \"white\", \"white\", \"whole\", \"whole\", \"wide\", \"wide_glide\", \"widget\", \"wife\", \"wild_corn\", \"win\", \"window\", \"wing\", \"wire\", \"wiring\", \"withdraw\", \"word\", \"word\", \"work\", \"work\", \"work\", \"work\", \"work\", \"workstation\", \"world\", \"world\", \"world\", \"world\", \"worth\", \"wound\", \"write\", \"write\", \"write\", \"wrong\", \"year\", \"year\", \"year\", \"year\", \"year\", \"year\", \"young\", \"young\", \"young\", \"young\", \"zone\"]}, \"R\": 30, \"lambda.step\": 0.01, \"plot.opts\": {\"xlab\": \"PC1\", \"ylab\": \"PC2\"}, \"topic.order\": [14, 17, 6, 5, 19, 2, 1, 18, 16, 15, 3, 20, 12, 10, 7, 4, 11, 13, 8, 9]};\n",
              "\n",
              "function LDAvis_load_lib(url, callback){\n",
              "  var s = document.createElement('script');\n",
              "  s.src = url;\n",
              "  s.async = true;\n",
              "  s.onreadystatechange = s.onload = callback;\n",
              "  s.onerror = function(){console.warn(\"failed to load library \" + url);};\n",
              "  document.getElementsByTagName(\"head\")[0].appendChild(s);\n",
              "}\n",
              "\n",
              "if(typeof(LDAvis) !== \"undefined\"){\n",
              "   // already loaded: just create the visualization\n",
              "   !function(LDAvis){\n",
              "       new LDAvis(\"#\" + \"ldavis_el771398887970121769992620129\", ldavis_el771398887970121769992620129_data);\n",
              "   }(LDAvis);\n",
              "}else if(typeof define === \"function\" && define.amd){\n",
              "   // require.js is available: use it to load d3/LDAvis\n",
              "   require.config({paths: {d3: \"https://d3js.org/d3.v5\"}});\n",
              "   require([\"d3\"], function(d3){\n",
              "      window.d3 = d3;\n",
              "      LDAvis_load_lib(\"https://cdn.jsdelivr.net/gh/bmabey/pyLDAvis@3.3.1/pyLDAvis/js/ldavis.v3.0.0.js\", function(){\n",
              "        new LDAvis(\"#\" + \"ldavis_el771398887970121769992620129\", ldavis_el771398887970121769992620129_data);\n",
              "      });\n",
              "    });\n",
              "}else{\n",
              "    // require.js not available: dynamically load d3 & LDAvis\n",
              "    LDAvis_load_lib(\"https://d3js.org/d3.v5.js\", function(){\n",
              "         LDAvis_load_lib(\"https://cdn.jsdelivr.net/gh/bmabey/pyLDAvis@3.3.1/pyLDAvis/js/ldavis.v3.0.0.js\", function(){\n",
              "                 new LDAvis(\"#\" + \"ldavis_el771398887970121769992620129\", ldavis_el771398887970121769992620129_data);\n",
              "            })\n",
              "         });\n",
              "}\n",
              "</script>"
            ]
          },
          "metadata": {},
          "execution_count": 9
        }
      ]
    },
    {
      "cell_type": "markdown",
      "source": [
        "**Step 9 Answer:**\n",
        "\n"
      ],
      "metadata": {
        "id": "Wzz_0UrbVBAU"
      }
    }
  ]
}