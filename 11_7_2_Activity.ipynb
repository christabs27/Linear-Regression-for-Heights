{
  "nbformat": 4,
  "nbformat_minor": 0,
  "metadata": {
    "colab": {
      "provenance": [],
      "collapsed_sections": [],
      "include_colab_link": true
    },
    "kernelspec": {
      "name": "python3",
      "display_name": "Python 3"
    },
    "language_info": {
      "name": "python"
    }
  },
  "cells": [
    {
      "cell_type": "markdown",
      "metadata": {
        "id": "view-in-github",
        "colab_type": "text"
      },
      "source": [
        "<a href=\"https://colab.research.google.com/github/christabs27/Linear-Regression-for-Heights/blob/main/11_7_2_Activity.ipynb\" target=\"_parent\"><img src=\"https://colab.research.google.com/assets/colab-badge.svg\" alt=\"Open In Colab\"/></a>"
      ]
    },
    {
      "cell_type": "markdown",
      "metadata": {
        "id": "g03AFAhWQAJJ"
      },
      "source": [
        "#Lesson 11.7.2 Activity\n",
        "\n",
        "Breast Cancer Detection\n",
        "\n",
        "According to the <a href=\"https://www.cancer.org/cancer/breast-cancer/about/how-common-is-breast-cancer.html\">American Cancer Society (n.d.)</a>, breast cancer is the second-most common type of cancer diagnosed in American women, behind only skin cancers. The average risk of an American woman developing breast cancer sometime in her life is about 13%. This means there is a 1 in 8 chance she will eventually develop breast cancer.\n",
        "\n",
        "Mammograms are used to detect breast cancer—hopefully at an early stage. However, many masses that appear on a mammogram are not actually cancerous. Developing a machine learning model to predict whether a tumor is benign or cancerous would be helpful for physicians as they guide and treat patients.\n",
        "\n",
        "In this module, you'll use two new ensemble methods—GradientBoost and AdaBoost—to classify the tumors as either benign or malignant. You'll determine if this model does a better or worse job classifying the tumors compared to previous models tried.  "
      ]
    },
    {
      "cell_type": "markdown",
      "metadata": {
        "id": "YVDbdDBDQVoS"
      },
      "source": [
        "#Step 1: Download and Save the `cancer.csv` Data Set from the Class Materials  \n",
        "\n",
        "* Make a note of where you saved the file on your computer."
      ]
    },
    {
      "cell_type": "markdown",
      "metadata": {
        "id": "63UbfVKeQfsl"
      },
      "source": [
        "#Step 2: Upload the `cancer.csv` Data Set by Running the Following Code Block \n",
        "\n",
        "* When prompted, navigate to and select the `cancer.csv` data set where you saved it on your computer."
      ]
    },
    {
      "cell_type": "code",
      "metadata": {
        "id": "bxSC_MgQQUis",
        "colab": {
          "base_uri": "https://localhost:8080/",
          "height": 73
        },
        "outputId": "3f86bbe0-0987-4d53-86e2-f3a62243a2ac"
      },
      "source": [
        "#Step 2\n",
        "\n",
        "from google.colab import files\n",
        "cancer = files.upload()"
      ],
      "execution_count": 1,
      "outputs": [
        {
          "output_type": "display_data",
          "data": {
            "text/plain": [
              "<IPython.core.display.HTML object>"
            ],
            "text/html": [
              "\n",
              "     <input type=\"file\" id=\"files-a4f617f7-b365-4c9f-9553-09fb2f0cb7d8\" name=\"files[]\" multiple disabled\n",
              "        style=\"border:none\" />\n",
              "     <output id=\"result-a4f617f7-b365-4c9f-9553-09fb2f0cb7d8\">\n",
              "      Upload widget is only available when the cell has been executed in the\n",
              "      current browser session. Please rerun this cell to enable.\n",
              "      </output>\n",
              "      <script>// Copyright 2017 Google LLC\n",
              "//\n",
              "// Licensed under the Apache License, Version 2.0 (the \"License\");\n",
              "// you may not use this file except in compliance with the License.\n",
              "// You may obtain a copy of the License at\n",
              "//\n",
              "//      http://www.apache.org/licenses/LICENSE-2.0\n",
              "//\n",
              "// Unless required by applicable law or agreed to in writing, software\n",
              "// distributed under the License is distributed on an \"AS IS\" BASIS,\n",
              "// WITHOUT WARRANTIES OR CONDITIONS OF ANY KIND, either express or implied.\n",
              "// See the License for the specific language governing permissions and\n",
              "// limitations under the License.\n",
              "\n",
              "/**\n",
              " * @fileoverview Helpers for google.colab Python module.\n",
              " */\n",
              "(function(scope) {\n",
              "function span(text, styleAttributes = {}) {\n",
              "  const element = document.createElement('span');\n",
              "  element.textContent = text;\n",
              "  for (const key of Object.keys(styleAttributes)) {\n",
              "    element.style[key] = styleAttributes[key];\n",
              "  }\n",
              "  return element;\n",
              "}\n",
              "\n",
              "// Max number of bytes which will be uploaded at a time.\n",
              "const MAX_PAYLOAD_SIZE = 100 * 1024;\n",
              "\n",
              "function _uploadFiles(inputId, outputId) {\n",
              "  const steps = uploadFilesStep(inputId, outputId);\n",
              "  const outputElement = document.getElementById(outputId);\n",
              "  // Cache steps on the outputElement to make it available for the next call\n",
              "  // to uploadFilesContinue from Python.\n",
              "  outputElement.steps = steps;\n",
              "\n",
              "  return _uploadFilesContinue(outputId);\n",
              "}\n",
              "\n",
              "// This is roughly an async generator (not supported in the browser yet),\n",
              "// where there are multiple asynchronous steps and the Python side is going\n",
              "// to poll for completion of each step.\n",
              "// This uses a Promise to block the python side on completion of each step,\n",
              "// then passes the result of the previous step as the input to the next step.\n",
              "function _uploadFilesContinue(outputId) {\n",
              "  const outputElement = document.getElementById(outputId);\n",
              "  const steps = outputElement.steps;\n",
              "\n",
              "  const next = steps.next(outputElement.lastPromiseValue);\n",
              "  return Promise.resolve(next.value.promise).then((value) => {\n",
              "    // Cache the last promise value to make it available to the next\n",
              "    // step of the generator.\n",
              "    outputElement.lastPromiseValue = value;\n",
              "    return next.value.response;\n",
              "  });\n",
              "}\n",
              "\n",
              "/**\n",
              " * Generator function which is called between each async step of the upload\n",
              " * process.\n",
              " * @param {string} inputId Element ID of the input file picker element.\n",
              " * @param {string} outputId Element ID of the output display.\n",
              " * @return {!Iterable<!Object>} Iterable of next steps.\n",
              " */\n",
              "function* uploadFilesStep(inputId, outputId) {\n",
              "  const inputElement = document.getElementById(inputId);\n",
              "  inputElement.disabled = false;\n",
              "\n",
              "  const outputElement = document.getElementById(outputId);\n",
              "  outputElement.innerHTML = '';\n",
              "\n",
              "  const pickedPromise = new Promise((resolve) => {\n",
              "    inputElement.addEventListener('change', (e) => {\n",
              "      resolve(e.target.files);\n",
              "    });\n",
              "  });\n",
              "\n",
              "  const cancel = document.createElement('button');\n",
              "  inputElement.parentElement.appendChild(cancel);\n",
              "  cancel.textContent = 'Cancel upload';\n",
              "  const cancelPromise = new Promise((resolve) => {\n",
              "    cancel.onclick = () => {\n",
              "      resolve(null);\n",
              "    };\n",
              "  });\n",
              "\n",
              "  // Wait for the user to pick the files.\n",
              "  const files = yield {\n",
              "    promise: Promise.race([pickedPromise, cancelPromise]),\n",
              "    response: {\n",
              "      action: 'starting',\n",
              "    }\n",
              "  };\n",
              "\n",
              "  cancel.remove();\n",
              "\n",
              "  // Disable the input element since further picks are not allowed.\n",
              "  inputElement.disabled = true;\n",
              "\n",
              "  if (!files) {\n",
              "    return {\n",
              "      response: {\n",
              "        action: 'complete',\n",
              "      }\n",
              "    };\n",
              "  }\n",
              "\n",
              "  for (const file of files) {\n",
              "    const li = document.createElement('li');\n",
              "    li.append(span(file.name, {fontWeight: 'bold'}));\n",
              "    li.append(span(\n",
              "        `(${file.type || 'n/a'}) - ${file.size} bytes, ` +\n",
              "        `last modified: ${\n",
              "            file.lastModifiedDate ? file.lastModifiedDate.toLocaleDateString() :\n",
              "                                    'n/a'} - `));\n",
              "    const percent = span('0% done');\n",
              "    li.appendChild(percent);\n",
              "\n",
              "    outputElement.appendChild(li);\n",
              "\n",
              "    const fileDataPromise = new Promise((resolve) => {\n",
              "      const reader = new FileReader();\n",
              "      reader.onload = (e) => {\n",
              "        resolve(e.target.result);\n",
              "      };\n",
              "      reader.readAsArrayBuffer(file);\n",
              "    });\n",
              "    // Wait for the data to be ready.\n",
              "    let fileData = yield {\n",
              "      promise: fileDataPromise,\n",
              "      response: {\n",
              "        action: 'continue',\n",
              "      }\n",
              "    };\n",
              "\n",
              "    // Use a chunked sending to avoid message size limits. See b/62115660.\n",
              "    let position = 0;\n",
              "    do {\n",
              "      const length = Math.min(fileData.byteLength - position, MAX_PAYLOAD_SIZE);\n",
              "      const chunk = new Uint8Array(fileData, position, length);\n",
              "      position += length;\n",
              "\n",
              "      const base64 = btoa(String.fromCharCode.apply(null, chunk));\n",
              "      yield {\n",
              "        response: {\n",
              "          action: 'append',\n",
              "          file: file.name,\n",
              "          data: base64,\n",
              "        },\n",
              "      };\n",
              "\n",
              "      let percentDone = fileData.byteLength === 0 ?\n",
              "          100 :\n",
              "          Math.round((position / fileData.byteLength) * 100);\n",
              "      percent.textContent = `${percentDone}% done`;\n",
              "\n",
              "    } while (position < fileData.byteLength);\n",
              "  }\n",
              "\n",
              "  // All done.\n",
              "  yield {\n",
              "    response: {\n",
              "      action: 'complete',\n",
              "    }\n",
              "  };\n",
              "}\n",
              "\n",
              "scope.google = scope.google || {};\n",
              "scope.google.colab = scope.google.colab || {};\n",
              "scope.google.colab._files = {\n",
              "  _uploadFiles,\n",
              "  _uploadFilesContinue,\n",
              "};\n",
              "})(self);\n",
              "</script> "
            ]
          },
          "metadata": {}
        },
        {
          "output_type": "stream",
          "name": "stdout",
          "text": [
            "Saving cancer.csv to cancer.csv\n"
          ]
        }
      ]
    },
    {
      "cell_type": "markdown",
      "metadata": {
        "id": "6mQ3_VhcR1WN"
      },
      "source": [
        "#Step 3: Import the Necessary Packages\n",
        "Import the following packages:\n",
        "```\n",
        "import pandas as pd\n",
        "import numpy as np\n",
        "import matplotlib.pyplot as plt\n",
        "from sklearn.model_selection import train_test_split\n",
        "from sklearn.impute import SimpleImputer\n",
        "from sklearn.preprocessing import StandardScaler\n",
        "from sklearn.pipeline import Pipeline\n",
        "from sklearn.model_selection import cross_val_score\n",
        "from sklearn import tree \n",
        "from sklearn.tree import DecisionTreeClassifier\n",
        "from sklearn.ensemble import RandomForestClassifier, GradientBoostingClassifier, AdaBoostClassifier\n",
        "```"
      ]
    },
    {
      "cell_type": "code",
      "metadata": {
        "id": "TCCjVheOTkv9"
      },
      "source": [
        "#Step 3\n",
        "import pandas as pd\n",
        "import numpy as np\n",
        "import matplotlib.pyplot as plt\n",
        "from sklearn.model_selection import train_test_split\n",
        "from sklearn.impute import SimpleImputer\n",
        "from sklearn.preprocessing import StandardScaler\n",
        "from sklearn.pipeline import Pipeline\n",
        "from sklearn.model_selection import cross_val_score\n",
        "from sklearn import tree \n",
        "from sklearn.tree import DecisionTreeClassifier\n",
        "from sklearn.ensemble import RandomForestClassifier, GradientBoostingClassifier, AdaBoostClassifier\n",
        "\n"
      ],
      "execution_count": 3,
      "outputs": []
    },
    {
      "cell_type": "markdown",
      "metadata": {
        "id": "N3aT3Y28TLRX"
      },
      "source": [
        "# Step 4: Create a Pandas Dataframe from the CSV File\n",
        "* Name the dataframe `cancer`.\n",
        "* Print the first five observations of `cancer`. Note the types of data the file contains."
      ]
    },
    {
      "cell_type": "code",
      "metadata": {
        "id": "zR3wX0-OTach",
        "colab": {
          "base_uri": "https://localhost:8080/"
        },
        "outputId": "28bfaa09-7da7-4ccf-b93e-facf4260b63e"
      },
      "source": [
        "#Step 4\n",
        "\n",
        "cancer=pd.read_csv('cancer.csv')\n",
        "cancer.describe\n",
        "\n"
      ],
      "execution_count": 4,
      "outputs": [
        {
          "output_type": "execute_result",
          "data": {
            "text/plain": [
              "<bound method NDFrame.describe of            id diagnosis  radius_mean  texture_mean  perimeter_mean  area_mean  \\\n",
              "0      842302         M        17.99         10.38          122.80     1001.0   \n",
              "1      842517         M        20.57         17.77          132.90     1326.0   \n",
              "2    84300903         M        19.69         21.25          130.00     1203.0   \n",
              "3    84348301         M        11.42         20.38           77.58      386.1   \n",
              "4    84358402         M        20.29         14.34          135.10     1297.0   \n",
              "..        ...       ...          ...           ...             ...        ...   \n",
              "564    926424         M        21.56         22.39          142.00     1479.0   \n",
              "565    926682         M        20.13         28.25          131.20     1261.0   \n",
              "566    926954         M        16.60         28.08          108.30      858.1   \n",
              "567    927241         M        20.60         29.33          140.10     1265.0   \n",
              "568     92751         B         7.76         24.54           47.92      181.0   \n",
              "\n",
              "     smoothness_mean  compactness_mean  concavity_mean  concave points_mean  \\\n",
              "0            0.11840           0.27760         0.30010              0.14710   \n",
              "1            0.08474           0.07864         0.08690              0.07017   \n",
              "2            0.10960           0.15990         0.19740              0.12790   \n",
              "3            0.14250           0.28390         0.24140              0.10520   \n",
              "4            0.10030           0.13280         0.19800              0.10430   \n",
              "..               ...               ...             ...                  ...   \n",
              "564          0.11100           0.11590         0.24390              0.13890   \n",
              "565          0.09780           0.10340         0.14400              0.09791   \n",
              "566          0.08455           0.10230         0.09251              0.05302   \n",
              "567              NaN           0.27700         0.35140              0.15200   \n",
              "568          0.05263           0.04362         0.00000              0.00000   \n",
              "\n",
              "     symmetry_mean  fractal_dimension_mean  \n",
              "0           0.2419                 0.07871  \n",
              "1           0.1812                 0.05667  \n",
              "2           0.2069                 0.05999  \n",
              "3           0.2597                 0.09744  \n",
              "4           0.1809                 0.05883  \n",
              "..             ...                     ...  \n",
              "564         0.1726                 0.05623  \n",
              "565            NaN                 0.05533  \n",
              "566         0.1590                 0.05648  \n",
              "567         0.2397                 0.07016  \n",
              "568         0.1587                 0.05884  \n",
              "\n",
              "[569 rows x 12 columns]>"
            ]
          },
          "metadata": {},
          "execution_count": 4
        }
      ]
    },
    {
      "cell_type": "markdown",
      "metadata": {
        "id": "jE33Y8Zwroo5"
      },
      "source": [
        "#Step 5: Convert the Variable `Diagnosis` into a Numeric Data Type  \n",
        "* There are many ways to accomplish this, but you may choose to work with the example shown below: \n",
        "\n",
        "```\n",
        "cancer.loc[cancer['diagnosis'] == 'M', 'cancer_present'] = 1\n",
        "cancer.loc[cancer['diagnosis'] == 'B', 'cancer_present'] = 0\n",
        "\n",
        "```\n",
        "* Name the result `cancer_present` and code the malignant tumors with a `1` and the benign tumors with a `0`.\n",
        "\n",
        "\n",
        "\n",
        "\n"
      ]
    },
    {
      "cell_type": "code",
      "metadata": {
        "id": "5gX5awwUqv3n"
      },
      "source": [
        "#Step 5\n",
        "\n",
        "cancer.loc[cancer['diagnosis'] == 'M', 'cancer_present'] = 1\n",
        "cancer.loc[cancer['diagnosis'] == 'B', 'cancer_present'] = 0\n"
      ],
      "execution_count": 5,
      "outputs": []
    },
    {
      "cell_type": "markdown",
      "metadata": {
        "id": "TvTdR9XSIFgv"
      },
      "source": [
        "#Step 6: Split the Data into the Target Variable and the Feature of Interest\n",
        "* The goal is to predict whether a tumor is benign or malignant (`cancer_present`) using the mean tumor perimeter measure (`perimeter_mean`).\n",
        "* Select all of the features of the cancer dataframe **except** `id`, `diagnosis`, and `cancer_present`. Name the resulting dataframe `X`.\n",
        "* Select the column `cancer_present` from the cancer dataframe and name it `y`. Make sure `y` is also a dataframe and not a series."
      ]
    },
    {
      "cell_type": "code",
      "metadata": {
        "id": "hg3a0vlgvnCo"
      },
      "source": [
        "#Step 6\n",
        "y = cancer['cancer_present']\n",
        "X = cancer.drop(['id','diagnosis','cancer_present'],axis=1)\n"
      ],
      "execution_count": 6,
      "outputs": []
    },
    {
      "cell_type": "markdown",
      "metadata": {
        "id": "tBgXFLgtaPCp"
      },
      "source": [
        "#Step 7: Split the Data into a Training Data Set and a Test Data Set\n",
        "* Use `train_test_split` from `sklearn.model_selection`.\n",
        "* Name the X training/validation set `X_train` and the y training/validation set `y_train`.\n",
        "* Name the X test set `X_test` and the y test set `y_test`.\n",
        "* Set `test_size = 0.25` and `random_state = 42` \n",
        "\n",
        "\n",
        "\n",
        "\n"
      ]
    },
    {
      "cell_type": "code",
      "metadata": {
        "id": "MYkE7EfObPDT"
      },
      "source": [
        "#Step 7\n",
        "X_train, X_test, y_train, y_test = train_test_split(X, y, test_size=0.25, random_state=42)\n"
      ],
      "execution_count": 7,
      "outputs": []
    },
    {
      "cell_type": "markdown",
      "metadata": {
        "id": "UuhZA4Mf7KO5"
      },
      "source": [
        "#Step 8: Build and Evaluate a Pipeline That Will Impute and Standardize the Data and Fit the AdaBoost Boosting Classifier with the Default Hyperparameters\n",
        "* The first step should be `SimpleImputer(missing_values=np.nan, strategy='mean'))`.\n",
        "* The second step should be `StandardScaler()`.\n",
        "* The third step should be `AdaBoostClassifier(random_state=42)`.  \n",
        "* Name the pipeline `AdaBoost`.\n",
        "* Fit the pipeline to `X_train` and `Y_train`.\n",
        "* Calculate and print the accuracy of each of the five models using `scores = cross_val_score(AdaBoost, X_train, y_train, cv=10)`.\n",
        "* Calculate and print the mean and standard deviation (SD) of the accuracy measures returned from cross-validation.\n",
        "\n",
        "\n",
        "\n",
        "\n"
      ]
    },
    {
      "cell_type": "code",
      "metadata": {
        "id": "e2rMzmiA7KO5",
        "colab": {
          "base_uri": "https://localhost:8080/"
        },
        "outputId": "b87ed8c4-f024-49c9-8288-4a122d424860"
      },
      "source": [
        "#Step 8\n",
        "AdaBoost = Pipeline([\n",
        "    ('imp_mean',SimpleImputer(missing_values=np.nan, strategy='mean')),\n",
        "    ('scaler', StandardScaler()),\n",
        "    ('AdaBoost', DecisionTreeClassifier(criterion='entropy',random_state=42))\n",
        "])\n",
        "AdaBoost.fit(X_train, y_train)"
      ],
      "execution_count": 8,
      "outputs": [
        {
          "output_type": "execute_result",
          "data": {
            "text/plain": [
              "Pipeline(steps=[('imp_mean', SimpleImputer()), ('scaler', StandardScaler()),\n",
              "                ('AdaBoost',\n",
              "                 DecisionTreeClassifier(criterion='entropy', random_state=42))])"
            ]
          },
          "metadata": {},
          "execution_count": 8
        }
      ]
    },
    {
      "cell_type": "markdown",
      "metadata": {
        "id": "jU5dQE_pwOba"
      },
      "source": [
        "#Step 9: Build and Evaluate a Pipeline That Will Impute and Standardize the Data and Fit the GradientBoost Boosting Classifier with the Default Hyperparameters\n",
        "* The first step should be `SimpleImputer(missing_values=np.nan, strategy='mean'))`.\n",
        "* The second step should be `StandardScaler()`.\n",
        "* The third step should be `GradientBoostingClassifier(random_state=42)`.  \n",
        "* Name the pipeline `GradientBoost`.\n",
        "* Fit the pipeline to `X_train` and `Y_train`.\n",
        "* Calculate and print the accuracy of each of the five models using `scores = cross_val_score(GradientBoost, X_train, y_train, cv=10)`.\n",
        "* Calculate and print the mean and SD of the accuracy measures returned from cross-validation.\n",
        "\n",
        "\n",
        "\n",
        "\n"
      ]
    },
    {
      "cell_type": "code",
      "metadata": {
        "id": "-0scOw0_wOba",
        "colab": {
          "base_uri": "https://localhost:8080/"
        },
        "outputId": "bcbde1da-6119-4c73-89f1-bcc44280c16e"
      },
      "source": [
        "#Step 9\n",
        "GradientBoost = Pipeline([\n",
        "    ('imp_mean',SimpleImputer(missing_values=np.nan, strategy='mean')),\n",
        "    ('scaler', StandardScaler()),\n",
        "    ('GradientBoost', DecisionTreeClassifier(criterion='entropy',random_state=42))\n",
        "])\n",
        "GradientBoost.fit(X_train, y_train)\n",
        "\n",
        "\n"
      ],
      "execution_count": 9,
      "outputs": [
        {
          "output_type": "execute_result",
          "data": {
            "text/plain": [
              "Pipeline(steps=[('imp_mean', SimpleImputer()), ('scaler', StandardScaler()),\n",
              "                ('GradientBoost',\n",
              "                 DecisionTreeClassifier(criterion='entropy', random_state=42))])"
            ]
          },
          "metadata": {},
          "execution_count": 9
        }
      ]
    },
    {
      "cell_type": "markdown",
      "source": [
        "#Step 10: Determine Which Boosting Algorithm Was Most Accurate"
      ],
      "metadata": {
        "id": "286vxdXTwxjB"
      }
    },
    {
      "cell_type": "markdown",
      "source": [
        "**Step 10 Answer:**\n",
        "\n"
      ],
      "metadata": {
        "id": "-I_Kj6T5w7kK"
      }
    },
    {
      "cell_type": "markdown",
      "metadata": {
        "id": "O-zYSj4UCql2"
      },
      "source": [
        "#Step 11: Given That for GradientBoost the Accuracy Also Depends Largely on the Values Selected for the Hyperparameters, Determine How Changing the Learning Rate Changes the Model Accuracy\n",
        "* Run the code block below to model the data.\n",
        "* Which learning rate produces the most accurate model?\n",
        "\n",
        "\n",
        "\n",
        "\n"
      ]
    },
    {
      "cell_type": "code",
      "source": [
        "#Step 11\n",
        "\n",
        "mean_accuracy = []\n",
        "\n",
        "for i in [0.10, 0.20, 0.30, 0.40, 0.50]:\n",
        "  pipe     = Pipeline([('imp_mean',SimpleImputer(missing_values=np.nan, strategy='mean')),\n",
        "                     ('scaler', StandardScaler()), \n",
        "                     ('Gradient', GradientBoostingClassifier(random_state=42, learning_rate=i))])\n",
        "\n",
        "  pipe.fit(X_train, y_train)\n",
        "  scores = cross_val_score(pipe, X_train, y_train, cv=10)\n",
        "  mean_accuracy.append(scores.mean())\n",
        "\n",
        "\n",
        "learning_rate_df = pd.DataFrame([0.10, 0.20, 0.30, 0.40, 0.50])\n",
        "learning_rate_df.rename({0:'learning rate'}, axis=1, inplace=True)\n",
        "\n",
        "mean_accuracy_df = pd.DataFrame(mean_accuracy)*100\n",
        "mean_accuracy_df.rename({0:'mean accuracy'}, axis=1, inplace=True)\n",
        "\n",
        "to_plot = pd.concat([learning_rate_df, mean_accuracy_df], axis=1)\n",
        "\n",
        "print(to_plot)\n",
        "\n",
        "plt.plot(to_plot['learning rate'], to_plot['mean accuracy'])\n",
        "plt.xlabel('Learning Rate')\n",
        "plt.ylabel('Mean accuracy %')\n",
        "plt.show()"
      ],
      "metadata": {
        "id": "bmOAZUFx-Fl0",
        "colab": {
          "base_uri": "https://localhost:8080/",
          "height": 384
        },
        "outputId": "9494a8a8-021e-491e-b513-d393a38a5647"
      },
      "execution_count": 10,
      "outputs": [
        {
          "output_type": "stream",
          "name": "stdout",
          "text": [
            "   learning rate  mean accuracy\n",
            "0            0.1      94.363234\n",
            "1            0.2      94.125138\n",
            "2            0.3      93.194906\n",
            "3            0.4      93.903654\n",
            "4            0.5      93.665559\n"
          ]
        },
        {
          "output_type": "display_data",
          "data": {
            "text/plain": [
              "<Figure size 432x288 with 1 Axes>"
            ],
            "image/png": "[encoded data removed]"
          },
          "metadata": {
            "needs_background": "light"
          }
        }
      ]
    },
    {
      "cell_type": "markdown",
      "source": [
        "**Step 11 Answer:**\n",
        "\n"
      ],
      "metadata": {
        "id": "93a1Z7mzR974"
      }
    },
    {
      "cell_type": "markdown",
      "metadata": {
        "id": "qmByyOEBdiA_"
      },
      "source": [
        "#Step 12: Evaluate the Model Using the Test Set  \n",
        "* This is the end of the model-building process for the breast cancer data. The current best-fitting model is the GradientBoost Classifier with a learning rate of .1 (which is the defaut learning rate).\n",
        "* Calculate the model accuracy for the test set using `GradientBoost.score(X_test, y_test)`.\n",
        "* Does the model still perform well on the new data?"
      ]
    },
    {
      "cell_type": "code",
      "metadata": {
        "id": "p9hD_0YbmqkI",
        "colab": {
          "base_uri": "https://localhost:8080/"
        },
        "outputId": "f1d1cd23-087d-4f8c-b98a-782643bb5245"
      },
      "source": [
        "#Step 12\n",
        "GradientBoost.score(X_test, y_test)"
      ],
      "execution_count": 11,
      "outputs": [
        {
          "output_type": "execute_result",
          "data": {
            "text/plain": [
              "0.916083916083916"
            ]
          },
          "metadata": {},
          "execution_count": 11
        }
      ]
    },
    {
      "cell_type": "markdown",
      "source": [
        "**Step 12 Answer:**\n",
        "\n"
      ],
      "metadata": {
        "id": "mkUgfpz6TPDn"
      }
    }
  ]
}