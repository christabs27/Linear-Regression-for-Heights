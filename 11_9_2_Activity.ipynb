{
  "nbformat": 4,
  "nbformat_minor": 0,
  "metadata": {
    "anaconda-cloud": {},
    "kernelspec": {
      "display_name": "Python 3",
      "language": "python",
      "name": "python3"
    },
    "language_info": {
      "codemirror_mode": {
        "name": "ipython",
        "version": 3
      },
      "file_extension": ".py",
      "mimetype": "text/x-python",
      "name": "python",
      "nbconvert_exporter": "python",
      "pygments_lexer": "ipython3",
      "version": "3.6.4"
    },
    "toc": {
      "nav_menu": {},
      "number_sections": false,
      "sideBar": true,
      "skip_h1_title": false,
      "title_cell": "Table of Contents",
      "title_sidebar": "Contents",
      "toc_cell": false,
      "toc_position": {},
      "toc_section_display": true,
      "toc_window_display": false
    },
    "varInspector": {
      "cols": {
        "lenName": 16,
        "lenType": 16,
        "lenVar": 40
      },
      "kernels_config": {
        "python": {
          "delete_cmd_postfix": "",
          "delete_cmd_prefix": "del ",
          "library": "var_list.py",
          "varRefreshCmd": "print(var_dic_list())"
        },
        "r": {
          "delete_cmd_postfix": ") ",
          "delete_cmd_prefix": "rm(",
          "library": "var_list.r",
          "varRefreshCmd": "cat(var_dic_list()) "
        }
      },
      "types_to_exclude": [
        "module",
        "function",
        "builtin_function_or_method",
        "instance",
        "_Feature"
      ],
      "window_display": false
    },
    "colab": {
      "provenance": [],
      "collapsed_sections": [],
      "include_colab_link": true
    }
  },
  "cells": [
    {
      "cell_type": "markdown",
      "metadata": {
        "id": "view-in-github",
        "colab_type": "text"
      },
      "source": [
        "<a href=\"https://colab.research.google.com/github/christabs27/Linear-Regression-for-Heights/blob/main/11_9_2_Activity.ipynb\" target=\"_parent\"><img src=\"https://colab.research.google.com/assets/colab-badge.svg\" alt=\"Open In Colab\"/></a>"
      ]
    },
    {
      "cell_type": "markdown",
      "metadata": {
        "id": "g03AFAhWQAJJ"
      },
      "source": [
        "#Lesson 11.9.2 Activity\n",
        "\n",
        "Customer Segmentation\n",
        "\n",
        "You work for a large retailer that has collected customer data on sex, marital status, age, income, education, and occupation through a customer loyalty program.\n",
        "\n",
        "The marketing department tasks you with defining groups of “similar” customers that it can use as the basis for new marketing campaigns.\n",
        "\n",
        "\n",
        "In this module, we'll cluster our customer data by building a dendrogram."
      ]
    },
    {
      "cell_type": "markdown",
      "metadata": {
        "id": "YVDbdDBDQVoS"
      },
      "source": [
        "#Step 1: Download and save the `segmentation data.csv` dataset from the class materials  \n",
        "\n",
        "* Make a note of where you saved the file on your computer."
      ]
    },
    {
      "cell_type": "markdown",
      "metadata": {
        "id": "63UbfVKeQfsl"
      },
      "source": [
        "#Step 2: Upload the `segmentation data.csv` dataset by running the following code block \n",
        "\n",
        "* When prompted, navigate to and select the `segmentation data.csv` dataset where you saved it on your computer."
      ]
    },
    {
      "cell_type": "code",
      "metadata": {
        "id": "bxSC_MgQQUis",
        "colab": {
          "base_uri": "https://localhost:8080/",
          "height": 73
        },
        "outputId": "a0e5fba0-8bec-433a-ff70-9c09ea28fb7f"
      },
      "source": [
        "#Step 2\n",
        "\n",
        "from google.colab import files\n",
        "segmentation = files.upload()"
      ],
      "execution_count": 1,
      "outputs": [
        {
          "output_type": "display_data",
          "data": {
            "text/plain": [
              "<IPython.core.display.HTML object>"
            ],
            "text/html": [
              "\n",
              "     <input type=\"file\" id=\"files-12816adb-4aee-45dc-9a43-0a518ecf7fc1\" name=\"files[]\" multiple disabled\n",
              "        style=\"border:none\" />\n",
              "     <output id=\"result-12816adb-4aee-45dc-9a43-0a518ecf7fc1\">\n",
              "      Upload widget is only available when the cell has been executed in the\n",
              "      current browser session. Please rerun this cell to enable.\n",
              "      </output>\n",
              "      <script>// Copyright 2017 Google LLC\n",
              "//\n",
              "// Licensed under the Apache License, Version 2.0 (the \"License\");\n",
              "// you may not use this file except in compliance with the License.\n",
              "// You may obtain a copy of the License at\n",
              "//\n",
              "//      http://www.apache.org/licenses/LICENSE-2.0\n",
              "//\n",
              "// Unless required by applicable law or agreed to in writing, software\n",
              "// distributed under the License is distributed on an \"AS IS\" BASIS,\n",
              "// WITHOUT WARRANTIES OR CONDITIONS OF ANY KIND, either express or implied.\n",
              "// See the License for the specific language governing permissions and\n",
              "// limitations under the License.\n",
              "\n",
              "/**\n",
              " * @fileoverview Helpers for google.colab Python module.\n",
              " */\n",
              "(function(scope) {\n",
              "function span(text, styleAttributes = {}) {\n",
              "  const element = document.createElement('span');\n",
              "  element.textContent = text;\n",
              "  for (const key of Object.keys(styleAttributes)) {\n",
              "    element.style[key] = styleAttributes[key];\n",
              "  }\n",
              "  return element;\n",
              "}\n",
              "\n",
              "// Max number of bytes which will be uploaded at a time.\n",
              "const MAX_PAYLOAD_SIZE = 100 * 1024;\n",
              "\n",
              "function _uploadFiles(inputId, outputId) {\n",
              "  const steps = uploadFilesStep(inputId, outputId);\n",
              "  const outputElement = document.getElementById(outputId);\n",
              "  // Cache steps on the outputElement to make it available for the next call\n",
              "  // to uploadFilesContinue from Python.\n",
              "  outputElement.steps = steps;\n",
              "\n",
              "  return _uploadFilesContinue(outputId);\n",
              "}\n",
              "\n",
              "// This is roughly an async generator (not supported in the browser yet),\n",
              "// where there are multiple asynchronous steps and the Python side is going\n",
              "// to poll for completion of each step.\n",
              "// This uses a Promise to block the python side on completion of each step,\n",
              "// then passes the result of the previous step as the input to the next step.\n",
              "function _uploadFilesContinue(outputId) {\n",
              "  const outputElement = document.getElementById(outputId);\n",
              "  const steps = outputElement.steps;\n",
              "\n",
              "  const next = steps.next(outputElement.lastPromiseValue);\n",
              "  return Promise.resolve(next.value.promise).then((value) => {\n",
              "    // Cache the last promise value to make it available to the next\n",
              "    // step of the generator.\n",
              "    outputElement.lastPromiseValue = value;\n",
              "    return next.value.response;\n",
              "  });\n",
              "}\n",
              "\n",
              "/**\n",
              " * Generator function which is called between each async step of the upload\n",
              " * process.\n",
              " * @param {string} inputId Element ID of the input file picker element.\n",
              " * @param {string} outputId Element ID of the output display.\n",
              " * @return {!Iterable<!Object>} Iterable of next steps.\n",
              " */\n",
              "function* uploadFilesStep(inputId, outputId) {\n",
              "  const inputElement = document.getElementById(inputId);\n",
              "  inputElement.disabled = false;\n",
              "\n",
              "  const outputElement = document.getElementById(outputId);\n",
              "  outputElement.innerHTML = '';\n",
              "\n",
              "  const pickedPromise = new Promise((resolve) => {\n",
              "    inputElement.addEventListener('change', (e) => {\n",
              "      resolve(e.target.files);\n",
              "    });\n",
              "  });\n",
              "\n",
              "  const cancel = document.createElement('button');\n",
              "  inputElement.parentElement.appendChild(cancel);\n",
              "  cancel.textContent = 'Cancel upload';\n",
              "  const cancelPromise = new Promise((resolve) => {\n",
              "    cancel.onclick = () => {\n",
              "      resolve(null);\n",
              "    };\n",
              "  });\n",
              "\n",
              "  // Wait for the user to pick the files.\n",
              "  const files = yield {\n",
              "    promise: Promise.race([pickedPromise, cancelPromise]),\n",
              "    response: {\n",
              "      action: 'starting',\n",
              "    }\n",
              "  };\n",
              "\n",
              "  cancel.remove();\n",
              "\n",
              "  // Disable the input element since further picks are not allowed.\n",
              "  inputElement.disabled = true;\n",
              "\n",
              "  if (!files) {\n",
              "    return {\n",
              "      response: {\n",
              "        action: 'complete',\n",
              "      }\n",
              "    };\n",
              "  }\n",
              "\n",
              "  for (const file of files) {\n",
              "    const li = document.createElement('li');\n",
              "    li.append(span(file.name, {fontWeight: 'bold'}));\n",
              "    li.append(span(\n",
              "        `(${file.type || 'n/a'}) - ${file.size} bytes, ` +\n",
              "        `last modified: ${\n",
              "            file.lastModifiedDate ? file.lastModifiedDate.toLocaleDateString() :\n",
              "                                    'n/a'} - `));\n",
              "    const percent = span('0% done');\n",
              "    li.appendChild(percent);\n",
              "\n",
              "    outputElement.appendChild(li);\n",
              "\n",
              "    const fileDataPromise = new Promise((resolve) => {\n",
              "      const reader = new FileReader();\n",
              "      reader.onload = (e) => {\n",
              "        resolve(e.target.result);\n",
              "      };\n",
              "      reader.readAsArrayBuffer(file);\n",
              "    });\n",
              "    // Wait for the data to be ready.\n",
              "    let fileData = yield {\n",
              "      promise: fileDataPromise,\n",
              "      response: {\n",
              "        action: 'continue',\n",
              "      }\n",
              "    };\n",
              "\n",
              "    // Use a chunked sending to avoid message size limits. See b/62115660.\n",
              "    let position = 0;\n",
              "    do {\n",
              "      const length = Math.min(fileData.byteLength - position, MAX_PAYLOAD_SIZE);\n",
              "      const chunk = new Uint8Array(fileData, position, length);\n",
              "      position += length;\n",
              "\n",
              "      const base64 = btoa(String.fromCharCode.apply(null, chunk));\n",
              "      yield {\n",
              "        response: {\n",
              "          action: 'append',\n",
              "          file: file.name,\n",
              "          data: base64,\n",
              "        },\n",
              "      };\n",
              "\n",
              "      let percentDone = fileData.byteLength === 0 ?\n",
              "          100 :\n",
              "          Math.round((position / fileData.byteLength) * 100);\n",
              "      percent.textContent = `${percentDone}% done`;\n",
              "\n",
              "    } while (position < fileData.byteLength);\n",
              "  }\n",
              "\n",
              "  // All done.\n",
              "  yield {\n",
              "    response: {\n",
              "      action: 'complete',\n",
              "    }\n",
              "  };\n",
              "}\n",
              "\n",
              "scope.google = scope.google || {};\n",
              "scope.google.colab = scope.google.colab || {};\n",
              "scope.google.colab._files = {\n",
              "  _uploadFiles,\n",
              "  _uploadFilesContinue,\n",
              "};\n",
              "})(self);\n",
              "</script> "
            ]
          },
          "metadata": {}
        },
        {
          "output_type": "stream",
          "name": "stdout",
          "text": [
            "Saving segmentation data.csv to segmentation data.csv\n"
          ]
        }
      ]
    },
    {
      "cell_type": "markdown",
      "metadata": {
        "id": "6mQ3_VhcR1WN"
      },
      "source": [
        "#Step 3: Import necessary packages\n",
        "\n",
        "```\n",
        "import pandas as pd\n",
        "import numpy as np\n",
        "import matplotlib.pyplot as plt\n",
        "from sklearn.preprocessing import StandardScaler\n",
        "import seaborn as sns\n",
        "import pandas as pd\n",
        "import numpy as np\n",
        "from sklearn import cluster, metrics\n",
        "import scipy.cluster.hierarchy as shc\n",
        "from sklearn.cluster import AgglomerativeClustering\n",
        "```"
      ]
    },
    {
      "cell_type": "code",
      "metadata": {
        "id": "TCCjVheOTkv9"
      },
      "source": [
        "#Step 3\n",
        "import pandas as pd\n",
        "import numpy as np\n",
        "import matplotlib.pyplot as plt\n",
        "from sklearn.preprocessing import StandardScaler\n",
        "import seaborn as sns\n",
        "import pandas as pd\n",
        "import numpy as np\n",
        "from sklearn import cluster, metrics\n",
        "import scipy.cluster.hierarchy as shc\n",
        "from sklearn.cluster import AgglomerativeClustering\n",
        "\n"
      ],
      "execution_count": 14,
      "outputs": []
    },
    {
      "cell_type": "markdown",
      "metadata": {
        "id": "N3aT3Y28TLRX"
      },
      "source": [
        "# Step 4: Create a Pandas DataFrame from the CSV file\n",
        "* Name the DataFrame `X`.\n",
        "* Print the first five observations of `X`.  Note the kinds of data it contains."
      ]
    },
    {
      "cell_type": "code",
      "metadata": {
        "id": "x9yIJer8n1-O"
      },
      "source": [
        "#Step 4\n",
        "X = pd.read_csv('segmentation data.csv')\n"
      ],
      "execution_count": 15,
      "outputs": []
    },
    {
      "cell_type": "markdown",
      "source": [
        "#Step 5: Select Important Features\n",
        "* Select the important features to be used in the clustering algorithm.  Hint: There is one feature that is probably *not* helpful and should be dropped."
      ],
      "metadata": {
        "id": "EL_lRdYagDP7"
      }
    },
    {
      "cell_type": "code",
      "source": [
        "#Step 5\n",
        "X = X.drop(['ID'], axis =1)\n",
        "# ID is not useful here"
      ],
      "metadata": {
        "id": "E8tjhVNTgaNX"
      },
      "execution_count": 16,
      "outputs": []
    },
    {
      "cell_type": "markdown",
      "source": [
        "#Step 6: Pre-processing\n",
        "\n",
        "* You can use the following code to one-hot-encode the categorical features:\n",
        "\n",
        "```\n",
        "categorical_cols = ['Sex','Marital status', 'Education', 'Occupation', 'Settlement size']\n",
        "\n",
        "X = pd.get_dummies(X, columns = categorical_cols)\n",
        "```\n",
        "\n",
        "* You can use the following code to scale the quantitative features:\n",
        "\n",
        "```\n",
        "ss = StandardScaler()\n",
        "\n",
        "X[['Age', 'Income']] = ss.fit_transform(X[['Age', 'Income']])\n",
        "```"
      ],
      "metadata": {
        "id": "uDKGV88Pl31w"
      }
    },
    {
      "cell_type": "code",
      "source": [
        "#Step 6\n",
        "categorical_cols = ['Sex','Marital status', 'Education', 'Occupation', 'Settlement size']\n",
        "\n",
        "X = pd.get_dummies(X, columns = categorical_cols)\n",
        "\n"
      ],
      "metadata": {
        "id": "sEuD2DqRh09-"
      },
      "execution_count": 17,
      "outputs": []
    },
    {
      "cell_type": "markdown",
      "source": [
        "#Step 7: Plot a dendrogram of the customer segmentation data\n",
        "* Run the following code block to plot a dendrogram of the customer segmentation data.\n",
        "* In the K-Means activity, we found that there might be eight clusters of customers represented in the data.  What can we say about the optimal number of clusters based on the dendrogram?"
      ],
      "metadata": {
        "id": "X0ChX0ePmoY1"
      }
    },
    {
      "cell_type": "code",
      "metadata": {
        "id": "pjKIm80Bn1-Q",
        "colab": {
          "base_uri": "https://localhost:8080/",
          "height": 447
        },
        "outputId": "76b6ec2f-7343-4bb1-98d8-7636fc262f8b"
      },
      "source": [
        "#Step 7\n",
        "\n",
        "plt.figure(figsize=(10, 7))\n",
        "plt.title(\"Customer Segmentation Data Dendogram\")\n",
        "dend = shc.dendrogram(shc.linkage(X, method='ward'))"
      ],
      "execution_count": 18,
      "outputs": [
        {
          "output_type": "display_data",
          "data": {
            "text/plain": [
              "<Figure size 720x504 with 1 Axes>"
            ],
            "image/png": "[encoded data removed]"
          },
          "metadata": {
            "needs_background": "light"
          }
        }
      ]
    },
    {
      "cell_type": "markdown",
      "source": [
        "**Step 7 Answer:**\n"
      ],
      "metadata": {
        "id": "7mO4NaT4rfzW"
      }
    },
    {
      "cell_type": "markdown",
      "source": [
        "#Step 8: Plot the clusters using agglomerative clustering\n",
        "* Again, we can't plot all of our features against the predicted clusters because there are just too many.  \n",
        "* Run the following code block to create a scatterplot each participant's age and income colored by the cluster they were assigned to.\n",
        "* Remember that the clusters may appear to overlap because they are being separated by other features, like sex and marital status, that aren't being shown on the graph.\n",
        "* What do you observe about how customers are being clustered?"
      ],
      "metadata": {
        "id": "ni5AEVhQqmkO"
      }
    },
    {
      "cell_type": "code",
      "metadata": {
        "id": "dKOkibrFQofd",
        "colab": {
          "base_uri": "https://localhost:8080/",
          "height": 421
        },
        "outputId": "1df3e100-4f0d-4075-b0a5-ef51949b56d7"
      },
      "source": [
        "#Step 8\n",
        "\n",
        "# labels_ are assigned to every observation based on the cluster the observation is assigned to\n",
        "\n",
        "\n",
        "cluster = AgglomerativeClustering(n_clusters=8, affinity='euclidean', linkage='ward')\n",
        "labels_ = cluster.fit_predict(X)\n",
        "labels = pd.DataFrame(labels_)\n",
        "\n",
        "# cluster_centers_ give coordinated of the cluster centroid across every feature\n",
        "labels.rename(columns={0: \"cluster\"}, inplace=True)\n",
        "\n",
        "X_orig = pd.read_csv('segmentation data.csv')\n",
        "graph = pd.concat([X_orig,labels], axis=1)\n",
        "\n",
        "sns.lmplot('Age','Income', data=graph, hue='cluster', fit_reg=False)"
      ],
      "execution_count": 19,
      "outputs": [
        {
          "output_type": "stream",
          "name": "stderr",
          "text": [
            "/usr/local/lib/python3.7/dist-packages/seaborn/_decorators.py:43: FutureWarning: Pass the following variables as keyword args: x, y. From version 0.12, the only valid positional argument will be `data`, and passing other arguments without an explicit keyword will result in an error or misinterpretation.\n",
            "  FutureWarning\n"
          ]
        },
        {
          "output_type": "execute_result",
          "data": {
            "text/plain": [
              "<seaborn.axisgrid.FacetGrid at 0x7f969e1ec510>"
            ]
          },
          "metadata": {},
          "execution_count": 19
        },
        {
          "output_type": "display_data",
          "data": {
            "text/plain": [
              "<Figure size 402.375x360 with 1 Axes>"
            ],
            "image/png": "[encoded data removed]"
          },
          "metadata": {
            "needs_background": "light"
          }
        }
      ]
    },
    {
      "cell_type": "markdown",
      "metadata": {
        "id": "AaxD1MtQQofd"
      },
      "source": [
        "**Step 8 Answer:**\n",
        "\n"
      ]
    }
  ]
}